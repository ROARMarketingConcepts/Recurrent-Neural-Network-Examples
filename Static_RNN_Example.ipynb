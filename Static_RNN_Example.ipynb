{
  "nbformat": 4,
  "nbformat_minor": 0,
  "metadata": {
    "colab": {
      "name": "Static RNN Example.ipynb",
      "version": "0.3.2",
      "provenance": [],
      "include_colab_link": true
    },
    "kernelspec": {
      "name": "python3",
      "display_name": "Python 3"
    }
  },
  "cells": [
    {
      "cell_type": "markdown",
      "metadata": {
        "id": "view-in-github",
        "colab_type": "text"
      },
      "source": [
        "<a href=\"https://colab.research.google.com/github/ROARMarketingConcepts/Recurrent-Neural-Network-Examples/blob/master/Static_RNN_Example.ipynb\" target=\"_parent\"><img src=\"https://colab.research.google.com/assets/colab-badge.svg\" alt=\"Open In Colab\"/></a>"
      ]
    },
    {
      "metadata": {
        "id": "QxEfdHVh0Seo",
        "colab_type": "code",
        "colab": {}
      },
      "cell_type": "code",
      "source": [
        "# To support both python 2 and python 3\n",
        "from __future__ import division, print_function, unicode_literals\n",
        "\n",
        "# Common imports\n",
        "import numpy as np\n",
        "import os\n",
        "\n",
        "# to make this notebook's output stable across runs\n",
        "def reset_graph(seed=42):\n",
        "    tf.reset_default_graph()\n",
        "    tf.set_random_seed(seed)\n",
        "    np.random.seed(seed)\n",
        "\n",
        "# To plot pretty figures\n",
        "%matplotlib inline\n",
        "import matplotlib\n",
        "import matplotlib.pyplot as plt\n",
        "plt.rcParams['axes.labelsize'] = 14\n",
        "plt.rcParams['xtick.labelsize'] = 12\n",
        "plt.rcParams['ytick.labelsize'] = 12\n",
        "\n",
        "# Where to save the figures\n",
        "PROJECT_ROOT_DIR = \".\"\n",
        "CHAPTER_ID = \"rnn\"\n",
        "\n",
        "def save_fig(fig_id, tight_layout=True):\n",
        "    path = os.path.join(PROJECT_ROOT_DIR, \"images\", CHAPTER_ID, fig_id + \".png\")\n",
        "    print(\"Saving figure\", fig_id)\n",
        "    if tight_layout:\n",
        "        plt.tight_layout()\n",
        "    plt.savefig(path, format='png', dpi=300)"
      ],
      "execution_count": 0,
      "outputs": []
    },
    {
      "metadata": {
        "id": "gBwacY1G0b_y",
        "colab_type": "code",
        "colab": {}
      },
      "cell_type": "code",
      "source": [
        "import tensorflow as tf"
      ],
      "execution_count": 0,
      "outputs": []
    },
    {
      "metadata": {
        "id": "j3GRK6bi0ogN",
        "colab_type": "code",
        "colab": {}
      },
      "cell_type": "code",
      "source": [
        "n_inputs = 3\n",
        "n_neurons = 5"
      ],
      "execution_count": 0,
      "outputs": []
    },
    {
      "metadata": {
        "id": "nF5ZcOFu0vu_",
        "colab_type": "code",
        "colab": {}
      },
      "cell_type": "code",
      "source": [
        "reset_graph()\n",
        "\n",
        "X0 = tf.placeholder(tf.float32, [None, n_inputs])\n",
        "X1 = tf.placeholder(tf.float32, [None, n_inputs])\n",
        "\n",
        "basic_cell = tf.contrib.rnn.BasicRNNCell(num_units=n_neurons)\n",
        "output_seqs, states = tf.contrib.rnn.static_rnn(basic_cell, [X0, X1],dtype=tf.float32)\n",
        "Y0, Y1 = output_seqs"
      ],
      "execution_count": 0,
      "outputs": []
    },
    {
      "metadata": {
        "id": "PJDxeGMN2svt",
        "colab_type": "code",
        "colab": {}
      },
      "cell_type": "code",
      "source": [
        "init = tf.global_variables_initializer()"
      ],
      "execution_count": 0,
      "outputs": []
    },
    {
      "metadata": {
        "id": "Ts__N_i93IVc",
        "colab_type": "code",
        "colab": {}
      },
      "cell_type": "code",
      "source": [
        "import numpy as np\n",
        "\n",
        "# Mini-batch:       instance 0, instance 1, instance 2, instance 3\n",
        "\n",
        "X0_batch = np.array([[0, 1, 2], [3, 4, 5], [6, 7, 8], [9, 0, 1]]) # t = 0\n",
        "X1_batch = np.array([[9, 8, 7], [0, 0, 0], [6, 5, 4], [3, 2, 1]]) # t = 1"
      ],
      "execution_count": 0,
      "outputs": []
    },
    {
      "metadata": {
        "id": "En7iDP1U23I6",
        "colab_type": "code",
        "colab": {}
      },
      "cell_type": "code",
      "source": [
        "with tf.Session() as sess:\n",
        "    init.run()\n",
        "    Y0_val, Y1_val = sess.run([Y0, Y1], feed_dict={X0: X0_batch, X1: X1_batch})"
      ],
      "execution_count": 0,
      "outputs": []
    },
    {
      "metadata": {
        "id": "oJ2g29683T2E",
        "colab_type": "code",
        "outputId": "a50be9b6-cdbf-4014-c891-129568a9cc4b",
        "colab": {
          "base_uri": "https://localhost:8080/",
          "height": 102
        }
      },
      "cell_type": "code",
      "source": [
        "Y0_val # (4,5) tensors for each of the 4 instances of X0"
      ],
      "execution_count": 0,
      "outputs": [
        {
          "output_type": "execute_result",
          "data": {
            "text/plain": [
              "array([[ 0.30741334, -0.32884315, -0.65428466, -0.9385059 ,  0.52089024],\n",
              "       [ 0.99122757, -0.95425403, -0.75180787, -0.9995208 ,  0.9820235 ],\n",
              "       [ 0.9999268 , -0.99783254, -0.8247353 , -0.9999963 ,  0.9994779 ],\n",
              "       [ 0.996771  , -0.68750614,  0.8419969 ,  0.93039113,  0.81206834]],\n",
              "      dtype=float32)"
            ]
          },
          "metadata": {
            "tags": []
          },
          "execution_count": 17
        }
      ]
    },
    {
      "metadata": {
        "id": "kpyH9Uum59hS",
        "colab_type": "code",
        "outputId": "6c7f027d-ba28-40fd-dc37-0c942df31eff",
        "colab": {
          "base_uri": "https://localhost:8080/",
          "height": 102
        }
      },
      "cell_type": "code",
      "source": [
        "Y1_val # (4,5) tensors for each of the 4 instances of X1 and Y0"
      ],
      "execution_count": 0,
      "outputs": [
        {
          "output_type": "execute_result",
          "data": {
            "text/plain": [
              "array([[ 0.999989  , -0.99976057, -0.0667929 , -0.9999803 ,  0.99982214],\n",
              "       [-0.6524943 , -0.51520866, -0.37968946, -0.59225935, -0.08968391],\n",
              "       [ 0.99862397, -0.99715203, -0.03308637, -0.9991566 ,  0.9932902 ],\n",
              "       [ 0.99681675, -0.9598194 ,  0.3966063 , -0.83076054,  0.7967197 ]],\n",
              "      dtype=float32)"
            ]
          },
          "metadata": {
            "tags": []
          },
          "execution_count": 18
        }
      ]
    },
    {
      "metadata": {
        "id": "xhhBB3V77rx0",
        "colab_type": "text"
      },
      "cell_type": "markdown",
      "source": [
        "### Packing Sequences"
      ]
    },
    {
      "metadata": {
        "id": "VApJ7ff67zoK",
        "colab_type": "code",
        "colab": {}
      },
      "cell_type": "code",
      "source": [
        "n_steps = 2\n",
        "n_inputs = 3\n",
        "n_neurons = 5"
      ],
      "execution_count": 0,
      "outputs": []
    },
    {
      "metadata": {
        "id": "mGG5H7WXA5Rs",
        "colab_type": "code",
        "colab": {}
      },
      "cell_type": "code",
      "source": [
        "reset_graph()\n",
        "\n",
        "X = tf.placeholder(tf.float32, [None, n_steps, n_inputs])\n",
        "X_seqs = tf.unstack(tf.transpose(X, perm=[1, 0, 2]))      # make n_steps (time steps) first dimension. Unstack tensors for each time step.\n",
        "\n",
        "basic_cell = tf.contrib.rnn.BasicRNNCell(num_units=n_neurons)\n",
        "output_seqs, states = tf.contrib.rnn.static_rnn(basic_cell, X_seqs,dtype=tf.float32)\n",
        "outputs = tf.transpose(tf.stack(output_seqs), perm=[1, 0, 2])"
      ],
      "execution_count": 0,
      "outputs": []
    },
    {
      "metadata": {
        "id": "c2CX53B5BkWR",
        "colab_type": "code",
        "colab": {}
      },
      "cell_type": "code",
      "source": [
        "init = tf.global_variables_initializer()"
      ],
      "execution_count": 0,
      "outputs": []
    },
    {
      "metadata": {
        "id": "FMGlCH4uB070",
        "colab_type": "code",
        "colab": {}
      },
      "cell_type": "code",
      "source": [
        "X_batch = np.array([\n",
        "        # t = 0      t = 1 \n",
        "        [[0, 1, 2], [9, 8, 7]], # instance 1\n",
        "        [[3, 4, 5], [0, 0, 0]], # instance 2\n",
        "        [[6, 7, 8], [6, 5, 4]], # instance 3\n",
        "        [[9, 0, 1], [3, 2, 1]], # instance 4\n",
        "    ])\n",
        "\n",
        "with tf.Session() as sess:\n",
        "    init.run()\n",
        "    outputs_val = outputs.eval(feed_dict={X: X_batch})"
      ],
      "execution_count": 0,
      "outputs": []
    },
    {
      "metadata": {
        "id": "DAZ6o6BRChco",
        "colab_type": "code",
        "outputId": "af0d06d1-ddb2-4afa-e629-86370c073384",
        "colab": {
          "base_uri": "https://localhost:8080/",
          "height": 204
        }
      },
      "cell_type": "code",
      "source": [
        "print(outputs_val) # tensors of dimension (2,3)*(3,5) = (2,5) for each instance"
      ],
      "execution_count": 0,
      "outputs": [
        {
          "output_type": "stream",
          "text": [
            "[[[-0.45652324 -0.68064123  0.40938237  0.63104504 -0.45732826]\n",
            "  [-0.94288    -0.999887    0.9405581   0.9999984  -0.9999998 ]]\n",
            "\n",
            " [[-0.80015343 -0.9921827   0.78177965  0.9971032  -0.9964609 ]\n",
            "  [-0.637116    0.11300927  0.5798437   0.4310559  -0.6371699 ]]\n",
            "\n",
            " [[-0.93605185 -0.9998379   0.9308867   0.9999814  -0.9999831 ]\n",
            "  [-0.9165386  -0.9945605   0.896054    0.99987197 -0.9999751 ]]\n",
            "\n",
            " [[ 0.9927367  -0.9981933  -0.55543643  0.9989031  -0.9953323 ]\n",
            "  [-0.02746338 -0.7319198   0.7827872   0.9525681  -0.978177  ]]]\n"
          ],
          "name": "stdout"
        }
      ]
    },
    {
      "metadata": {
        "id": "k8QFOF-0EBZ-",
        "colab_type": "code",
        "outputId": "6f87be56-470f-4353-d479-c2e5b8150cb0",
        "colab": {
          "base_uri": "https://localhost:8080/",
          "height": 85
        }
      },
      "cell_type": "code",
      "source": [
        "print(np.transpose(outputs_val, axes=[1, 0, 2])[1])"
      ],
      "execution_count": 0,
      "outputs": [
        {
          "output_type": "stream",
          "text": [
            "[[-0.94288    -0.999887    0.9405581   0.9999984  -0.9999998 ]\n",
            " [-0.637116    0.11300927  0.5798437   0.4310559  -0.6371699 ]\n",
            " [-0.9165386  -0.9945605   0.896054    0.99987197 -0.9999751 ]\n",
            " [-0.02746338 -0.7319198   0.7827872   0.9525681  -0.978177  ]]\n"
          ],
          "name": "stdout"
        }
      ]
    }
  ]
}