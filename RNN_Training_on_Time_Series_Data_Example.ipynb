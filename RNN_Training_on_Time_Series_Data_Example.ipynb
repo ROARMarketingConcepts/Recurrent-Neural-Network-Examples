{
  "nbformat": 4,
  "nbformat_minor": 0,
  "metadata": {
    "colab": {
      "name": "RNN Training on Time Series Data Example.ipynb",
      "version": "0.3.2",
      "provenance": [],
      "include_colab_link": true
    },
    "kernelspec": {
      "name": "python3",
      "display_name": "Python 3"
    }
  },
  "cells": [
    {
      "cell_type": "markdown",
      "metadata": {
        "id": "view-in-github",
        "colab_type": "text"
      },
      "source": [
        "<a href=\"https://colab.research.google.com/github/ROARMarketingConcepts/Recurrent-Neural-Network-Examples/blob/master/RNN_Training_on_Time_Series_Data_Example.ipynb\" target=\"_parent\"><img src=\"https://colab.research.google.com/assets/colab-badge.svg\" alt=\"Open In Colab\"/></a>"
      ]
    },
    {
      "metadata": {
        "id": "urxf2PZBLoGy",
        "colab_type": "text"
      },
      "cell_type": "markdown",
      "source": [
        "### This RNN will contain 100 recurrent neurons and we will unroll it over 20 time steps since each training instance will be 20 inputs long. Each input will contain only one feature (the value at that time). The targets are also sequences of 20 inputs, each containing a single value.\n"
      ]
    },
    {
      "metadata": {
        "id": "QxEfdHVh0Seo",
        "colab_type": "code",
        "colab": {}
      },
      "cell_type": "code",
      "source": [
        "# To support both python 2 and python 3\n",
        "from __future__ import division, print_function, unicode_literals\n",
        "\n",
        "# Common imports\n",
        "import numpy as np\n",
        "import os\n",
        "\n",
        "# to make this notebook's output stable across runs\n",
        "def reset_graph(seed=42):\n",
        "    tf.reset_default_graph()\n",
        "    tf.set_random_seed(seed)\n",
        "    np.random.seed(seed)\n",
        "\n",
        "# To plot pretty figures\n",
        "%matplotlib inline\n",
        "import matplotlib\n",
        "import matplotlib.pyplot as plt\n",
        "plt.rcParams['axes.labelsize'] = 14\n",
        "plt.rcParams['xtick.labelsize'] = 12\n",
        "plt.rcParams['ytick.labelsize'] = 12\n",
        "\n",
        "# Where to save the figures\n",
        "PROJECT_ROOT_DIR = \".\"\n",
        "CHAPTER_ID = \"rnn\"\n",
        "\n",
        "def save_fig(fig_id, tight_layout=True):\n",
        "    path = os.path.join(PROJECT_ROOT_DIR, \"images\", CHAPTER_ID, fig_id + \".png\")\n",
        "    print(\"Saving figure\", fig_id)\n",
        "    if tight_layout:\n",
        "        plt.tight_layout()\n",
        "    plt.savefig(path, format='png', dpi=300)"
      ],
      "execution_count": 0,
      "outputs": []
    },
    {
      "metadata": {
        "id": "gBwacY1G0b_y",
        "colab_type": "code",
        "colab": {}
      },
      "cell_type": "code",
      "source": [
        "import tensorflow as tf"
      ],
      "execution_count": 0,
      "outputs": []
    },
    {
      "metadata": {
        "id": "c-_HAwQzSyEE",
        "colab_type": "text"
      },
      "cell_type": "markdown",
      "source": [
        "Note: we will use `tf.layers.dense()` instead of `tensorflow.contrib.layers.fully_connected()`. The `dense()` function is almost identical to the `fully_connected()` function. The main relevant differences are:\n",
        "* several parameters are renamed: `scope` becomes `name`, `activation_fn` becomes `activation` (and similarly the `_fn` suffix is removed from other parameters such as `normalizer_fn`), `weights_initializer` becomes `kernel_initializer`, etc.\n",
        "* the default `activation` is now `None` rather than `tf.nn.relu`."
      ]
    },
    {
      "metadata": {
        "id": "p-BzMOO6FqqY",
        "colab_type": "code",
        "colab": {}
      },
      "cell_type": "code",
      "source": [
        "t_min, t_max = 0, 30\n",
        "resolution = 0.1\n",
        "\n",
        "def time_series(t):\n",
        "    return t * np.sin(t) / 3 + 2 * np.sin(t*5)\n",
        "\n",
        "def next_batch(batch_size, n_steps):\n",
        "    t0 = np.random.rand(batch_size, 1) * (t_max - t_min - n_steps * resolution) # t0 is randomly selected and must at least n_steps below t_max.\n",
        "    Ts = t0 + np.arange(0., n_steps + 1) * resolution                           # Array of evenly spaced values starting at t0\n",
        "    ys = time_series(Ts)\n",
        "    return ys[:, :-1].reshape(-1, n_steps, 1), ys[:, 1:].reshape(-1, n_steps, 1)"
      ],
      "execution_count": 0,
      "outputs": []
    },
    {
      "metadata": {
        "id": "iPteEE3pGBTg",
        "colab_type": "code",
        "colab": {
          "base_uri": "https://localhost:8080/",
          "height": 302
        },
        "outputId": "4c01732d-c424-48f5-88b9-63db8acf1168"
      },
      "cell_type": "code",
      "source": [
        "t = np.linspace(t_min, t_max, int((t_max - t_min) / resolution))\n",
        "\n",
        "n_steps = 20\n",
        "t_instance = np.linspace(12.2, 12.2 + resolution * (n_steps + 1), n_steps + 1)\n",
        "\n",
        "plt.figure(figsize=(11,4))\n",
        "plt.subplot(121)\n",
        "plt.title(\"A time series (generated)\", fontsize=14)\n",
        "plt.plot(t, time_series(t), label=r\"$t . \\sin(t) / 3 + 2 . \\sin(5t)$\")\n",
        "plt.plot(t_instance[:-1], time_series(t_instance[:-1]), \"b-\", linewidth=3, label=\"A training instance\") # t_instance[:-1] means omit last value of t_instance\n",
        "plt.legend(loc=\"lower left\", fontsize=14)\n",
        "plt.axis([0, 30, -17, 13])\n",
        "plt.xlabel(\"Time\")\n",
        "plt.ylabel(\"Value\")\n",
        "\n",
        "plt.subplot(122)\n",
        "plt.title(\"A training instance\", fontsize=14)\n",
        "plt.plot(t_instance[:-1], time_series(t_instance[:-1]), \"bo\", markersize=10, label=\"instance\")\n",
        "plt.plot(t_instance[1:], time_series(t_instance[1:]), \"w*\", markersize=10, label=\"target\")\n",
        "plt.legend(loc=\"upper left\")\n",
        "plt.xlabel(\"Time\")\n",
        "\n",
        "\n",
        "# save_fig(\"time_series_plot\")\n",
        "plt.show()"
      ],
      "execution_count": 4,
      "outputs": [
        {
          "output_type": "display_data",
          "data": {
            "image/png": "[encoded data removed]",
            "text/plain": [
              "<matplotlib.figure.Figure at 0x7f90eb40beb8>"
            ]
          },
          "metadata": {
            "tags": []
          }
        }
      ]
    },
    {
      "metadata": {
        "id": "44OOM1XYG3mQ",
        "colab_type": "code",
        "colab": {
          "base_uri": "https://localhost:8080/",
          "height": 51
        },
        "outputId": "e5f68032-3f11-4697-bfb1-d336a9b49137"
      },
      "cell_type": "code",
      "source": [
        "X_batch, y_batch = next_batch(1, n_steps)\n",
        "print(X_batch.shape,y_batch.shape)\n",
        "print(X_batch[0].shape,y_batch[0].shape)    # slice arrays along '0' dimension"
      ],
      "execution_count": 5,
      "outputs": [
        {
          "output_type": "stream",
          "text": [
            "(1, 20, 1) (1, 20, 1)\n",
            "(20, 1) (20, 1)\n"
          ],
          "name": "stdout"
        }
      ]
    },
    {
      "metadata": {
        "id": "Y-hzlY6v9ZW3",
        "colab_type": "code",
        "colab": {
          "base_uri": "https://localhost:8080/",
          "height": 357
        },
        "outputId": "5011d173-a9df-460e-daf9-3b32b643c8a8"
      },
      "cell_type": "code",
      "source": [
        "np.c_[X_batch[0], y_batch[0]]"
      ],
      "execution_count": 6,
      "outputs": [
        {
          "output_type": "execute_result",
          "data": {
            "text/plain": [
              "array([[-4.34317229, -4.32077163],\n",
              "       [-4.32077163, -4.58664975],\n",
              "       [-4.58664975, -4.93928067],\n",
              "       [-4.93928067, -5.14260352],\n",
              "       [-5.14260352, -4.98522144],\n",
              "       [-4.98522144, -4.33369368],\n",
              "       [-4.33369368, -3.16685858],\n",
              "       [-3.16685858, -1.58276824],\n",
              "       [-1.58276824,  0.22348017],\n",
              "       [ 0.22348017,  2.00560667],\n",
              "       [ 2.00560667,  3.52449433],\n",
              "       [ 3.52449433,  4.60475335],\n",
              "       [ 4.60475335,  5.17567411],\n",
              "       [ 5.17567411,  5.28656273],\n",
              "       [ 5.28656273,  5.09272455],\n",
              "       [ 5.09272455,  4.81554727],\n",
              "       [ 4.81554727,  4.68647643],\n",
              "       [ 4.68647643,  4.8886189 ],\n",
              "       [ 4.8886189 ,  5.51029029],\n",
              "       [ 5.51029029,  6.52189667]])"
            ]
          },
          "metadata": {
            "tags": []
          },
          "execution_count": 6
        }
      ]
    },
    {
      "metadata": {
        "id": "M9bBow1--tOA",
        "colab_type": "text"
      },
      "cell_type": "markdown",
      "source": [
        "### Let's create the RNN. It will contain 100 recurrent neurons and we will unroll it over 20 time steps since each training instance will be 20 inputs long. Each input will contain only one feature (the value at that time). The targets are also sequences of 20 inputs, each containing a single value:"
      ]
    },
    {
      "metadata": {
        "id": "EopHf88hG9HU",
        "colab_type": "code",
        "outputId": "730ad380-7790-4ae7-d4df-233789f531d1",
        "colab": {
          "base_uri": "https://localhost:8080/",
          "height": 93
        }
      },
      "cell_type": "code",
      "source": [
        "reset_graph()\n",
        "\n",
        "n_steps = 20\n",
        "n_inputs = 1\n",
        "n_neurons = 100\n",
        "n_outputs = 1\n",
        "\n",
        "X = tf.placeholder(tf.float32, [None, n_steps, n_inputs])\n",
        "y = tf.placeholder(tf.float32, [None, n_steps, n_outputs])\n",
        "\n",
        "cell = tf.contrib.rnn.BasicRNNCell(num_units=n_neurons, activation=tf.nn.relu)\n",
        "outputs, states = tf.nn.dynamic_rnn(cell, X, dtype=tf.float32)                                 # shape of (10000,)"
      ],
      "execution_count": 7,
      "outputs": [
        {
          "output_type": "stream",
          "text": [
            "WARNING:tensorflow:From <ipython-input-7-f8cf7a937196>:11: BasicRNNCell.__init__ (from tensorflow.python.ops.rnn_cell_impl) is deprecated and will be removed in a future version.\n",
            "Instructions for updating:\n",
            "This class is equivalent as tf.keras.layers.SimpleRNNCell, and will be replaced by that in Tensorflow 2.0.\n"
          ],
          "name": "stdout"
        }
      ]
    },
    {
      "metadata": {
        "id": "yEZGhLt4_XsB",
        "colab_type": "text"
      },
      "cell_type": "markdown",
      "source": [
        "### At each time step we now have an output vector of size 100. But what we actually want is a single output value at each time step. The simplest solution is to wrap the cell in an `OutputProjectionWrapper`."
      ]
    },
    {
      "metadata": {
        "id": "RyYDUWP_HDs2",
        "colab_type": "code",
        "colab": {}
      },
      "cell_type": "code",
      "source": [
        "reset_graph()\n",
        "\n",
        "n_steps = 20\n",
        "n_inputs = 1\n",
        "n_neurons = 100\n",
        "n_outputs = 1\n",
        "\n",
        "X = tf.placeholder(tf.float32, [None, n_steps, n_inputs])\n",
        "y = tf.placeholder(tf.float32, [None, n_steps, n_outputs])\n",
        "\n",
        "cell = tf.contrib.rnn.OutputProjectionWrapper(\n",
        "    tf.contrib.rnn.BasicRNNCell(num_units=n_neurons, activation=tf.nn.relu),\n",
        "    output_size=n_outputs)"
      ],
      "execution_count": 0,
      "outputs": []
    },
    {
      "metadata": {
        "id": "wN6XkeDDAI_l",
        "colab_type": "code",
        "colab": {}
      },
      "cell_type": "code",
      "source": [
        "outputs, states = tf.nn.dynamic_rnn(cell, X, dtype=tf.float32)"
      ],
      "execution_count": 0,
      "outputs": []
    },
    {
      "metadata": {
        "id": "YOTsy1soAgj9",
        "colab_type": "code",
        "colab": {}
      },
      "cell_type": "code",
      "source": [
        "learning_rate = 0.001\n",
        "\n",
        "loss = tf.reduce_mean(tf.square(outputs - y)) # MSE\n",
        "optimizer = tf.train.AdamOptimizer(learning_rate=learning_rate)\n",
        "training_op = optimizer.minimize(loss)"
      ],
      "execution_count": 0,
      "outputs": []
    },
    {
      "metadata": {
        "id": "UvdWbhxnApZj",
        "colab_type": "code",
        "colab": {}
      },
      "cell_type": "code",
      "source": [
        "init = tf.global_variables_initializer()"
      ],
      "execution_count": 0,
      "outputs": []
    },
    {
      "metadata": {
        "id": "Q-EeccAoAtt4",
        "colab_type": "code",
        "colab": {}
      },
      "cell_type": "code",
      "source": [
        "saver = tf.train.Saver()  # The Saver class adds ops to save and restore variables to and from checkpoints. "
      ],
      "execution_count": 0,
      "outputs": []
    },
    {
      "metadata": {
        "id": "4_12as9IBIiG",
        "colab_type": "code",
        "colab": {
          "base_uri": "https://localhost:8080/",
          "height": 272
        },
        "outputId": "0c6ae7ba-616e-4dd2-c352-098838f96d15"
      },
      "cell_type": "code",
      "source": [
        "n_iterations = 1500\n",
        "batch_size = 50\n",
        "\n",
        "with tf.Session() as sess:\n",
        "    init.run()\n",
        "    for iteration in range(n_iterations):\n",
        "        X_batch, y_batch = next_batch(batch_size, n_steps)\n",
        "        sess.run(training_op, feed_dict={X: X_batch, y: y_batch})\n",
        "        if iteration % 100 == 0:\n",
        "            mse = loss.eval(feed_dict={X: X_batch, y: y_batch})\n",
        "            print(iteration, \"\\tMSE:\", mse)\n",
        "    \n",
        "    saver.save(sess, \"./my_time_series_model\") "
      ],
      "execution_count": 15,
      "outputs": [
        {
          "output_type": "stream",
          "text": [
            "0 \tMSE: 11.967254\n",
            "100 \tMSE: 0.52670944\n",
            "200 \tMSE: 0.15034518\n",
            "300 \tMSE: 0.073838525\n",
            "400 \tMSE: 0.065919995\n",
            "500 \tMSE: 0.0599467\n",
            "600 \tMSE: 0.052481826\n",
            "700 \tMSE: 0.0478648\n",
            "800 \tMSE: 0.050174896\n",
            "900 \tMSE: 0.046997838\n",
            "1000 \tMSE: 0.04726432\n",
            "1100 \tMSE: 0.0477391\n",
            "1200 \tMSE: 0.04017511\n",
            "1300 \tMSE: 0.047951132\n",
            "1400 \tMSE: 0.04207592\n"
          ],
          "name": "stdout"
        }
      ]
    },
    {
      "metadata": {
        "id": "wJXuxBWmBZen",
        "colab_type": "code",
        "colab": {
          "base_uri": "https://localhost:8080/",
          "height": 34
        },
        "outputId": "d7f5a81b-2bd2-44b5-91ed-ee5672d5496a"
      },
      "cell_type": "code",
      "source": [
        "with tf.Session() as sess:                          \n",
        "    saver.restore(sess, \"./my_time_series_model\")   # not shown\n",
        "\n",
        "    X_new = time_series(np.array(t_instance[:-1].reshape(-1, n_steps, n_inputs)))  # Create new training series interval\n",
        "    y_pred = sess.run(outputs, feed_dict={X: X_new})"
      ],
      "execution_count": 16,
      "outputs": [
        {
          "output_type": "stream",
          "text": [
            "INFO:tensorflow:Restoring parameters from ./my_time_series_model\n"
          ],
          "name": "stdout"
        }
      ]
    },
    {
      "metadata": {
        "id": "0KCIhakAB57P",
        "colab_type": "code",
        "colab": {
          "base_uri": "https://localhost:8080/",
          "height": 357
        },
        "outputId": "50788235-2467-4a7e-ae57-e33382a17471"
      },
      "cell_type": "code",
      "source": [
        "y_pred"
      ],
      "execution_count": 17,
      "outputs": [
        {
          "output_type": "execute_result",
          "data": {
            "text/plain": [
              "array([[[-3.4068692 ],\n",
              "        [-2.4720778 ],\n",
              "        [-1.1405377 ],\n",
              "        [ 0.78310734],\n",
              "        [ 2.2498121 ],\n",
              "        [ 3.106875  ],\n",
              "        [ 3.408547  ],\n",
              "        [ 3.3909864 ],\n",
              "        [ 2.8886044 ],\n",
              "        [ 2.2290566 ],\n",
              "        [ 1.6677113 ],\n",
              "        [ 1.5136182 ],\n",
              "        [ 1.9115154 ],\n",
              "        [ 2.737776  ],\n",
              "        [ 3.8842368 ],\n",
              "        [ 5.119968  ],\n",
              "        [ 6.12864   ],\n",
              "        [ 6.678358  ],\n",
              "        [ 6.6655393 ],\n",
              "        [ 6.1140485 ]]], dtype=float32)"
            ]
          },
          "metadata": {
            "tags": []
          },
          "execution_count": 17
        }
      ]
    },
    {
      "metadata": {
        "id": "pihYDCgZCZa6",
        "colab_type": "code",
        "colab": {
          "base_uri": "https://localhost:8080/",
          "height": 302
        },
        "outputId": "380e32ed-5f40-43ea-d4cd-2967df1dd1d3"
      },
      "cell_type": "code",
      "source": [
        "plt.title(\"Testing the model\", fontsize=14)\n",
        "plt.plot(t_instance[:-1], time_series(t_instance[:-1]), \"bo\", markersize=10, label=\"instance\")\n",
        "plt.plot(t_instance[1:], time_series(t_instance[1:]), \"w*\", markersize=10, label=\"target\")\n",
        "plt.plot(t_instance[1:], y_pred[0,:,0], \"r.\", markersize=10, label=\"prediction\")\n",
        "plt.legend(loc=\"upper left\")\n",
        "plt.xlabel(\"Time\")\n",
        "\n",
        "# save_fig(\"time_series_pred_plot\")\n",
        "plt.show()"
      ],
      "execution_count": 19,
      "outputs": [
        {
          "output_type": "display_data",
          "data": {
            "image/png": "[encoded data removed]",
            "text/plain": [
              "<matplotlib.figure.Figure at 0x7f90dcc233c8>"
            ]
          },
          "metadata": {
            "tags": []
          }
        }
      ]
    }
  ]
}