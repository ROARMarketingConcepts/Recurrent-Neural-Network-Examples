{
  "nbformat": 4,
  "nbformat_minor": 0,
  "metadata": {
    "colab": {
      "name": "RNN Training on Time Series Data Example.ipynb",
      "version": "0.3.2",
      "provenance": [],
      "include_colab_link": true
    },
    "kernelspec": {
      "name": "python3",
      "display_name": "Python 3"
    }
  },
  "cells": [
    {
      "cell_type": "markdown",
      "metadata": {
        "id": "view-in-github",
        "colab_type": "text"
      },
      "source": [
        "<a href=\"https://colab.research.google.com/github/ROARMarketingConcepts/Recurrent-Neural-Network-Examples/blob/master/RNN_Training_on_Time_Series_Data_Example.ipynb\" target=\"_parent\"><img src=\"https://colab.research.google.com/assets/colab-badge.svg\" alt=\"Open In Colab\"/></a>"
      ]
    },
    {
      "metadata": {
        "id": "urxf2PZBLoGy",
        "colab_type": "text"
      },
      "cell_type": "markdown",
      "source": [
        "### This RNN will contain 100 recurrent neurons and we will unroll it over 20 time steps since each training instance will be 20 inputs long. Each input will contain only one feature (the value at that time). The targets are also sequences of 20 inputs, each containing a single value.\n"
      ]
    },
    {
      "metadata": {
        "id": "QxEfdHVh0Seo",
        "colab_type": "code",
        "colab": {}
      },
      "cell_type": "code",
      "source": [
        "# To support both python 2 and python 3\n",
        "from __future__ import division, print_function, unicode_literals\n",
        "\n",
        "# Common imports\n",
        "import numpy as np\n",
        "import os\n",
        "\n",
        "# to make this notebook's output stable across runs\n",
        "def reset_graph(seed=42):\n",
        "    tf.reset_default_graph()\n",
        "    tf.set_random_seed(seed)\n",
        "    np.random.seed(seed)\n",
        "\n",
        "# To plot pretty figures\n",
        "%matplotlib inline\n",
        "import matplotlib\n",
        "import matplotlib.pyplot as plt\n",
        "plt.rcParams['axes.labelsize'] = 14\n",
        "plt.rcParams['xtick.labelsize'] = 12\n",
        "plt.rcParams['ytick.labelsize'] = 12\n",
        "\n",
        "# Where to save the figures\n",
        "PROJECT_ROOT_DIR = \".\"\n",
        "CHAPTER_ID = \"rnn\"\n",
        "\n",
        "def save_fig(fig_id, tight_layout=True):\n",
        "    path = os.path.join(PROJECT_ROOT_DIR, \"images\", CHAPTER_ID, fig_id + \".png\")\n",
        "    print(\"Saving figure\", fig_id)\n",
        "    if tight_layout:\n",
        "        plt.tight_layout()\n",
        "    plt.savefig(path, format='png', dpi=300)"
      ],
      "execution_count": 0,
      "outputs": []
    },
    {
      "metadata": {
        "id": "gBwacY1G0b_y",
        "colab_type": "code",
        "colab": {}
      },
      "cell_type": "code",
      "source": [
        "import tensorflow as tf"
      ],
      "execution_count": 0,
      "outputs": []
    },
    {
      "metadata": {
        "id": "p-BzMOO6FqqY",
        "colab_type": "code",
        "colab": {}
      },
      "cell_type": "code",
      "source": [
        "t_min, t_max = 0, 30\n",
        "resolution = 0.1\n",
        "\n",
        "def time_series(t):\n",
        "    return t * np.sin(t) / 3 + 2 * np.sin(t*5)\n",
        "\n",
        "def next_batch(batch_size, n_steps):\n",
        "    t0 = np.random.rand(batch_size, 1) * (t_max - t_min - n_steps * resolution) # t0 is randomly selected and must at least n_steps below t_max.\n",
        "    Ts = t0 + np.arange(0., n_steps + 1) * resolution                           # Array of evenly spaced values starting at t0\n",
        "    ys = time_series(Ts)\n",
        "    return ys[:, :-1].reshape(-1, n_steps, 1), ys[:, 1:].reshape(-1, n_steps, 1)"
      ],
      "execution_count": 0,
      "outputs": []
    },
    {
      "metadata": {
        "id": "iPteEE3pGBTg",
        "colab_type": "code",
        "colab": {
          "base_uri": "https://localhost:8080/",
          "height": 302
        },
        "outputId": "4e205034-0ff3-4711-d0c0-28bbd662e9f7"
      },
      "cell_type": "code",
      "source": [
        "t = np.linspace(t_min, t_max, int((t_max - t_min) / resolution))\n",
        "\n",
        "n_steps = 20\n",
        "t_instance = np.linspace(12.2, 12.2 + resolution * (n_steps + 1), n_steps + 1)\n",
        "\n",
        "plt.figure(figsize=(11,4))\n",
        "plt.subplot(121)\n",
        "plt.title(\"A time series (generated)\", fontsize=14)\n",
        "plt.plot(t, time_series(t), label=r\"$t . \\sin(t) / 3 + 2 . \\sin(5t)$\")\n",
        "plt.plot(t_instance[:-1], time_series(t_instance[:-1]), \"b-\", linewidth=3, label=\"A training instance\") # t_instance[:-1] means omit last value of t_instance\n",
        "plt.legend(loc=\"lower left\", fontsize=14)\n",
        "plt.axis([0, 30, -17, 13])\n",
        "plt.xlabel(\"Time\")\n",
        "plt.ylabel(\"Value\")\n",
        "\n",
        "plt.subplot(122)\n",
        "plt.title(\"A training instance\", fontsize=14)\n",
        "plt.plot(t_instance[:-1], time_series(t_instance[:-1]), \"bo\", markersize=10, label=\"instance\")\n",
        "plt.plot(t_instance[1:], time_series(t_instance[1:]), \"w*\", markersize=10, label=\"target\")\n",
        "plt.legend(loc=\"upper left\")\n",
        "plt.xlabel(\"Time\")\n",
        "\n",
        "\n",
        "# save_fig(\"time_series_plot\")\n",
        "plt.show()"
      ],
      "execution_count": 4,
      "outputs": [
        {
          "output_type": "display_data",
          "data": {
            "image/png": "[encoded data removed]",
            "text/plain": [
              "<matplotlib.figure.Figure at 0x7f135728bfd0>"
            ]
          },
          "metadata": {
            "tags": []
          }
        }
      ]
    },
    {
      "metadata": {
        "id": "44OOM1XYG3mQ",
        "colab_type": "code",
        "colab": {
          "base_uri": "https://localhost:8080/",
          "height": 51
        },
        "outputId": "934111c3-88c9-40bc-f2eb-6ff5c557dc71"
      },
      "cell_type": "code",
      "source": [
        "X_batch, y_batch = next_batch(1, n_steps)\n",
        "print(X_batch.shape,y_batch.shape)\n",
        "print(X_batch[0].shape,y_batch[0].shape)    # slice arrays along '0' dimension"
      ],
      "execution_count": 5,
      "outputs": [
        {
          "output_type": "stream",
          "text": [
            "(1, 20, 1) (1, 20, 1)\n",
            "(20, 1) (20, 1)\n"
          ],
          "name": "stdout"
        }
      ]
    },
    {
      "metadata": {
        "id": "Y-hzlY6v9ZW3",
        "colab_type": "code",
        "colab": {
          "base_uri": "https://localhost:8080/",
          "height": 357
        },
        "outputId": "157897de-3a80-497c-fa5a-0131da77125f"
      },
      "cell_type": "code",
      "source": [
        "np.c_[X_batch[0], y_batch[0]]"
      ],
      "execution_count": 6,
      "outputs": [
        {
          "output_type": "execute_result",
          "data": {
            "text/plain": [
              "array([[ 1.80017686,  1.14618669],\n",
              "       [ 1.14618669,  0.23732156],\n",
              "       [ 0.23732156, -0.69631782],\n",
              "       [-0.69631782, -1.4176229 ],\n",
              "       [-1.4176229 , -1.74071138],\n",
              "       [-1.74071138, -1.57663884],\n",
              "       [-1.57663884, -0.95539278],\n",
              "       [-0.95539278, -0.01878098],\n",
              "       [-0.01878098,  1.01404836],\n",
              "       [ 1.01404836,  1.90001653],\n",
              "       [ 1.90001653,  2.4313815 ],\n",
              "       [ 2.4313815 ,  2.48635583],\n",
              "       [ 2.48635583,  2.05868602],\n",
              "       [ 2.05868602,  1.25895536],\n",
              "       [ 1.25895536,  0.28729507],\n",
              "       [ 0.28729507, -0.61581129],\n",
              "       [-0.61581129, -1.22858195],\n",
              "       [-1.22858195, -1.40238764],\n",
              "       [-1.40238764, -1.09826473],\n",
              "       [-1.09826473, -0.39654828]])"
            ]
          },
          "metadata": {
            "tags": []
          },
          "execution_count": 6
        }
      ]
    },
    {
      "metadata": {
        "id": "M9bBow1--tOA",
        "colab_type": "text"
      },
      "cell_type": "markdown",
      "source": [
        "### Let's create the RNN. It will contain 100 recurrent neurons and we will unroll it over 20 time steps since each training instance will be 20 inputs long. Each input will contain only one feature (the value at that time). The targets are also sequences of 20 inputs, each containing a single value:"
      ]
    },
    {
      "metadata": {
        "id": "EopHf88hG9HU",
        "colab_type": "code",
        "outputId": "1a328387-5fc5-4b26-9264-08df4fdc795f",
        "colab": {
          "base_uri": "https://localhost:8080/",
          "height": 93
        }
      },
      "cell_type": "code",
      "source": [
        "reset_graph()\n",
        "\n",
        "n_steps = 20\n",
        "n_inputs = 1\n",
        "n_neurons = 100\n",
        "n_outputs = 1\n",
        "\n",
        "X = tf.placeholder(tf.float32, [None, n_steps, n_inputs])\n",
        "y = tf.placeholder(tf.float32, [None, n_steps, n_outputs])\n",
        "\n",
        "cell = tf.contrib.rnn.BasicRNNCell(num_units=n_neurons, activation=tf.nn.relu)\n",
        "outputs, states = tf.nn.dynamic_rnn(cell, X, dtype=tf.float32)                                 # shape of (10000,)"
      ],
      "execution_count": 7,
      "outputs": [
        {
          "output_type": "stream",
          "text": [
            "WARNING:tensorflow:From <ipython-input-7-f8cf7a937196>:11: BasicRNNCell.__init__ (from tensorflow.python.ops.rnn_cell_impl) is deprecated and will be removed in a future version.\n",
            "Instructions for updating:\n",
            "This class is equivalent as tf.keras.layers.SimpleRNNCell, and will be replaced by that in Tensorflow 2.0.\n"
          ],
          "name": "stdout"
        }
      ]
    },
    {
      "metadata": {
        "id": "yEZGhLt4_XsB",
        "colab_type": "text"
      },
      "cell_type": "markdown",
      "source": [
        "### At each time step we now have an output vector of size 100. But what we actually want is a single output value at each time step. The simplest solution is to wrap the cell in an `OutputProjectionWrapper`."
      ]
    },
    {
      "metadata": {
        "id": "RyYDUWP_HDs2",
        "colab_type": "code",
        "colab": {}
      },
      "cell_type": "code",
      "source": [
        "reset_graph()\n",
        "\n",
        "n_steps = 20\n",
        "n_inputs = 1\n",
        "n_neurons = 100\n",
        "n_outputs = 1\n",
        "\n",
        "X = tf.placeholder(tf.float32, [None, n_steps, n_inputs])\n",
        "y = tf.placeholder(tf.float32, [None, n_steps, n_outputs])\n",
        "\n",
        "cell = tf.contrib.rnn.OutputProjectionWrapper(\n",
        "    tf.contrib.rnn.BasicRNNCell(num_units=n_neurons, activation=tf.nn.relu),\n",
        "    output_size=n_outputs)"
      ],
      "execution_count": 0,
      "outputs": []
    },
    {
      "metadata": {
        "id": "wN6XkeDDAI_l",
        "colab_type": "code",
        "colab": {}
      },
      "cell_type": "code",
      "source": [
        "outputs, states = tf.nn.dynamic_rnn(cell, X, dtype=tf.float32)"
      ],
      "execution_count": 0,
      "outputs": []
    },
    {
      "metadata": {
        "id": "YOTsy1soAgj9",
        "colab_type": "code",
        "colab": {}
      },
      "cell_type": "code",
      "source": [
        "learning_rate = 0.001\n",
        "\n",
        "loss = tf.reduce_mean(tf.square(outputs - y)) # MSE\n",
        "optimizer = tf.train.AdamOptimizer(learning_rate=learning_rate)\n",
        "training_op = optimizer.minimize(loss)"
      ],
      "execution_count": 0,
      "outputs": []
    },
    {
      "metadata": {
        "id": "UvdWbhxnApZj",
        "colab_type": "code",
        "colab": {}
      },
      "cell_type": "code",
      "source": [
        "init = tf.global_variables_initializer()"
      ],
      "execution_count": 0,
      "outputs": []
    },
    {
      "metadata": {
        "id": "Q-EeccAoAtt4",
        "colab_type": "code",
        "colab": {}
      },
      "cell_type": "code",
      "source": [
        "saver = tf.train.Saver()  # The Saver class adds ops to save and restore variables to and from checkpoints. "
      ],
      "execution_count": 0,
      "outputs": []
    },
    {
      "metadata": {
        "id": "4_12as9IBIiG",
        "colab_type": "code",
        "colab": {
          "base_uri": "https://localhost:8080/",
          "height": 272
        },
        "outputId": "4d44c656-6495-4431-ff97-c2922202a614"
      },
      "cell_type": "code",
      "source": [
        "n_iterations = 1500\n",
        "batch_size = 50\n",
        "\n",
        "with tf.Session() as sess:\n",
        "    init.run()\n",
        "    for iteration in range(n_iterations):\n",
        "        X_batch, y_batch = next_batch(batch_size, n_steps)\n",
        "        sess.run(training_op, feed_dict={X: X_batch, y: y_batch})\n",
        "        if iteration % 100 == 0:\n",
        "            mse = loss.eval(feed_dict={X: X_batch, y: y_batch})\n",
        "            print(iteration, \"\\tMSE:\", mse)\n",
        "    \n",
        "    saver.save(sess, \"./my_time_series_model\") "
      ],
      "execution_count": 13,
      "outputs": [
        {
          "output_type": "stream",
          "text": [
            "0 \tMSE: 11.967254\n",
            "100 \tMSE: 0.52670944\n",
            "200 \tMSE: 0.15034518\n",
            "300 \tMSE: 0.073838525\n",
            "400 \tMSE: 0.065919995\n",
            "500 \tMSE: 0.0599467\n",
            "600 \tMSE: 0.052481826\n",
            "700 \tMSE: 0.0478648\n",
            "800 \tMSE: 0.050174896\n",
            "900 \tMSE: 0.046997838\n",
            "1000 \tMSE: 0.04726432\n",
            "1100 \tMSE: 0.0477391\n",
            "1200 \tMSE: 0.04017511\n",
            "1300 \tMSE: 0.047951132\n",
            "1400 \tMSE: 0.04207592\n"
          ],
          "name": "stdout"
        }
      ]
    },
    {
      "metadata": {
        "id": "wJXuxBWmBZen",
        "colab_type": "code",
        "colab": {
          "base_uri": "https://localhost:8080/",
          "height": 34
        },
        "outputId": "3f95cd84-8ecf-4335-8881-d4b179c89d69"
      },
      "cell_type": "code",
      "source": [
        "with tf.Session() as sess:                          \n",
        "    saver.restore(sess, \"./my_time_series_model\")   # not shown\n",
        "\n",
        "    X_new = time_series(np.array(t_instance[:-1].reshape(-1, n_steps, n_inputs)))  # Create new training series interval\n",
        "    y_pred = sess.run(outputs, feed_dict={X: X_new})"
      ],
      "execution_count": 14,
      "outputs": [
        {
          "output_type": "stream",
          "text": [
            "INFO:tensorflow:Restoring parameters from ./my_time_series_model\n"
          ],
          "name": "stdout"
        }
      ]
    },
    {
      "metadata": {
        "id": "0KCIhakAB57P",
        "colab_type": "code",
        "colab": {
          "base_uri": "https://localhost:8080/",
          "height": 357
        },
        "outputId": "cf3a9d9c-6bfa-4d08-cd94-1521802b94eb"
      },
      "cell_type": "code",
      "source": [
        "y_pred"
      ],
      "execution_count": 15,
      "outputs": [
        {
          "output_type": "execute_result",
          "data": {
            "text/plain": [
              "array([[[-3.4068692 ],\n",
              "        [-2.4720778 ],\n",
              "        [-1.1405377 ],\n",
              "        [ 0.78310734],\n",
              "        [ 2.2498121 ],\n",
              "        [ 3.106875  ],\n",
              "        [ 3.408547  ],\n",
              "        [ 3.3909864 ],\n",
              "        [ 2.8886044 ],\n",
              "        [ 2.2290566 ],\n",
              "        [ 1.6677113 ],\n",
              "        [ 1.5136182 ],\n",
              "        [ 1.9115154 ],\n",
              "        [ 2.737776  ],\n",
              "        [ 3.8842368 ],\n",
              "        [ 5.119968  ],\n",
              "        [ 6.12864   ],\n",
              "        [ 6.678358  ],\n",
              "        [ 6.6655393 ],\n",
              "        [ 6.1140485 ]]], dtype=float32)"
            ]
          },
          "metadata": {
            "tags": []
          },
          "execution_count": 15
        }
      ]
    },
    {
      "metadata": {
        "id": "pihYDCgZCZa6",
        "colab_type": "code",
        "colab": {
          "base_uri": "https://localhost:8080/",
          "height": 302
        },
        "outputId": "37c875cb-5f08-4277-8aad-fd464965f2fa"
      },
      "cell_type": "code",
      "source": [
        "plt.title(\"Testing the model\", fontsize=14)\n",
        "plt.plot(t_instance[:-1], time_series(t_instance[:-1]), \"bo\", markersize=10, label=\"instance\")\n",
        "plt.plot(t_instance[1:], time_series(t_instance[1:]), \"w*\", markersize=10, label=\"target\")\n",
        "plt.plot(t_instance[1:], y_pred[0,:,0], \"r.\", markersize=10, label=\"prediction\")\n",
        "plt.legend(loc=\"upper left\")\n",
        "plt.xlabel(\"Time\")\n",
        "\n",
        "# save_fig(\"time_series_pred_plot\")\n",
        "plt.show()"
      ],
      "execution_count": 16,
      "outputs": [
        {
          "output_type": "display_data",
          "data": {
            "image/png": "[encoded data removed]",
            "text/plain": [
              "<matplotlib.figure.Figure at 0x7f134cc13f98>"
            ]
          },
          "metadata": {
            "tags": []
          }
        }
      ]
    },
    {
      "metadata": {
        "id": "25YPvuUuE51a",
        "colab_type": "text"
      },
      "cell_type": "markdown",
      "source": [
        "### Let's look at the case of not using the `OutputProjectionWrapper`function."
      ]
    },
    {
      "metadata": {
        "id": "9uFyyTkEFZvs",
        "colab_type": "code",
        "colab": {}
      },
      "cell_type": "code",
      "source": [
        "reset_graph()\n",
        "\n",
        "n_steps = 20\n",
        "n_inputs = 1\n",
        "n_neurons = 100\n",
        "n_outputs = 1\n",
        "\n",
        "learning_rate = 0.001\n",
        "\n",
        "X = tf.placeholder(tf.float32, [None, n_steps, n_inputs])\n",
        "y = tf.placeholder(tf.float32, [None, n_steps, n_outputs])"
      ],
      "execution_count": 0,
      "outputs": []
    },
    {
      "metadata": {
        "id": "pDJbmgUbFk_M",
        "colab_type": "code",
        "colab": {
          "base_uri": "https://localhost:8080/",
          "height": 51
        },
        "outputId": "08467622-2844-4433-ba6c-5be00178eb91"
      },
      "cell_type": "code",
      "source": [
        "cell = tf.contrib.rnn.BasicRNNCell(num_units=n_neurons, activation=tf.nn.relu)\n",
        "rnn_outputs, states = tf.nn.dynamic_rnn(cell, X, dtype=tf.float32)\n",
        "\n",
        "print('Shape of rnn_outputs:',rnn_outputs.shape,'\\nShape of states:',states.shape)"
      ],
      "execution_count": 30,
      "outputs": [
        {
          "output_type": "stream",
          "text": [
            "Shape of rnn_outputs: (?, 20, 100) \n",
            "Shape of states: (?, 100)\n"
          ],
          "name": "stdout"
        }
      ]
    },
    {
      "metadata": {
        "id": "ZCoWgqxKIZg-",
        "colab_type": "text"
      },
      "cell_type": "markdown",
      "source": [
        "### We stack all the outputs using the reshape() operation, apply the fully connected linear layer (without using any activation function; this is just a projection), and finally unstack all the outputs, again using reshape():\n"
      ]
    },
    {
      "metadata": {
        "id": "T8NfHztJF9RZ",
        "colab_type": "code",
        "colab": {
          "base_uri": "https://localhost:8080/",
          "height": 68
        },
        "outputId": "09283df4-2392-4dd8-979a-8366d241e0ce"
      },
      "cell_type": "code",
      "source": [
        "stacked_rnn_outputs = tf.reshape(rnn_outputs, [-1, n_neurons])\n",
        "stacked_outputs = tf.layers.dense(stacked_rnn_outputs, n_outputs)\n",
        "outputs = tf.reshape(stacked_outputs, [-1, n_steps, n_outputs])\n",
        "\n",
        "print('Shape of stacked_rnn_outputs:',stacked_rnn_outputs.shape,'\\nShape of stacked_outputs:',stacked_outputs.shape,\n",
        "      '\\nShape of outputs:',outputs.shape)"
      ],
      "execution_count": 32,
      "outputs": [
        {
          "output_type": "stream",
          "text": [
            "Shape of stacked_rnn_outputs: (?, 100) \n",
            "Shape of stacked_outputs: (?, 1) \n",
            "Shape of outputs: (?, 20, 1)\n"
          ],
          "name": "stdout"
        }
      ]
    },
    {
      "metadata": {
        "id": "FEmmVEklIFUo",
        "colab_type": "code",
        "colab": {}
      },
      "cell_type": "code",
      "source": [
        "loss = tf.reduce_mean(tf.square(outputs - y))\n",
        "optimizer = tf.train.AdamOptimizer(learning_rate=learning_rate)\n",
        "training_op = optimizer.minimize(loss)\n",
        "\n",
        "init = tf.global_variables_initializer()\n",
        "saver = tf.train.Saver()"
      ],
      "execution_count": 0,
      "outputs": []
    },
    {
      "metadata": {
        "id": "o9nMRSYAILQa",
        "colab_type": "code",
        "colab": {
          "base_uri": "https://localhost:8080/",
          "height": 272
        },
        "outputId": "621b8307-265b-4b97-d5ca-83a7f153fac8"
      },
      "cell_type": "code",
      "source": [
        "n_iterations = 1500\n",
        "batch_size = 50\n",
        "\n",
        "with tf.Session() as sess:\n",
        "    init.run()\n",
        "    for iteration in range(n_iterations):\n",
        "        X_batch, y_batch = next_batch(batch_size, n_steps)\n",
        "        sess.run(training_op, feed_dict={X: X_batch, y: y_batch})\n",
        "        if iteration % 100 == 0:\n",
        "            mse = loss.eval(feed_dict={X: X_batch, y: y_batch})\n",
        "            print(iteration, \"\\tMSE:\", mse)\n",
        "    \n",
        "    X_new = time_series(np.array(t_instance[:-1].reshape(-1, n_steps, n_inputs)))\n",
        "    y_pred = sess.run(outputs, feed_dict={X: X_new})\n",
        "    \n",
        "    saver.save(sess, \"./my_time_series_model\")"
      ],
      "execution_count": 34,
      "outputs": [
        {
          "output_type": "stream",
          "text": [
            "0 \tMSE: 14.435508\n",
            "100 \tMSE: 0.6603948\n",
            "200 \tMSE: 0.21689148\n",
            "300 \tMSE: 0.10313167\n",
            "400 \tMSE: 0.066663004\n",
            "500 \tMSE: 0.062067512\n",
            "600 \tMSE: 0.056068458\n",
            "700 \tMSE: 0.049614154\n",
            "800 \tMSE: 0.050793387\n",
            "900 \tMSE: 0.049161773\n",
            "1000 \tMSE: 0.04889692\n",
            "1100 \tMSE: 0.049303923\n",
            "1200 \tMSE: 0.042905502\n",
            "1300 \tMSE: 0.049072072\n",
            "1400 \tMSE: 0.04233259\n"
          ],
          "name": "stdout"
        }
      ]
    },
    {
      "metadata": {
        "id": "nKN-WOJBI3QQ",
        "colab_type": "code",
        "colab": {
          "base_uri": "https://localhost:8080/",
          "height": 357
        },
        "outputId": "2a5ebe72-c26c-4f9f-f710-55a44c782d57"
      },
      "cell_type": "code",
      "source": [
        "y_pred"
      ],
      "execution_count": 35,
      "outputs": [
        {
          "output_type": "execute_result",
          "data": {
            "text/plain": [
              "array([[[-3.411104 ],\n",
              "        [-2.484228 ],\n",
              "        [-1.1492898],\n",
              "        [ 0.8075568],\n",
              "        [ 2.178394 ],\n",
              "        [ 3.0891633],\n",
              "        [ 3.4514782],\n",
              "        [ 3.3972943],\n",
              "        [ 2.887993 ],\n",
              "        [ 2.205911 ],\n",
              "        [ 1.665656 ],\n",
              "        [ 1.5806092],\n",
              "        [ 1.8926574],\n",
              "        [ 2.7481477],\n",
              "        [ 3.9238584],\n",
              "        [ 5.1028886],\n",
              "        [ 6.0782695],\n",
              "        [ 6.6405177],\n",
              "        [ 6.6871557],\n",
              "        [ 6.0977716]]], dtype=float32)"
            ]
          },
          "metadata": {
            "tags": []
          },
          "execution_count": 35
        }
      ]
    },
    {
      "metadata": {
        "id": "jCKeLnT1I8if",
        "colab_type": "code",
        "colab": {
          "base_uri": "https://localhost:8080/",
          "height": 302
        },
        "outputId": "503b85f6-21e2-4442-df7b-54b3917dad9b"
      },
      "cell_type": "code",
      "source": [
        "plt.title(\"Testing the model\", fontsize=14)\n",
        "plt.plot(t_instance[:-1], time_series(t_instance[:-1]), \"bo\", markersize=10, label=\"instance\")\n",
        "plt.plot(t_instance[1:], time_series(t_instance[1:]), \"w*\", markersize=10, label=\"target\")\n",
        "plt.plot(t_instance[1:], y_pred[0,:,0], \"r.\", markersize=10, label=\"prediction\")\n",
        "plt.legend(loc=\"upper left\")\n",
        "plt.xlabel(\"Time\")\n",
        "\n",
        "plt.show()"
      ],
      "execution_count": 36,
      "outputs": [
        {
          "output_type": "display_data",
          "data": {
            "image/png": "[encoded data removed]",
            "text/plain": [
              "<matplotlib.figure.Figure at 0x7f1348571c88>"
            ]
          },
          "metadata": {
            "tags": []
          }
        }
      ]
    },
    {
      "metadata": {
        "id": "Wbjrx3k4J3FJ",
        "colab_type": "text"
      },
      "cell_type": "markdown",
      "source": [
        "### Now that we have a model that can predict the future, we can use it to generate some creative sequences. All we need is to provide it a seed sequence containing n_steps values (e.g., full of zeros), use the model to predict the next value, append this predicted value to the sequence, feed the last n_steps values to the model to predict the next value, and so on.\n",
        " "
      ]
    },
    {
      "metadata": {
        "id": "657l81nlKMbK",
        "colab_type": "code",
        "colab": {
          "base_uri": "https://localhost:8080/",
          "height": 34
        },
        "outputId": "240f2be1-ca58-4075-b6ea-8b3294c1d331"
      },
      "cell_type": "code",
      "source": [
        "with tf.Session() as sess:                       \n",
        "    saver.restore(sess, \"./my_time_series_model\") \n",
        "\n",
        "    sequence = [0.] * n_steps\n",
        "    for iteration in range(300):\n",
        "        X_batch = np.array(sequence[-n_steps:]).reshape(1, n_steps, 1)\n",
        "        y_pred = sess.run(outputs, feed_dict={X: X_batch})\n",
        "        sequence.append(y_pred[0, -1, 0])"
      ],
      "execution_count": 37,
      "outputs": [
        {
          "output_type": "stream",
          "text": [
            "INFO:tensorflow:Restoring parameters from ./my_time_series_model\n"
          ],
          "name": "stdout"
        }
      ]
    },
    {
      "metadata": {
        "id": "PM-gN94vKbhV",
        "colab_type": "code",
        "colab": {
          "base_uri": "https://localhost:8080/",
          "height": 285
        },
        "outputId": "83fa4134-d3c7-44fb-c624-d3f2307c74df"
      },
      "cell_type": "code",
      "source": [
        "plt.figure(figsize=(8,4))\n",
        "plt.plot(np.arange(len(sequence)), sequence, \"b-\")\n",
        "plt.plot(t[:n_steps], sequence[:n_steps], \"b-\", linewidth=3)\n",
        "plt.xlabel(\"Time\")\n",
        "plt.ylabel(\"Value\")\n",
        "plt.show()"
      ],
      "execution_count": 38,
      "outputs": [
        {
          "output_type": "display_data",
          "data": {
            "image/png": "[encoded data removed]",
            "text/plain": [
              "<matplotlib.figure.Figure at 0x7f13485879e8>"
            ]
          },
          "metadata": {
            "tags": []
          }
        }
      ]
    },
    {
      "metadata": {
        "id": "iKTGrnb9KyxD",
        "colab_type": "code",
        "colab": {
          "base_uri": "https://localhost:8080/",
          "height": 307
        },
        "outputId": "de266595-db44-4cb9-d61e-7490bf8bb6f5"
      },
      "cell_type": "code",
      "source": [
        "with tf.Session() as sess:\n",
        "    saver.restore(sess, \"./my_time_series_model\")\n",
        "\n",
        "    sequence1 = [0. for i in range(n_steps)]\n",
        "    for iteration in range(len(t) - n_steps):\n",
        "        X_batch = np.array(sequence1[-n_steps:]).reshape(1, n_steps, 1)\n",
        "        y_pred = sess.run(outputs, feed_dict={X: X_batch})\n",
        "        sequence1.append(y_pred[0, -1, 0])\n",
        "\n",
        "    sequence2 = [time_series(i * resolution + t_min + (t_max-t_min/3)) for i in range(n_steps)]\n",
        "    for iteration in range(len(t) - n_steps):\n",
        "        X_batch = np.array(sequence2[-n_steps:]).reshape(1, n_steps, 1)\n",
        "        y_pred = sess.run(outputs, feed_dict={X: X_batch})\n",
        "        sequence2.append(y_pred[0, -1, 0])\n",
        "\n",
        "plt.figure(figsize=(11,4))\n",
        "plt.subplot(121)\n",
        "plt.plot(t, sequence1, \"b-\")\n",
        "plt.plot(t[:n_steps], sequence1[:n_steps], \"b-\", linewidth=3)\n",
        "plt.xlabel(\"Time\")\n",
        "plt.ylabel(\"Value\")\n",
        "\n",
        "plt.subplot(122)\n",
        "plt.plot(t, sequence2, \"b-\")\n",
        "plt.plot(t[:n_steps], sequence2[:n_steps], \"b-\", linewidth=3)\n",
        "plt.xlabel(\"Time\")\n",
        "# save_fig(\"creative_sequence_plot\")\n",
        "plt.show()"
      ],
      "execution_count": 40,
      "outputs": [
        {
          "output_type": "stream",
          "text": [
            "INFO:tensorflow:Restoring parameters from ./my_time_series_model\n"
          ],
          "name": "stdout"
        },
        {
          "output_type": "display_data",
          "data": {
            "image/png": "[encoded data removed]",
            "text/plain": [
              "<matplotlib.figure.Figure at 0x7f1347338e48>"
            ]
          },
          "metadata": {
            "tags": []
          }
        }
      ]
    }
  ]
}