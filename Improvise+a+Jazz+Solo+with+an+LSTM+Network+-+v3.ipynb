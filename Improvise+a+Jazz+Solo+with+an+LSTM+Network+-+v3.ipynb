{
 "cells": [
  {
   "cell_type": "markdown",
   "metadata": {},
   "source": [
    "# Improvise a Jazz Solo with an LSTM Network\n",
    "\n",
    "Welcome to your final programming assignment of this week! In this notebook, you will implement a model that uses an LSTM to generate music. You will even be able to listen to your own music at the end of the assignment. \n",
    "\n",
    "**You will learn to:**\n",
    "- Apply an LSTM to music generation.\n",
    "- Generate your own jazz music with deep learning.\n",
    "\n",
    "Please run the following cell to load all the packages required in this assignment. This may take a few minutes. "
   ]
  },
  {
   "cell_type": "code",
   "execution_count": 3,
   "metadata": {},
   "outputs": [
    {
     "name": "stderr",
     "output_type": "stream",
     "text": [
      "Using TensorFlow backend.\n"
     ]
    }
   ],
   "source": [
    "from __future__ import print_function\n",
    "import IPython\n",
    "import sys\n",
    "from music21 import *\n",
    "import numpy as np\n",
    "from grammar import *\n",
    "from qa import *\n",
    "from preprocess import * \n",
    "from music_utils import *\n",
    "from data_utils import *\n",
    "from keras.models import load_model, Model\n",
    "from keras.layers import Dense, Activation, Dropout, Input, LSTM, Reshape, Lambda, RepeatVector\n",
    "from keras.initializers import glorot_uniform\n",
    "from keras.utils import to_categorical\n",
    "from keras.optimizers import Adam\n",
    "from keras import backend as K"
   ]
  },
  {
   "cell_type": "markdown",
   "metadata": {},
   "source": [
    "## 1 - Problem statement\n",
    "\n",
    "You would like to create a jazz music piece specially for a friend's birthday. However, you don't know any instruments or music composition. Fortunately, you know deep learning and will solve this problem using an LSTM netwok.  \n",
    "\n",
    "You will train a network to generate novel jazz solos in a style representative of a body of performed work.\n",
    "\n",
    "<img src=\"images/jazz.jpg\" style=\"width:450;height:300px;\">\n",
    "\n",
    "\n",
    "### 1.1 - Dataset\n",
    "\n",
    "You will train your algorithm on a corpus of Jazz music. Run the cell below to listen to a snippet of the audio from the training set:"
   ]
  },
  {
   "cell_type": "code",
   "execution_count": null,
   "metadata": {
    "collapsed": true
   },
   "outputs": [],
   "source": [
    "IPython.display.Audio('./data/30s_seq.mp3')"
   ]
  },
  {
   "cell_type": "markdown",
   "metadata": {},
   "source": [
    "We have taken care of the preprocessing of the musical data to render it in terms of musical \"values.\" You can informally think of each \"value\" as a note, which comprises a pitch and a duration. For example, if you press down a specific piano key for 0.5 seconds, then you have just played a note. In music theory, a \"value\" is actually more complicated than this--specifically, it also captures the information needed to play multiple notes at the same time. For example, when playing a music piece, you might press down two piano keys at the same time (playng multiple notes at the same time generates what's called a \"chord\"). But we don't need to worry about the details of music theory for this assignment. For the purpose of this assignment, all you need to know is that we will obtain a dataset of values, and will learn an RNN model to generate sequences of values. \n",
    "\n",
    "Our music generation system will use 78 unique values. Run the following code to load the raw music data and preprocess it into values. This might take a few minutes."
   ]
  },
  {
   "cell_type": "code",
   "execution_count": 4,
   "metadata": {},
   "outputs": [
    {
     "name": "stdout",
     "output_type": "stream",
     "text": [
      "shape of X: (60, 30, 78)\n",
      "number of training examples: 60\n",
      "Tx (length of sequence): 30\n",
      "total # of unique values: 78\n",
      "Shape of Y: (30, 60, 78)\n"
     ]
    }
   ],
   "source": [
    "X, Y, n_values, indices_values = load_music_utils()\n",
    "print('shape of X:', X.shape)\n",
    "print('number of training examples:', X.shape[0])\n",
    "print('Tx (length of sequence):', X.shape[1])\n",
    "print('total # of unique values:', n_values)\n",
    "print('Shape of Y:', Y.shape)"
   ]
  },
  {
   "cell_type": "markdown",
   "metadata": {},
   "source": [
    "You have just loaded the following:\n",
    "\n",
    "- `X`: This is an (m, $T_x$, 78) dimensional array. We have m training examples, each of which is a snippet of $T_x =30$ musical values. At each time step, the input is one of 78 different possible values, represented as a one-hot vector. Thus for example, X[i,t,:] is a one-hot vector representating the value of the i-th example at time t. \n",
    "\n",
    "- `Y`: This is essentially the same as `X`, but shifted one step to the left (to the past). Similar to the dinosaurus assignment, we're interested in the network using the previous values to predict the next value, so our sequence model will try to predict $y^{\\langle t \\rangle}$ given $x^{\\langle 1\\rangle}, \\ldots, x^{\\langle t \\rangle}$. However, the data in `Y` is reordered to be dimension $(T_y, m, 78)$, where $T_y = T_x$. This format makes it more convenient to feed to the LSTM later. \n",
    "\n",
    "- `n_values`: The number of unique values in this dataset. This should be 78. \n",
    "\n",
    "- `indices_values`: python dictionary mapping from 0-77 to musical values."
   ]
  },
  {
   "cell_type": "markdown",
   "metadata": {},
   "source": [
    "### 1.2 - Overview of our model\n",
    "\n",
    "Here is the architecture of the model we will use. This is similar to the Dinosaurus model you had used in the previous notebook, except that in you will be implementing it in Keras. The architecture is as follows: \n",
    "\n",
    "<img src=\"images/music_generation.png\" style=\"width:600;height:400px;\">\n",
    "\n",
    "<!--\n",
    "<img src=\"images/djmodel.png\" style=\"width:600;height:400px;\">\n",
    "<br>\n",
    "<caption><center> **Figure 1**: LSTM model. $X = (x^{\\langle 1 \\rangle}, x^{\\langle 2 \\rangle}, ..., x^{\\langle T_x \\rangle})$ is a window of size $T_x$ scanned over the musical corpus. Each $x^{\\langle t \\rangle}$ is an index corresponding to a value (ex: \"A,0.250,< m2,P-4 >\") while $\\hat{y}$ is the prediction for the next value  </center></caption>\n",
    "!--> \n",
    "\n",
    "We will be training the model on random snippets of 30 values taken from a much longer piece of music. Thus, we won't bother to set the first input $x^{\\langle 1 \\rangle} = \\vec{0}$, which we had done previously to denote the start of a dinosaur name, since now most of these snippets of audio start somewhere in the middle of a piece of music. We are setting each of the snippts to have the same length $T_x = 30$ to make vectorization easier. \n"
   ]
  },
  {
   "cell_type": "markdown",
   "metadata": {},
   "source": [
    "## 2 - Building the model\n",
    "\n",
    "In this part you will build and train a model that will learn musical patterns. To do so, you will need to build a model that takes in X of shape $(m, T_x, 78)$ and Y of shape $(T_y, m, 78)$. We will use an LSTM with 64 dimensional hidden states. Lets set `n_a = 64`. \n"
   ]
  },
  {
   "cell_type": "code",
   "execution_count": 5,
   "metadata": {
    "collapsed": true
   },
   "outputs": [],
   "source": [
    "n_a = 64 "
   ]
  },
  {
   "cell_type": "markdown",
   "metadata": {},
   "source": [
    "\n",
    "Here's how you can create a Keras model with multiple inputs and outputs. If you're building an RNN where even at test time entire input sequence $x^{\\langle 1 \\rangle}, x^{\\langle 2 \\rangle}, \\ldots, x^{\\langle T_x \\rangle}$ were *given in advance*, for example if the inputs were words and the output was a label, then Keras has simple built-in functions to build the model. However, for sequence generation, at test time we don't know all the values of $x^{\\langle t\\rangle}$ in advance; instead we generate them one at a time using $x^{\\langle t\\rangle} = y^{\\langle t-1 \\rangle}$. So the code will be a bit more complicated, and you'll need to implement your own for-loop to iterate over the different time steps. \n",
    "\n",
    "The function `djmodel()` will call the LSTM layer $T_x$ times using a for-loop, and it is important that all $T_x$ copies have the same weights. I.e., it should not re-initiaiize the weights every time---the $T_x$ steps should have shared weights. The key steps for implementing layers with shareable weights in Keras are: \n",
    "1. Define the layer objects (we will use global variables for this).\n",
    "2. Call these objects when propagating the input.\n",
    "\n",
    "We have defined the layers objects you need as global variables. Please run the next cell to create them. Please check the Keras documentation to make sure you understand what these layers are: [Reshape()](https://keras.io/layers/core/#reshape), [LSTM()](https://keras.io/layers/recurrent/#lstm), [Dense()](https://keras.io/layers/core/#dense).\n"
   ]
  },
  {
   "cell_type": "code",
   "execution_count": 6,
   "metadata": {
    "collapsed": true
   },
   "outputs": [],
   "source": [
    "reshapor = Reshape((1, 78))                        # Used in Step 2.B of djmodel(), below\n",
    "LSTM_cell = LSTM(n_a, return_state = True)         # Used in Step 2.C\n",
    "densor = Dense(n_values, activation='softmax')     # Used in Step 2.D"
   ]
  },
  {
   "cell_type": "markdown",
   "metadata": {},
   "source": [
    "Each of `reshapor`, `LSTM_cell` and `densor` are now layer objects, and you can use them to implement `djmodel()`. In order to propagate a Keras tensor object X through one of these layers, use `layer_object(X)` (or `layer_object([X,Y])` if it requires multiple inputs.). For example, `reshapor(X)` will propagate X through the `Reshape((1,78))` layer defined above."
   ]
  },
  {
   "cell_type": "markdown",
   "metadata": {},
   "source": [
    " \n",
    "**Exercise**: Implement `djmodel()`. You will need to carry out 2 steps:\n",
    "\n",
    "1. Create an empty list \"outputs\" to save the outputs of the LSTM Cell at every time step.\n",
    "2. Loop for $t \\in 1, \\ldots, T_x$:\n",
    "\n",
    "    A. Select the \"t\"th time-step vector from X. The shape of this selection should be (78,). To do so, create a custom [Lambda](https://keras.io/layers/core/#lambda) layer in Keras by using this line of code:\n",
    "```    \n",
    "           x = Lambda(lambda x: X[:,t,:])(X)\n",
    "``` \n",
    "Look over the Keras documentation to figure out what this does. It is creating a \"temporary\" or \"unnamed\" function (that's what Lambda functions are) that extracts out the appropriate one-hot vector, and making this function a Keras `Layer` object to apply to `X`. \n",
    "\n",
    "    B. Reshape x to be (1,78). You may find the `reshapor()` layer (defined below) helpful.\n",
    "\n",
    "    C. Run x through one step of LSTM_cell. Remember to initialize the LSTM_cell with the previous step's hidden state $a$ and cell state $c$. Use the following formatting:\n",
    "```python\n",
    "a, _, c = LSTM_cell(input_x, initial_state=[previous hidden state, previous cell state])\n",
    "```\n",
    "\n",
    "    D. Propagate the LSTM's output activation value through a dense+softmax layer using `densor`. \n",
    "    \n",
    "    E. Append the predicted value to the list of \"outputs\"\n",
    " \n"
   ]
  },
  {
   "cell_type": "code",
   "execution_count": 7,
   "metadata": {
    "collapsed": true
   },
   "outputs": [],
   "source": [
    "# GRADED FUNCTION: djmodel\n",
    "\n",
    "def djmodel(Tx, n_a, n_values):\n",
    "    \"\"\"\n",
    "    Implement the model\n",
    "    \n",
    "    Arguments:\n",
    "    Tx -- length of the sequence in a corpus\n",
    "    n_a -- the number of activations used in our model\n",
    "    n_values -- number of unique values in the music data \n",
    "    \n",
    "    Returns:\n",
    "    model -- a keras model with the \n",
    "    \"\"\"\n",
    "    \n",
    "    # Define the input of your model with a shape \n",
    "    X = Input(shape=(Tx, n_values))\n",
    "    \n",
    "    # Define s0, initial hidden state for the decoder LSTM\n",
    "    a0 = Input(shape=(n_a,), name='a0')\n",
    "    c0 = Input(shape=(n_a,), name='c0')\n",
    "    a = a0\n",
    "    c = c0\n",
    "    \n",
    "    ### START CODE HERE ### \n",
    "    # Step 1: Create empty list to append the outputs while you iterate (≈1 line)\n",
    "    outputs = []\n",
    "    \n",
    "    # Step 2: Loop\n",
    "    for t in range(Tx):\n",
    "        \n",
    "        # Step 2.A: select the \"t\"th time step vector from X. \n",
    "        x = Lambda(lambda x: X[:,t,:])(X)\n",
    "        # Step 2.B: Use reshapor to reshape x to be (1, n_values) (≈1 line)\n",
    "        x = reshapor(x)\n",
    "        # Step 2.C: Perform one step of the LSTM_cell\n",
    "        a, _, c = LSTM_cell(x,initial_state=[a, c])\n",
    "        # Step 2.D: Apply densor to the hidden state output of LSTM_Cell\n",
    "        out = densor(a)\n",
    "        # Step 2.E: add the output to \"outputs\"\n",
    "        outputs.append(out)\n",
    "        \n",
    "    # Step 3: Create model instance\n",
    "    model = Model([X,a0,c0],outputs=outputs)\n",
    "    \n",
    "    ### END CODE HERE ###\n",
    "    \n",
    "    return model"
   ]
  },
  {
   "cell_type": "markdown",
   "metadata": {},
   "source": [
    "Run the following cell to define your model. We will use `Tx=30`, `n_a=64` (the dimension of the LSTM activations), and `n_values=78`. This cell may take a few seconds to run. "
   ]
  },
  {
   "cell_type": "markdown",
   "metadata": {},
   "source": [
    "You now need to compile your model to be trained. We will Adam and a categorical cross-entropy loss."
   ]
  },
  {
   "cell_type": "code",
   "execution_count": 8,
   "metadata": {
    "collapsed": true
   },
   "outputs": [],
   "source": [
    "model = djmodel(Tx = 30 , n_a = 64, n_values = 78)\n",
    "opt = Adam(lr=0.01, beta_1=0.9, beta_2=0.999, decay=0.01)\n",
    "model.compile(optimizer=opt, loss='categorical_crossentropy', metrics=['accuracy'])"
   ]
  },
  {
   "cell_type": "markdown",
   "metadata": {},
   "source": [
    "Finally, lets initialize `a0` and `c0` for the LSTM's initial state to be zero. "
   ]
  },
  {
   "cell_type": "code",
   "execution_count": 9,
   "metadata": {
    "collapsed": true,
    "scrolled": true
   },
   "outputs": [],
   "source": [
    "m = 60\n",
    "a0 = np.zeros((m, n_a))\n",
    "c0 = np.zeros((m, n_a))"
   ]
  },
  {
   "cell_type": "markdown",
   "metadata": {},
   "source": [
    "Lets now fit the model! We will turn `Y` to a list before doing so, since the cost function expects `Y` to be provided in this format (one list item per time-step). So `list(Y)` is a list with 30 items, where each of the list items is of shape (60,78). Lets train for 100 epochs. This will take a few minutes. \n",
    "\n"
   ]
  },
  {
   "cell_type": "code",
   "execution_count": 9,
   "metadata": {
    "scrolled": true
   },
   "outputs": [
    {
     "name": "stdout",
     "output_type": "stream",
     "text": [
      "Epoch 1/100\n",
      "60/60 [==============================] - 5s - loss: 125.9325 - dense_1_loss_1: 4.3550 - dense_1_loss_2: 4.3479 - dense_1_loss_3: 4.3487 - dense_1_loss_4: 4.3417 - dense_1_loss_5: 4.3423 - dense_1_loss_6: 4.3394 - dense_1_loss_7: 4.3468 - dense_1_loss_8: 4.3425 - dense_1_loss_9: 4.3357 - dense_1_loss_10: 4.3352 - dense_1_loss_11: 4.3436 - dense_1_loss_12: 4.3402 - dense_1_loss_13: 4.3404 - dense_1_loss_14: 4.3455 - dense_1_loss_15: 4.3460 - dense_1_loss_16: 4.3430 - dense_1_loss_17: 4.3434 - dense_1_loss_18: 4.3420 - dense_1_loss_19: 4.3398 - dense_1_loss_20: 4.3448 - dense_1_loss_21: 4.3478 - dense_1_loss_22: 4.3438 - dense_1_loss_23: 4.3418 - dense_1_loss_24: 4.3353 - dense_1_loss_25: 4.3409 - dense_1_loss_26: 4.3348 - dense_1_loss_27: 4.3414 - dense_1_loss_28: 4.3429 - dense_1_loss_29: 4.3397 - dense_1_loss_30: 0.0000e+00 - dense_1_acc_1: 0.0000e+00 - dense_1_acc_2: 0.0333 - dense_1_acc_3: 0.0500 - dense_1_acc_4: 0.0500 - dense_1_acc_5: 0.0333 - dense_1_acc_6: 0.0500 - dense_1_acc_7: 0.0333 - dense_1_acc_8: 0.0333 - dense_1_acc_9: 0.0333 - dense_1_acc_10: 0.1167 - dense_1_acc_11: 0.0500 - dense_1_acc_12: 0.0500 - dense_1_acc_13: 0.0667 - dense_1_acc_14: 0.0667 - dense_1_acc_15: 0.0667 - dense_1_acc_16: 0.0333 - dense_1_acc_17: 0.0333 - dense_1_acc_18: 0.0667 - dense_1_acc_19: 0.0667 - dense_1_acc_20: 0.0333 - dense_1_acc_21: 0.0333 - dense_1_acc_22: 0.0500 - dense_1_acc_23: 0.0333 - dense_1_acc_24: 0.0667 - dense_1_acc_25: 0.0167 - dense_1_acc_26: 0.0500 - dense_1_acc_27: 0.0333 - dense_1_acc_28: 0.0000e+00 - dense_1_acc_29: 0.1167 - dense_1_acc_30: 0.0000e+00                                                                                             \n",
      "Epoch 2/100\n",
      "60/60 [==============================] - 0s - loss: 122.7241 - dense_1_loss_1: 4.3341 - dense_1_loss_2: 4.3046 - dense_1_loss_3: 4.2880 - dense_1_loss_4: 4.2791 - dense_1_loss_5: 4.2520 - dense_1_loss_6: 4.2513 - dense_1_loss_7: 4.2569 - dense_1_loss_8: 4.2275 - dense_1_loss_9: 4.2325 - dense_1_loss_10: 4.2299 - dense_1_loss_11: 4.2243 - dense_1_loss_12: 4.2366 - dense_1_loss_13: 4.2205 - dense_1_loss_14: 4.2073 - dense_1_loss_15: 4.2209 - dense_1_loss_16: 4.2069 - dense_1_loss_17: 4.2122 - dense_1_loss_18: 4.2497 - dense_1_loss_19: 4.2029 - dense_1_loss_20: 4.2212 - dense_1_loss_21: 4.2322 - dense_1_loss_22: 4.2050 - dense_1_loss_23: 4.2048 - dense_1_loss_24: 4.2134 - dense_1_loss_25: 4.2181 - dense_1_loss_26: 4.1681 - dense_1_loss_27: 4.1850 - dense_1_loss_28: 4.2131 - dense_1_loss_29: 4.2257 - dense_1_loss_30: 0.0000e+00 - dense_1_acc_1: 0.0333 - dense_1_acc_2: 0.1500 - dense_1_acc_3: 0.1833 - dense_1_acc_4: 0.2167 - dense_1_acc_5: 0.2500 - dense_1_acc_6: 0.1333 - dense_1_acc_7: 0.1333 - dense_1_acc_8: 0.2167 - dense_1_acc_9: 0.1833 - dense_1_acc_10: 0.2500 - dense_1_acc_11: 0.2000 - dense_1_acc_12: 0.1667 - dense_1_acc_13: 0.2500 - dense_1_acc_14: 0.1833 - dense_1_acc_15: 0.1667 - dense_1_acc_16: 0.1833 - dense_1_acc_17: 0.1500 - dense_1_acc_18: 0.1500 - dense_1_acc_19: 0.2000 - dense_1_acc_20: 0.1833 - dense_1_acc_21: 0.1167 - dense_1_acc_22: 0.1333 - dense_1_acc_23: 0.0667 - dense_1_acc_24: 0.0833 - dense_1_acc_25: 0.1667 - dense_1_acc_26: 0.1833 - dense_1_acc_27: 0.1000 - dense_1_acc_28: 0.1667 - dense_1_acc_29: 0.1333 - dense_1_acc_30: 0.0000e+00         \n",
      "Epoch 3/100\n",
      "60/60 [==============================] - 0s - loss: 116.5257 - dense_1_loss_1: 4.3127 - dense_1_loss_2: 4.2556 - dense_1_loss_3: 4.2072 - dense_1_loss_4: 4.1814 - dense_1_loss_5: 4.1198 - dense_1_loss_6: 4.1211 - dense_1_loss_7: 4.1033 - dense_1_loss_8: 3.9990 - dense_1_loss_9: 3.9939 - dense_1_loss_10: 3.9655 - dense_1_loss_11: 3.9239 - dense_1_loss_12: 4.0490 - dense_1_loss_13: 3.9561 - dense_1_loss_14: 3.9087 - dense_1_loss_15: 3.9879 - dense_1_loss_16: 3.9503 - dense_1_loss_17: 4.0035 - dense_1_loss_18: 4.0880 - dense_1_loss_19: 3.8262 - dense_1_loss_20: 4.0615 - dense_1_loss_21: 4.0632 - dense_1_loss_22: 3.8712 - dense_1_loss_23: 3.8190 - dense_1_loss_24: 3.9596 - dense_1_loss_25: 4.0546 - dense_1_loss_26: 3.7742 - dense_1_loss_27: 3.8304 - dense_1_loss_28: 3.9575 - dense_1_loss_29: 4.1811 - dense_1_loss_30: 0.0000e+00 - dense_1_acc_1: 0.0333 - dense_1_acc_2: 0.1667 - dense_1_acc_3: 0.1333 - dense_1_acc_4: 0.1833 - dense_1_acc_5: 0.2167 - dense_1_acc_6: 0.1167 - dense_1_acc_7: 0.1167 - dense_1_acc_8: 0.2333 - dense_1_acc_9: 0.0833 - dense_1_acc_10: 0.0500 - dense_1_acc_11: 0.1000 - dense_1_acc_12: 0.1000 - dense_1_acc_13: 0.1167 - dense_1_acc_14: 0.1000 - dense_1_acc_15: 0.0833 - dense_1_acc_16: 0.0667 - dense_1_acc_17: 0.0500 - dense_1_acc_18: 0.1333 - dense_1_acc_19: 0.0667 - dense_1_acc_20: 0.0000e+00 - dense_1_acc_21: 0.0500 - dense_1_acc_22: 0.1167 - dense_1_acc_23: 0.1000 - dense_1_acc_24: 0.0333 - dense_1_acc_25: 0.0500 - dense_1_acc_26: 0.0667 - dense_1_acc_27: 0.0833 - dense_1_acc_28: 0.0833 - dense_1_acc_29: 0.0167 - dense_1_acc_30: 0.0000e+00             \n",
      "Epoch 4/100\n",
      "60/60 [==============================] - 0s - loss: 113.1039 - dense_1_loss_1: 4.2901 - dense_1_loss_2: 4.2054 - dense_1_loss_3: 4.1111 - dense_1_loss_4: 4.0829 - dense_1_loss_5: 3.9706 - dense_1_loss_6: 3.9832 - dense_1_loss_7: 3.9371 - dense_1_loss_8: 3.7487 - dense_1_loss_9: 3.8029 - dense_1_loss_10: 3.7192 - dense_1_loss_11: 3.7981 - dense_1_loss_12: 4.0119 - dense_1_loss_13: 3.8040 - dense_1_loss_14: 3.7426 - dense_1_loss_15: 3.8057 - dense_1_loss_16: 3.7867 - dense_1_loss_17: 3.8938 - dense_1_loss_18: 3.9851 - dense_1_loss_19: 3.7591 - dense_1_loss_20: 4.0914 - dense_1_loss_21: 3.9611 - dense_1_loss_22: 3.8501 - dense_1_loss_23: 3.7987 - dense_1_loss_24: 3.8320 - dense_1_loss_25: 3.9874 - dense_1_loss_26: 3.6076 - dense_1_loss_27: 3.7615 - dense_1_loss_28: 3.8174 - dense_1_loss_29: 3.9584 - dense_1_loss_30: 0.0000e+00 - dense_1_acc_1: 0.0333 - dense_1_acc_2: 0.1833 - dense_1_acc_3: 0.2333 - dense_1_acc_4: 0.1833 - dense_1_acc_5: 0.2500 - dense_1_acc_6: 0.1500 - dense_1_acc_7: 0.1000 - dense_1_acc_8: 0.2000 - dense_1_acc_9: 0.1167 - dense_1_acc_10: 0.1000 - dense_1_acc_11: 0.0833 - dense_1_acc_12: 0.0333 - dense_1_acc_13: 0.0833 - dense_1_acc_14: 0.1000 - dense_1_acc_15: 0.0500 - dense_1_acc_16: 0.1000 - dense_1_acc_17: 0.1000 - dense_1_acc_18: 0.0333 - dense_1_acc_19: 0.1000 - dense_1_acc_20: 0.1000 - dense_1_acc_21: 0.0667 - dense_1_acc_22: 0.0667 - dense_1_acc_23: 0.0667 - dense_1_acc_24: 0.0500 - dense_1_acc_25: 0.0833 - dense_1_acc_26: 0.1167 - dense_1_acc_27: 0.0333 - dense_1_acc_28: 0.1000 - dense_1_acc_29: 0.1167 - dense_1_acc_30: 0.0000e+00         \n",
      "Epoch 5/100\n",
      "60/60 [==============================] - 0s - loss: 110.7841 - dense_1_loss_1: 4.2722 - dense_1_loss_2: 4.1610 - dense_1_loss_3: 4.0297 - dense_1_loss_4: 4.0043 - dense_1_loss_5: 3.8595 - dense_1_loss_6: 3.9022 - dense_1_loss_7: 3.8451 - dense_1_loss_8: 3.6467 - dense_1_loss_9: 3.7344 - dense_1_loss_10: 3.6102 - dense_1_loss_11: 3.7157 - dense_1_loss_12: 3.9772 - dense_1_loss_13: 3.7040 - dense_1_loss_14: 3.6382 - dense_1_loss_15: 3.6668 - dense_1_loss_16: 3.7086 - dense_1_loss_17: 3.8207 - dense_1_loss_18: 3.8375 - dense_1_loss_19: 3.7047 - dense_1_loss_20: 3.9588 - dense_1_loss_21: 3.9379 - dense_1_loss_22: 3.7135 - dense_1_loss_23: 3.6866 - dense_1_loss_24: 3.7472 - dense_1_loss_25: 3.9140 - dense_1_loss_26: 3.5677 - dense_1_loss_27: 3.6848 - dense_1_loss_28: 3.8088 - dense_1_loss_29: 3.9262 - dense_1_loss_30: 0.0000e+00 - dense_1_acc_1: 0.0333 - dense_1_acc_2: 0.1500 - dense_1_acc_3: 0.2500 - dense_1_acc_4: 0.1833 - dense_1_acc_5: 0.2833 - dense_1_acc_6: 0.1500 - dense_1_acc_7: 0.1000 - dense_1_acc_8: 0.1500 - dense_1_acc_9: 0.1833 - dense_1_acc_10: 0.1667 - dense_1_acc_11: 0.1000 - dense_1_acc_12: 0.0167 - dense_1_acc_13: 0.1167 - dense_1_acc_14: 0.1500 - dense_1_acc_15: 0.1167 - dense_1_acc_16: 0.1000 - dense_1_acc_17: 0.0833 - dense_1_acc_18: 0.0333 - dense_1_acc_19: 0.1500 - dense_1_acc_20: 0.0667 - dense_1_acc_21: 0.0833 - dense_1_acc_22: 0.1167 - dense_1_acc_23: 0.0667 - dense_1_acc_24: 0.1000 - dense_1_acc_25: 0.0167 - dense_1_acc_26: 0.1833 - dense_1_acc_27: 0.1167 - dense_1_acc_28: 0.1000 - dense_1_acc_29: 0.0500 - dense_1_acc_30: 0.0000e+00             \n",
      "Epoch 6/100\n",
      "60/60 [==============================] - 0s - loss: 107.3472 - dense_1_loss_1: 4.2545 - dense_1_loss_2: 4.1175 - dense_1_loss_3: 3.9458 - dense_1_loss_4: 3.9142 - dense_1_loss_5: 3.7762 - dense_1_loss_6: 3.8072 - dense_1_loss_7: 3.7756 - dense_1_loss_8: 3.5286 - dense_1_loss_9: 3.6328 - dense_1_loss_10: 3.4542 - dense_1_loss_11: 3.6014 - dense_1_loss_12: 3.8462 - dense_1_loss_13: 3.5528 - dense_1_loss_14: 3.5547 - dense_1_loss_15: 3.5618 - dense_1_loss_16: 3.5669 - dense_1_loss_17: 3.6972 - dense_1_loss_18: 3.6583 - dense_1_loss_19: 3.5364 - dense_1_loss_20: 3.7915 - dense_1_loss_21: 3.7686 - dense_1_loss_22: 3.5926 - dense_1_loss_23: 3.5659 - dense_1_loss_24: 3.5577 - dense_1_loss_25: 3.8284 - dense_1_loss_26: 3.4418 - dense_1_loss_27: 3.6121 - dense_1_loss_28: 3.6439 - dense_1_loss_29: 3.7621 - dense_1_loss_30: 0.0000e+00 - dense_1_acc_1: 0.0333 - dense_1_acc_2: 0.1667 - dense_1_acc_3: 0.2167 - dense_1_acc_4: 0.1833 - dense_1_acc_5: 0.2833 - dense_1_acc_6: 0.1333 - dense_1_acc_7: 0.1333 - dense_1_acc_8: 0.1500 - dense_1_acc_9: 0.1833 - dense_1_acc_10: 0.1833 - dense_1_acc_11: 0.1833 - dense_1_acc_12: 0.1000 - dense_1_acc_13: 0.2000 - dense_1_acc_14: 0.2333 - dense_1_acc_15: 0.2000 - dense_1_acc_16: 0.1500 - dense_1_acc_17: 0.1333 - dense_1_acc_18: 0.1500 - dense_1_acc_19: 0.2000 - dense_1_acc_20: 0.0667 - dense_1_acc_21: 0.1167 - dense_1_acc_22: 0.1833 - dense_1_acc_23: 0.1167 - dense_1_acc_24: 0.1167 - dense_1_acc_25: 0.0667 - dense_1_acc_26: 0.2000 - dense_1_acc_27: 0.1000 - dense_1_acc_28: 0.1833 - dense_1_acc_29: 0.1000 - dense_1_acc_30: 0.0000e+00     \n",
      "Epoch 7/100\n",
      "60/60 [==============================] - 0s - loss: 103.9714 - dense_1_loss_1: 4.2394 - dense_1_loss_2: 4.0769 - dense_1_loss_3: 3.8701 - dense_1_loss_4: 3.8234 - dense_1_loss_5: 3.6585 - dense_1_loss_6: 3.7132 - dense_1_loss_7: 3.6987 - dense_1_loss_8: 3.4185 - dense_1_loss_9: 3.4695 - dense_1_loss_10: 3.3008 - dense_1_loss_11: 3.4943 - dense_1_loss_12: 3.7406 - dense_1_loss_13: 3.3760 - dense_1_loss_14: 3.4116 - dense_1_loss_15: 3.4780 - dense_1_loss_16: 3.4374 - dense_1_loss_17: 3.5216 - dense_1_loss_18: 3.5404 - dense_1_loss_19: 3.3969 - dense_1_loss_20: 3.5687 - dense_1_loss_21: 3.6340 - dense_1_loss_22: 3.5176 - dense_1_loss_23: 3.4789 - dense_1_loss_24: 3.4369 - dense_1_loss_25: 3.7008 - dense_1_loss_26: 3.3192 - dense_1_loss_27: 3.5676 - dense_1_loss_28: 3.4642 - dense_1_loss_29: 3.6177 - dense_1_loss_30: 0.0000e+00 - dense_1_acc_1: 0.0167 - dense_1_acc_2: 0.1667 - dense_1_acc_3: 0.2167 - dense_1_acc_4: 0.2000 - dense_1_acc_5: 0.2667 - dense_1_acc_6: 0.1167 - dense_1_acc_7: 0.1167 - dense_1_acc_8: 0.1333 - dense_1_acc_9: 0.2000 - dense_1_acc_10: 0.1667 - dense_1_acc_11: 0.1333 - dense_1_acc_12: 0.0667 - dense_1_acc_13: 0.1667 - dense_1_acc_14: 0.1833 - dense_1_acc_15: 0.1500 - dense_1_acc_16: 0.1167 - dense_1_acc_17: 0.1833 - dense_1_acc_18: 0.1167 - dense_1_acc_19: 0.1167 - dense_1_acc_20: 0.1000 - dense_1_acc_21: 0.1167 - dense_1_acc_22: 0.0833 - dense_1_acc_23: 0.1000 - dense_1_acc_24: 0.1000 - dense_1_acc_25: 0.0833 - dense_1_acc_26: 0.2167 - dense_1_acc_27: 0.0167 - dense_1_acc_28: 0.2000 - dense_1_acc_29: 0.1167 - dense_1_acc_30: 0.0000e+00             \n",
      "Epoch 8/100\n",
      "60/60 [==============================] - 0s - loss: 100.5136 - dense_1_loss_1: 4.2263 - dense_1_loss_2: 4.0341 - dense_1_loss_3: 3.8001 - dense_1_loss_4: 3.7369 - dense_1_loss_5: 3.5507 - dense_1_loss_6: 3.6020 - dense_1_loss_7: 3.5921 - dense_1_loss_8: 3.2906 - dense_1_loss_9: 3.3288 - dense_1_loss_10: 3.1568 - dense_1_loss_11: 3.3799 - dense_1_loss_12: 3.5056 - dense_1_loss_13: 3.2190 - dense_1_loss_14: 3.2407 - dense_1_loss_15: 3.3584 - dense_1_loss_16: 3.2995 - dense_1_loss_17: 3.3679 - dense_1_loss_18: 3.3903 - dense_1_loss_19: 3.2551 - dense_1_loss_20: 3.4366 - dense_1_loss_21: 3.4919 - dense_1_loss_22: 3.3487 - dense_1_loss_23: 3.4065 - dense_1_loss_24: 3.3436 - dense_1_loss_25: 3.5611 - dense_1_loss_26: 3.2317 - dense_1_loss_27: 3.4155 - dense_1_loss_28: 3.3769 - dense_1_loss_29: 3.5662 - dense_1_loss_30: 0.0000e+00 - dense_1_acc_1: 0.0333 - dense_1_acc_2: 0.1667 - dense_1_acc_3: 0.2333 - dense_1_acc_4: 0.1833 - dense_1_acc_5: 0.2833 - dense_1_acc_6: 0.1667 - dense_1_acc_7: 0.1167 - dense_1_acc_8: 0.1500 - dense_1_acc_9: 0.1333 - dense_1_acc_10: 0.1667 - dense_1_acc_11: 0.1667 - dense_1_acc_12: 0.1167 - dense_1_acc_13: 0.2167 - dense_1_acc_14: 0.2500 - dense_1_acc_15: 0.1833 - dense_1_acc_16: 0.1667 - dense_1_acc_17: 0.1833 - dense_1_acc_18: 0.1500 - dense_1_acc_19: 0.2000 - dense_1_acc_20: 0.1000 - dense_1_acc_21: 0.1000 - dense_1_acc_22: 0.1833 - dense_1_acc_23: 0.0667 - dense_1_acc_24: 0.0833 - dense_1_acc_25: 0.0667 - dense_1_acc_26: 0.1667 - dense_1_acc_27: 0.1000 - dense_1_acc_28: 0.1333 - dense_1_acc_29: 0.1000 - dense_1_acc_30: 0.0000e+00     \n",
      "Epoch 9/100\n",
      "60/60 [==============================] - 0s - loss: 96.6152 - dense_1_loss_1: 4.2148 - dense_1_loss_2: 3.9949 - dense_1_loss_3: 3.7327 - dense_1_loss_4: 3.6464 - dense_1_loss_5: 3.4411 - dense_1_loss_6: 3.4910 - dense_1_loss_7: 3.4672 - dense_1_loss_8: 3.1794 - dense_1_loss_9: 3.2019 - dense_1_loss_10: 3.0376 - dense_1_loss_11: 3.3078 - dense_1_loss_12: 3.3230 - dense_1_loss_13: 3.0877 - dense_1_loss_14: 3.1412 - dense_1_loss_15: 3.2014 - dense_1_loss_16: 3.1971 - dense_1_loss_17: 3.2414 - dense_1_loss_18: 3.2570 - dense_1_loss_19: 3.1639 - dense_1_loss_20: 3.3293 - dense_1_loss_21: 3.2570 - dense_1_loss_22: 3.2604 - dense_1_loss_23: 3.3111 - dense_1_loss_24: 3.1423 - dense_1_loss_25: 3.3499 - dense_1_loss_26: 3.0368 - dense_1_loss_27: 3.1995 - dense_1_loss_28: 3.1408 - dense_1_loss_29: 3.2607 - dense_1_loss_30: 0.0000e+00 - dense_1_acc_1: 0.0333 - dense_1_acc_2: 0.1667 - dense_1_acc_3: 0.2500 - dense_1_acc_4: 0.1833 - dense_1_acc_5: 0.2833 - dense_1_acc_6: 0.1667 - dense_1_acc_7: 0.1167 - dense_1_acc_8: 0.2000 - dense_1_acc_9: 0.1667 - dense_1_acc_10: 0.1833 - dense_1_acc_11: 0.1667 - dense_1_acc_12: 0.1500 - dense_1_acc_13: 0.2167 - dense_1_acc_14: 0.2333 - dense_1_acc_15: 0.2000 - dense_1_acc_16: 0.1833 - dense_1_acc_17: 0.2333 - dense_1_acc_18: 0.0833 - dense_1_acc_19: 0.1833 - dense_1_acc_20: 0.1500 - dense_1_acc_21: 0.1000 - dense_1_acc_22: 0.1167 - dense_1_acc_23: 0.0833 - dense_1_acc_24: 0.0833 - dense_1_acc_25: 0.1667 - dense_1_acc_26: 0.2500 - dense_1_acc_27: 0.0667 - dense_1_acc_28: 0.2167 - dense_1_acc_29: 0.1667 - dense_1_acc_30: 0.0000e+00     \n",
      "Epoch 10/100\n",
      "60/60 [==============================] - 0s - loss: 92.6839 - dense_1_loss_1: 4.2047 - dense_1_loss_2: 3.9569 - dense_1_loss_3: 3.6671 - dense_1_loss_4: 3.5635 - dense_1_loss_5: 3.3355 - dense_1_loss_6: 3.3791 - dense_1_loss_7: 3.3267 - dense_1_loss_8: 3.0559 - dense_1_loss_9: 3.1007 - dense_1_loss_10: 2.9329 - dense_1_loss_11: 3.2163 - dense_1_loss_12: 3.1102 - dense_1_loss_13: 2.9557 - dense_1_loss_14: 2.9450 - dense_1_loss_15: 3.0582 - dense_1_loss_16: 3.0092 - dense_1_loss_17: 3.0719 - dense_1_loss_18: 3.0358 - dense_1_loss_19: 2.9904 - dense_1_loss_20: 3.2120 - dense_1_loss_21: 3.0906 - dense_1_loss_22: 3.0461 - dense_1_loss_23: 3.1359 - dense_1_loss_24: 3.0162 - dense_1_loss_25: 3.2209 - dense_1_loss_26: 2.9141 - dense_1_loss_27: 2.9812 - dense_1_loss_28: 3.0192 - dense_1_loss_29: 3.1319 - dense_1_loss_30: 0.0000e+00 - dense_1_acc_1: 0.0333 - dense_1_acc_2: 0.1667 - dense_1_acc_3: 0.2333 - dense_1_acc_4: 0.1833 - dense_1_acc_5: 0.3167 - dense_1_acc_6: 0.1500 - dense_1_acc_7: 0.1333 - dense_1_acc_8: 0.1667 - dense_1_acc_9: 0.2000 - dense_1_acc_10: 0.2000 - dense_1_acc_11: 0.1833 - dense_1_acc_12: 0.1667 - dense_1_acc_13: 0.2333 - dense_1_acc_14: 0.2333 - dense_1_acc_15: 0.2167 - dense_1_acc_16: 0.1333 - dense_1_acc_17: 0.2000 - dense_1_acc_18: 0.1833 - dense_1_acc_19: 0.2000 - dense_1_acc_20: 0.0500 - dense_1_acc_21: 0.1500 - dense_1_acc_22: 0.1667 - dense_1_acc_23: 0.1833 - dense_1_acc_24: 0.1167 - dense_1_acc_25: 0.1500 - dense_1_acc_26: 0.2333 - dense_1_acc_27: 0.2000 - dense_1_acc_28: 0.2333 - dense_1_acc_29: 0.1500 - dense_1_acc_30: 0.0000e+00     \n",
      "Epoch 11/100\n"
     ]
    },
    {
     "name": "stdout",
     "output_type": "stream",
     "text": [
      "60/60 [==============================] - 0s - loss: 88.1358 - dense_1_loss_1: 4.1938 - dense_1_loss_2: 3.9161 - dense_1_loss_3: 3.5909 - dense_1_loss_4: 3.4603 - dense_1_loss_5: 3.2085 - dense_1_loss_6: 3.2366 - dense_1_loss_7: 3.1851 - dense_1_loss_8: 2.9121 - dense_1_loss_9: 2.9579 - dense_1_loss_10: 2.8031 - dense_1_loss_11: 3.1045 - dense_1_loss_12: 2.9628 - dense_1_loss_13: 2.7200 - dense_1_loss_14: 2.7102 - dense_1_loss_15: 2.8819 - dense_1_loss_16: 2.8438 - dense_1_loss_17: 2.8876 - dense_1_loss_18: 2.8498 - dense_1_loss_19: 2.8744 - dense_1_loss_20: 2.9958 - dense_1_loss_21: 2.8888 - dense_1_loss_22: 2.9188 - dense_1_loss_23: 2.9782 - dense_1_loss_24: 2.8285 - dense_1_loss_25: 2.9762 - dense_1_loss_26: 2.7013 - dense_1_loss_27: 2.8738 - dense_1_loss_28: 2.7917 - dense_1_loss_29: 2.8835 - dense_1_loss_30: 0.0000e+00 - dense_1_acc_1: 0.0333 - dense_1_acc_2: 0.2000 - dense_1_acc_3: 0.2333 - dense_1_acc_4: 0.2167 - dense_1_acc_5: 0.3000 - dense_1_acc_6: 0.1500 - dense_1_acc_7: 0.1167 - dense_1_acc_8: 0.2167 - dense_1_acc_9: 0.2167 - dense_1_acc_10: 0.2000 - dense_1_acc_11: 0.2333 - dense_1_acc_12: 0.1833 - dense_1_acc_13: 0.2667 - dense_1_acc_14: 0.2667 - dense_1_acc_15: 0.2500 - dense_1_acc_16: 0.2833 - dense_1_acc_17: 0.2333 - dense_1_acc_18: 0.2333 - dense_1_acc_19: 0.3167 - dense_1_acc_20: 0.2667 - dense_1_acc_21: 0.2833 - dense_1_acc_22: 0.2333 - dense_1_acc_23: 0.1833 - dense_1_acc_24: 0.1833 - dense_1_acc_25: 0.1333 - dense_1_acc_26: 0.3000 - dense_1_acc_27: 0.1833 - dense_1_acc_28: 0.3000 - dense_1_acc_29: 0.2167 - dense_1_acc_30: 0.0000e+00     \n",
      "Epoch 12/100\n",
      "60/60 [==============================] - 0s - loss: 84.4137 - dense_1_loss_1: 4.1833 - dense_1_loss_2: 3.8724 - dense_1_loss_3: 3.5085 - dense_1_loss_4: 3.3513 - dense_1_loss_5: 3.0765 - dense_1_loss_6: 3.0946 - dense_1_loss_7: 3.0382 - dense_1_loss_8: 2.7675 - dense_1_loss_9: 2.8072 - dense_1_loss_10: 2.6388 - dense_1_loss_11: 3.0000 - dense_1_loss_12: 2.8034 - dense_1_loss_13: 2.5568 - dense_1_loss_14: 2.5851 - dense_1_loss_15: 2.7475 - dense_1_loss_16: 2.7084 - dense_1_loss_17: 2.6975 - dense_1_loss_18: 2.6532 - dense_1_loss_19: 2.7417 - dense_1_loss_20: 2.8090 - dense_1_loss_21: 2.7071 - dense_1_loss_22: 2.8495 - dense_1_loss_23: 2.7890 - dense_1_loss_24: 2.7469 - dense_1_loss_25: 2.9136 - dense_1_loss_26: 2.5169 - dense_1_loss_27: 2.7635 - dense_1_loss_28: 2.7181 - dense_1_loss_29: 2.7684 - dense_1_loss_30: 0.0000e+00 - dense_1_acc_1: 0.0667 - dense_1_acc_2: 0.2000 - dense_1_acc_3: 0.2500 - dense_1_acc_4: 0.2167 - dense_1_acc_5: 0.2500 - dense_1_acc_6: 0.1333 - dense_1_acc_7: 0.1167 - dense_1_acc_8: 0.2000 - dense_1_acc_9: 0.2833 - dense_1_acc_10: 0.2500 - dense_1_acc_11: 0.2333 - dense_1_acc_12: 0.1833 - dense_1_acc_13: 0.2833 - dense_1_acc_14: 0.3000 - dense_1_acc_15: 0.2167 - dense_1_acc_16: 0.2500 - dense_1_acc_17: 0.2500 - dense_1_acc_18: 0.2333 - dense_1_acc_19: 0.2667 - dense_1_acc_20: 0.2333 - dense_1_acc_21: 0.2333 - dense_1_acc_22: 0.2333 - dense_1_acc_23: 0.2500 - dense_1_acc_24: 0.2167 - dense_1_acc_25: 0.0667 - dense_1_acc_26: 0.3167 - dense_1_acc_27: 0.2333 - dense_1_acc_28: 0.3000 - dense_1_acc_29: 0.2167 - dense_1_acc_30: 0.0000e+00     \n",
      "Epoch 13/100\n",
      "60/60 [==============================] - 0s - loss: 80.2168 - dense_1_loss_1: 4.1728 - dense_1_loss_2: 3.8307 - dense_1_loss_3: 3.4314 - dense_1_loss_4: 3.2570 - dense_1_loss_5: 2.9571 - dense_1_loss_6: 2.9625 - dense_1_loss_7: 2.8703 - dense_1_loss_8: 2.6307 - dense_1_loss_9: 2.6832 - dense_1_loss_10: 2.5717 - dense_1_loss_11: 2.8795 - dense_1_loss_12: 2.6813 - dense_1_loss_13: 2.4343 - dense_1_loss_14: 2.4865 - dense_1_loss_15: 2.5902 - dense_1_loss_16: 2.5279 - dense_1_loss_17: 2.5487 - dense_1_loss_18: 2.5358 - dense_1_loss_19: 2.6275 - dense_1_loss_20: 2.6151 - dense_1_loss_21: 2.5191 - dense_1_loss_22: 2.5734 - dense_1_loss_23: 2.6131 - dense_1_loss_24: 2.5276 - dense_1_loss_25: 2.6910 - dense_1_loss_26: 2.3500 - dense_1_loss_27: 2.5672 - dense_1_loss_28: 2.5065 - dense_1_loss_29: 2.5745 - dense_1_loss_30: 0.0000e+00 - dense_1_acc_1: 0.0667 - dense_1_acc_2: 0.2000 - dense_1_acc_3: 0.2667 - dense_1_acc_4: 0.2167 - dense_1_acc_5: 0.2500 - dense_1_acc_6: 0.1167 - dense_1_acc_7: 0.2333 - dense_1_acc_8: 0.2667 - dense_1_acc_9: 0.2667 - dense_1_acc_10: 0.2667 - dense_1_acc_11: 0.2500 - dense_1_acc_12: 0.2000 - dense_1_acc_13: 0.2833 - dense_1_acc_14: 0.3000 - dense_1_acc_15: 0.2667 - dense_1_acc_16: 0.2667 - dense_1_acc_17: 0.2667 - dense_1_acc_18: 0.2667 - dense_1_acc_19: 0.3000 - dense_1_acc_20: 0.2333 - dense_1_acc_21: 0.2667 - dense_1_acc_22: 0.3167 - dense_1_acc_23: 0.3167 - dense_1_acc_24: 0.2167 - dense_1_acc_25: 0.1500 - dense_1_acc_26: 0.3500 - dense_1_acc_27: 0.3000 - dense_1_acc_28: 0.3667 - dense_1_acc_29: 0.2333 - dense_1_acc_30: 0.0000e+00     \n",
      "Epoch 14/100\n",
      "60/60 [==============================] - 0s - loss: 76.2255 - dense_1_loss_1: 4.1644 - dense_1_loss_2: 3.7864 - dense_1_loss_3: 3.3519 - dense_1_loss_4: 3.1494 - dense_1_loss_5: 2.8425 - dense_1_loss_6: 2.8071 - dense_1_loss_7: 2.7419 - dense_1_loss_8: 2.4853 - dense_1_loss_9: 2.5504 - dense_1_loss_10: 2.4411 - dense_1_loss_11: 2.7240 - dense_1_loss_12: 2.5251 - dense_1_loss_13: 2.3065 - dense_1_loss_14: 2.3761 - dense_1_loss_15: 2.4129 - dense_1_loss_16: 2.3965 - dense_1_loss_17: 2.3601 - dense_1_loss_18: 2.4199 - dense_1_loss_19: 2.4617 - dense_1_loss_20: 2.4005 - dense_1_loss_21: 2.3579 - dense_1_loss_22: 2.4611 - dense_1_loss_23: 2.4265 - dense_1_loss_24: 2.3839 - dense_1_loss_25: 2.4800 - dense_1_loss_26: 2.2154 - dense_1_loss_27: 2.4455 - dense_1_loss_28: 2.3419 - dense_1_loss_29: 2.4096 - dense_1_loss_30: 0.0000e+00 - dense_1_acc_1: 0.0667 - dense_1_acc_2: 0.2000 - dense_1_acc_3: 0.3000 - dense_1_acc_4: 0.2167 - dense_1_acc_5: 0.2833 - dense_1_acc_6: 0.2000 - dense_1_acc_7: 0.2667 - dense_1_acc_8: 0.3000 - dense_1_acc_9: 0.2833 - dense_1_acc_10: 0.2500 - dense_1_acc_11: 0.2333 - dense_1_acc_12: 0.2000 - dense_1_acc_13: 0.2833 - dense_1_acc_14: 0.3667 - dense_1_acc_15: 0.3500 - dense_1_acc_16: 0.3667 - dense_1_acc_17: 0.3333 - dense_1_acc_18: 0.3500 - dense_1_acc_19: 0.3333 - dense_1_acc_20: 0.3333 - dense_1_acc_21: 0.2833 - dense_1_acc_22: 0.3167 - dense_1_acc_23: 0.3667 - dense_1_acc_24: 0.3167 - dense_1_acc_25: 0.2000 - dense_1_acc_26: 0.4667 - dense_1_acc_27: 0.4000 - dense_1_acc_28: 0.4000 - dense_1_acc_29: 0.2833 - dense_1_acc_30: 0.0000e+00     \n",
      "Epoch 15/100\n",
      "60/60 [==============================] - 0s - loss: 72.7140 - dense_1_loss_1: 4.1559 - dense_1_loss_2: 3.7402 - dense_1_loss_3: 3.2656 - dense_1_loss_4: 3.0452 - dense_1_loss_5: 2.7159 - dense_1_loss_6: 2.6589 - dense_1_loss_7: 2.6271 - dense_1_loss_8: 2.3302 - dense_1_loss_9: 2.4568 - dense_1_loss_10: 2.3413 - dense_1_loss_11: 2.5811 - dense_1_loss_12: 2.3479 - dense_1_loss_13: 2.1722 - dense_1_loss_14: 2.2206 - dense_1_loss_15: 2.2132 - dense_1_loss_16: 2.2571 - dense_1_loss_17: 2.1876 - dense_1_loss_18: 2.2935 - dense_1_loss_19: 2.3201 - dense_1_loss_20: 2.2422 - dense_1_loss_21: 2.2599 - dense_1_loss_22: 2.3627 - dense_1_loss_23: 2.3207 - dense_1_loss_24: 2.2968 - dense_1_loss_25: 2.3871 - dense_1_loss_26: 2.1041 - dense_1_loss_27: 2.3557 - dense_1_loss_28: 2.2222 - dense_1_loss_29: 2.2324 - dense_1_loss_30: 0.0000e+00 - dense_1_acc_1: 0.0667 - dense_1_acc_2: 0.2333 - dense_1_acc_3: 0.2833 - dense_1_acc_4: 0.2500 - dense_1_acc_5: 0.2500 - dense_1_acc_6: 0.2333 - dense_1_acc_7: 0.2667 - dense_1_acc_8: 0.3833 - dense_1_acc_9: 0.3667 - dense_1_acc_10: 0.4167 - dense_1_acc_11: 0.3167 - dense_1_acc_12: 0.2833 - dense_1_acc_13: 0.3833 - dense_1_acc_14: 0.3833 - dense_1_acc_15: 0.3667 - dense_1_acc_16: 0.4000 - dense_1_acc_17: 0.3000 - dense_1_acc_18: 0.3000 - dense_1_acc_19: 0.3500 - dense_1_acc_20: 0.4000 - dense_1_acc_21: 0.3667 - dense_1_acc_22: 0.3000 - dense_1_acc_23: 0.3167 - dense_1_acc_24: 0.3500 - dense_1_acc_25: 0.1833 - dense_1_acc_26: 0.4167 - dense_1_acc_27: 0.3167 - dense_1_acc_28: 0.3833 - dense_1_acc_29: 0.3000 - dense_1_acc_30: 0.0000e+00     \n",
      "Epoch 16/100\n",
      "60/60 [==============================] - 0s - loss: 69.1559 - dense_1_loss_1: 4.1472 - dense_1_loss_2: 3.6962 - dense_1_loss_3: 3.1812 - dense_1_loss_4: 2.9455 - dense_1_loss_5: 2.6032 - dense_1_loss_6: 2.5256 - dense_1_loss_7: 2.5305 - dense_1_loss_8: 2.2026 - dense_1_loss_9: 2.3028 - dense_1_loss_10: 2.2042 - dense_1_loss_11: 2.4275 - dense_1_loss_12: 2.1915 - dense_1_loss_13: 2.0154 - dense_1_loss_14: 2.1565 - dense_1_loss_15: 2.1121 - dense_1_loss_16: 2.1679 - dense_1_loss_17: 2.0631 - dense_1_loss_18: 2.1355 - dense_1_loss_19: 2.1326 - dense_1_loss_20: 2.0676 - dense_1_loss_21: 2.1043 - dense_1_loss_22: 2.2040 - dense_1_loss_23: 2.1439 - dense_1_loss_24: 2.1743 - dense_1_loss_25: 2.2861 - dense_1_loss_26: 2.0014 - dense_1_loss_27: 2.2281 - dense_1_loss_28: 2.1213 - dense_1_loss_29: 2.0836 - dense_1_loss_30: 0.0000e+00 - dense_1_acc_1: 0.0667 - dense_1_acc_2: 0.2500 - dense_1_acc_3: 0.2833 - dense_1_acc_4: 0.2500 - dense_1_acc_5: 0.2500 - dense_1_acc_6: 0.3167 - dense_1_acc_7: 0.3000 - dense_1_acc_8: 0.4167 - dense_1_acc_9: 0.4000 - dense_1_acc_10: 0.3667 - dense_1_acc_11: 0.3167 - dense_1_acc_12: 0.3333 - dense_1_acc_13: 0.4500 - dense_1_acc_14: 0.3167 - dense_1_acc_15: 0.3500 - dense_1_acc_16: 0.4333 - dense_1_acc_17: 0.4000 - dense_1_acc_18: 0.3167 - dense_1_acc_19: 0.3333 - dense_1_acc_20: 0.4167 - dense_1_acc_21: 0.4500 - dense_1_acc_22: 0.2833 - dense_1_acc_23: 0.3833 - dense_1_acc_24: 0.3500 - dense_1_acc_25: 0.2333 - dense_1_acc_26: 0.4667 - dense_1_acc_27: 0.4333 - dense_1_acc_28: 0.4167 - dense_1_acc_29: 0.4333 - dense_1_acc_30: 0.0167     \n",
      "Epoch 17/100\n",
      "60/60 [==============================] - 0s - loss: 65.7611 - dense_1_loss_1: 4.1402 - dense_1_loss_2: 3.6498 - dense_1_loss_3: 3.0977 - dense_1_loss_4: 2.8554 - dense_1_loss_5: 2.4965 - dense_1_loss_6: 2.4161 - dense_1_loss_7: 2.4275 - dense_1_loss_8: 2.0998 - dense_1_loss_9: 2.1751 - dense_1_loss_10: 2.1324 - dense_1_loss_11: 2.3131 - dense_1_loss_12: 2.0564 - dense_1_loss_13: 1.9094 - dense_1_loss_14: 2.0082 - dense_1_loss_15: 2.0054 - dense_1_loss_16: 2.0073 - dense_1_loss_17: 1.9668 - dense_1_loss_18: 2.0531 - dense_1_loss_19: 2.0868 - dense_1_loss_20: 1.9312 - dense_1_loss_21: 1.9613 - dense_1_loss_22: 2.0916 - dense_1_loss_23: 1.9922 - dense_1_loss_24: 2.0109 - dense_1_loss_25: 2.0512 - dense_1_loss_26: 1.8246 - dense_1_loss_27: 2.0400 - dense_1_loss_28: 1.9876 - dense_1_loss_29: 1.9731 - dense_1_loss_30: 0.0000e+00 - dense_1_acc_1: 0.0667 - dense_1_acc_2: 0.2500 - dense_1_acc_3: 0.3167 - dense_1_acc_4: 0.2167 - dense_1_acc_5: 0.2833 - dense_1_acc_6: 0.3833 - dense_1_acc_7: 0.3167 - dense_1_acc_8: 0.4667 - dense_1_acc_9: 0.4333 - dense_1_acc_10: 0.4000 - dense_1_acc_11: 0.3167 - dense_1_acc_12: 0.4167 - dense_1_acc_13: 0.5333 - dense_1_acc_14: 0.3667 - dense_1_acc_15: 0.3833 - dense_1_acc_16: 0.4500 - dense_1_acc_17: 0.4167 - dense_1_acc_18: 0.3333 - dense_1_acc_19: 0.3500 - dense_1_acc_20: 0.4667 - dense_1_acc_21: 0.5000 - dense_1_acc_22: 0.3000 - dense_1_acc_23: 0.4333 - dense_1_acc_24: 0.3000 - dense_1_acc_25: 0.3500 - dense_1_acc_26: 0.4500 - dense_1_acc_27: 0.4667 - dense_1_acc_28: 0.3167 - dense_1_acc_29: 0.4167 - dense_1_acc_30: 0.0000e+00     \n",
      "Epoch 18/100\n",
      "60/60 [==============================] - 0s - loss: 62.4128 - dense_1_loss_1: 4.1331 - dense_1_loss_2: 3.6041 - dense_1_loss_3: 3.0215 - dense_1_loss_4: 2.7490 - dense_1_loss_5: 2.3825 - dense_1_loss_6: 2.2849 - dense_1_loss_7: 2.2719 - dense_1_loss_8: 1.9699 - dense_1_loss_9: 2.0216 - dense_1_loss_10: 1.9669 - dense_1_loss_11: 2.1206 - dense_1_loss_12: 1.8711 - dense_1_loss_13: 1.7306 - dense_1_loss_14: 1.8807 - dense_1_loss_15: 1.8721 - dense_1_loss_16: 1.9013 - dense_1_loss_17: 1.8513 - dense_1_loss_18: 1.8995 - dense_1_loss_19: 1.9055 - dense_1_loss_20: 1.7909 - dense_1_loss_21: 1.8993 - dense_1_loss_22: 1.9080 - dense_1_loss_23: 1.8743 - dense_1_loss_24: 1.9109 - dense_1_loss_25: 1.9862 - dense_1_loss_26: 1.8124 - dense_1_loss_27: 1.9808 - dense_1_loss_28: 1.9114 - dense_1_loss_29: 1.9006 - dense_1_loss_30: 0.0000e+00 - dense_1_acc_1: 0.0667 - dense_1_acc_2: 0.2833 - dense_1_acc_3: 0.3333 - dense_1_acc_4: 0.2333 - dense_1_acc_5: 0.3000 - dense_1_acc_6: 0.3500 - dense_1_acc_7: 0.3333 - dense_1_acc_8: 0.4500 - dense_1_acc_9: 0.4500 - dense_1_acc_10: 0.4167 - dense_1_acc_11: 0.3667 - dense_1_acc_12: 0.4167 - dense_1_acc_13: 0.5667 - dense_1_acc_14: 0.3833 - dense_1_acc_15: 0.4500 - dense_1_acc_16: 0.5167 - dense_1_acc_17: 0.4667 - dense_1_acc_18: 0.5167 - dense_1_acc_19: 0.4167 - dense_1_acc_20: 0.5167 - dense_1_acc_21: 0.4000 - dense_1_acc_22: 0.4167 - dense_1_acc_23: 0.4833 - dense_1_acc_24: 0.4000 - dense_1_acc_25: 0.3167 - dense_1_acc_26: 0.4833 - dense_1_acc_27: 0.4667 - dense_1_acc_28: 0.3667 - dense_1_acc_29: 0.5333 - dense_1_acc_30: 0.0000e+00     \n",
      "Epoch 19/100\n",
      "60/60 [==============================] - 0s - loss: 59.1905 - dense_1_loss_1: 4.1250 - dense_1_loss_2: 3.5618 - dense_1_loss_3: 2.9443 - dense_1_loss_4: 2.6612 - dense_1_loss_5: 2.2707 - dense_1_loss_6: 2.1733 - dense_1_loss_7: 2.1288 - dense_1_loss_8: 1.8220 - dense_1_loss_9: 1.9368 - dense_1_loss_10: 1.8658 - dense_1_loss_11: 1.9854 - dense_1_loss_12: 1.7981 - dense_1_loss_13: 1.6420 - dense_1_loss_14: 1.7982 - dense_1_loss_15: 1.7111 - dense_1_loss_16: 1.7993 - dense_1_loss_17: 1.7317 - dense_1_loss_18: 1.8464 - dense_1_loss_19: 1.8351 - dense_1_loss_20: 1.6715 - dense_1_loss_21: 1.7768 - dense_1_loss_22: 1.8586 - dense_1_loss_23: 1.7060 - dense_1_loss_24: 1.7565 - dense_1_loss_25: 1.8268 - dense_1_loss_26: 1.7171 - dense_1_loss_27: 1.7998 - dense_1_loss_28: 1.7055 - dense_1_loss_29: 1.7350 - dense_1_loss_30: 0.0000e+00 - dense_1_acc_1: 0.0667 - dense_1_acc_2: 0.2500 - dense_1_acc_3: 0.3667 - dense_1_acc_4: 0.2333 - dense_1_acc_5: 0.3167 - dense_1_acc_6: 0.4000 - dense_1_acc_7: 0.3667 - dense_1_acc_8: 0.5000 - dense_1_acc_9: 0.4667 - dense_1_acc_10: 0.4833 - dense_1_acc_11: 0.4333 - dense_1_acc_12: 0.4500 - dense_1_acc_13: 0.5667 - dense_1_acc_14: 0.3833 - dense_1_acc_15: 0.4500 - dense_1_acc_16: 0.4500 - dense_1_acc_17: 0.4333 - dense_1_acc_18: 0.4667 - dense_1_acc_19: 0.4833 - dense_1_acc_20: 0.4667 - dense_1_acc_21: 0.4000 - dense_1_acc_22: 0.4000 - dense_1_acc_23: 0.5000 - dense_1_acc_24: 0.4833 - dense_1_acc_25: 0.4000 - dense_1_acc_26: 0.5333 - dense_1_acc_27: 0.4500 - dense_1_acc_28: 0.5167 - dense_1_acc_29: 0.5667 - dense_1_acc_30: 0.0000e+00     \n",
      "Epoch 20/100\n",
      "60/60 [==============================] - 0s - loss: 56.0007 - dense_1_loss_1: 4.1167 - dense_1_loss_2: 3.5170 - dense_1_loss_3: 2.8617 - dense_1_loss_4: 2.5530 - dense_1_loss_5: 2.1724 - dense_1_loss_6: 2.0561 - dense_1_loss_7: 1.9753 - dense_1_loss_8: 1.7129 - dense_1_loss_9: 1.8053 - dense_1_loss_10: 1.7496 - dense_1_loss_11: 1.8284 - dense_1_loss_12: 1.6320 - dense_1_loss_13: 1.5393 - dense_1_loss_14: 1.6576 - dense_1_loss_15: 1.5676 - dense_1_loss_16: 1.7101 - dense_1_loss_17: 1.6323 - dense_1_loss_18: 1.7135 - dense_1_loss_19: 1.6575 - dense_1_loss_20: 1.5376 - dense_1_loss_21: 1.6551 - dense_1_loss_22: 1.6849 - dense_1_loss_23: 1.6015 - dense_1_loss_24: 1.6870 - dense_1_loss_25: 1.7342 - dense_1_loss_26: 1.6448 - dense_1_loss_27: 1.7434 - dense_1_loss_28: 1.5843 - dense_1_loss_29: 1.6696 - dense_1_loss_30: 0.0000e+00 - dense_1_acc_1: 0.0667 - dense_1_acc_2: 0.2500 - dense_1_acc_3: 0.4167 - dense_1_acc_4: 0.2333 - dense_1_acc_5: 0.4000 - dense_1_acc_6: 0.4833 - dense_1_acc_7: 0.4667 - dense_1_acc_8: 0.5833 - dense_1_acc_9: 0.5000 - dense_1_acc_10: 0.4333 - dense_1_acc_11: 0.4833 - dense_1_acc_12: 0.5000 - dense_1_acc_13: 0.6167 - dense_1_acc_14: 0.5000 - dense_1_acc_15: 0.5167 - dense_1_acc_16: 0.4667 - dense_1_acc_17: 0.4833 - dense_1_acc_18: 0.4167 - dense_1_acc_19: 0.5667 - dense_1_acc_20: 0.6000 - dense_1_acc_21: 0.4500 - dense_1_acc_22: 0.4000 - dense_1_acc_23: 0.5667 - dense_1_acc_24: 0.5167 - dense_1_acc_25: 0.5000 - dense_1_acc_26: 0.5667 - dense_1_acc_27: 0.4833 - dense_1_acc_28: 0.5500 - dense_1_acc_29: 0.6167 - dense_1_acc_30: 0.0000e+00     \n",
      "Epoch 21/100\n"
     ]
    },
    {
     "name": "stdout",
     "output_type": "stream",
     "text": [
      "60/60 [==============================] - 0s - loss: 52.8574 - dense_1_loss_1: 4.1082 - dense_1_loss_2: 3.4714 - dense_1_loss_3: 2.7772 - dense_1_loss_4: 2.4588 - dense_1_loss_5: 2.0795 - dense_1_loss_6: 1.9620 - dense_1_loss_7: 1.8411 - dense_1_loss_8: 1.6152 - dense_1_loss_9: 1.6956 - dense_1_loss_10: 1.6488 - dense_1_loss_11: 1.7406 - dense_1_loss_12: 1.5038 - dense_1_loss_13: 1.4419 - dense_1_loss_14: 1.5402 - dense_1_loss_15: 1.4465 - dense_1_loss_16: 1.5655 - dense_1_loss_17: 1.5195 - dense_1_loss_18: 1.5621 - dense_1_loss_19: 1.5317 - dense_1_loss_20: 1.4381 - dense_1_loss_21: 1.5023 - dense_1_loss_22: 1.5540 - dense_1_loss_23: 1.4794 - dense_1_loss_24: 1.5431 - dense_1_loss_25: 1.5907 - dense_1_loss_26: 1.5216 - dense_1_loss_27: 1.5933 - dense_1_loss_28: 1.5521 - dense_1_loss_29: 1.5729 - dense_1_loss_30: 0.0000e+00 - dense_1_acc_1: 0.0667 - dense_1_acc_2: 0.2333 - dense_1_acc_3: 0.4167 - dense_1_acc_4: 0.2333 - dense_1_acc_5: 0.4000 - dense_1_acc_6: 0.4833 - dense_1_acc_7: 0.4500 - dense_1_acc_8: 0.5833 - dense_1_acc_9: 0.6000 - dense_1_acc_10: 0.5333 - dense_1_acc_11: 0.4500 - dense_1_acc_12: 0.6167 - dense_1_acc_13: 0.6500 - dense_1_acc_14: 0.5500 - dense_1_acc_15: 0.6167 - dense_1_acc_16: 0.5333 - dense_1_acc_17: 0.5667 - dense_1_acc_18: 0.5167 - dense_1_acc_19: 0.6333 - dense_1_acc_20: 0.6000 - dense_1_acc_21: 0.5500 - dense_1_acc_22: 0.5500 - dense_1_acc_23: 0.6167 - dense_1_acc_24: 0.5500 - dense_1_acc_25: 0.4667 - dense_1_acc_26: 0.6167 - dense_1_acc_27: 0.5333 - dense_1_acc_28: 0.5500 - dense_1_acc_29: 0.6000 - dense_1_acc_30: 0.0000e+00     \n",
      "Epoch 22/100\n",
      "60/60 [==============================] - 0s - loss: 50.1321 - dense_1_loss_1: 4.1004 - dense_1_loss_2: 3.4239 - dense_1_loss_3: 2.7023 - dense_1_loss_4: 2.3619 - dense_1_loss_5: 1.9913 - dense_1_loss_6: 1.8331 - dense_1_loss_7: 1.7235 - dense_1_loss_8: 1.5234 - dense_1_loss_9: 1.5833 - dense_1_loss_10: 1.5561 - dense_1_loss_11: 1.6614 - dense_1_loss_12: 1.4221 - dense_1_loss_13: 1.3156 - dense_1_loss_14: 1.4639 - dense_1_loss_15: 1.3549 - dense_1_loss_16: 1.4621 - dense_1_loss_17: 1.4126 - dense_1_loss_18: 1.4541 - dense_1_loss_19: 1.4587 - dense_1_loss_20: 1.3550 - dense_1_loss_21: 1.3685 - dense_1_loss_22: 1.4801 - dense_1_loss_23: 1.4035 - dense_1_loss_24: 1.4209 - dense_1_loss_25: 1.4527 - dense_1_loss_26: 1.4507 - dense_1_loss_27: 1.4913 - dense_1_loss_28: 1.4635 - dense_1_loss_29: 1.4413 - dense_1_loss_30: 0.0000e+00 - dense_1_acc_1: 0.0667 - dense_1_acc_2: 0.2333 - dense_1_acc_3: 0.4167 - dense_1_acc_4: 0.2500 - dense_1_acc_5: 0.4000 - dense_1_acc_6: 0.5333 - dense_1_acc_7: 0.4833 - dense_1_acc_8: 0.6167 - dense_1_acc_9: 0.6500 - dense_1_acc_10: 0.6000 - dense_1_acc_11: 0.5167 - dense_1_acc_12: 0.7333 - dense_1_acc_13: 0.7667 - dense_1_acc_14: 0.5833 - dense_1_acc_15: 0.7167 - dense_1_acc_16: 0.5833 - dense_1_acc_17: 0.6167 - dense_1_acc_18: 0.5667 - dense_1_acc_19: 0.6000 - dense_1_acc_20: 0.6833 - dense_1_acc_21: 0.6333 - dense_1_acc_22: 0.5833 - dense_1_acc_23: 0.6500 - dense_1_acc_24: 0.6000 - dense_1_acc_25: 0.6000 - dense_1_acc_26: 0.6500 - dense_1_acc_27: 0.5667 - dense_1_acc_28: 0.5833 - dense_1_acc_29: 0.6833 - dense_1_acc_30: 0.0000e+00     \n",
      "Epoch 23/100\n",
      "60/60 [==============================] - 0s - loss: 47.3054 - dense_1_loss_1: 4.0922 - dense_1_loss_2: 3.3790 - dense_1_loss_3: 2.6252 - dense_1_loss_4: 2.2539 - dense_1_loss_5: 1.8932 - dense_1_loss_6: 1.6824 - dense_1_loss_7: 1.5728 - dense_1_loss_8: 1.4376 - dense_1_loss_9: 1.4861 - dense_1_loss_10: 1.4301 - dense_1_loss_11: 1.5322 - dense_1_loss_12: 1.2859 - dense_1_loss_13: 1.1898 - dense_1_loss_14: 1.2913 - dense_1_loss_15: 1.2623 - dense_1_loss_16: 1.3343 - dense_1_loss_17: 1.3267 - dense_1_loss_18: 1.3072 - dense_1_loss_19: 1.3739 - dense_1_loss_20: 1.2862 - dense_1_loss_21: 1.2930 - dense_1_loss_22: 1.4048 - dense_1_loss_23: 1.3540 - dense_1_loss_24: 1.3585 - dense_1_loss_25: 1.3999 - dense_1_loss_26: 1.3563 - dense_1_loss_27: 1.3989 - dense_1_loss_28: 1.3352 - dense_1_loss_29: 1.3630 - dense_1_loss_30: 0.0000e+00 - dense_1_acc_1: 0.0333 - dense_1_acc_2: 0.2000 - dense_1_acc_3: 0.4500 - dense_1_acc_4: 0.2833 - dense_1_acc_5: 0.4500 - dense_1_acc_6: 0.5833 - dense_1_acc_7: 0.5667 - dense_1_acc_8: 0.6667 - dense_1_acc_9: 0.6500 - dense_1_acc_10: 0.6500 - dense_1_acc_11: 0.5667 - dense_1_acc_12: 0.7333 - dense_1_acc_13: 0.8500 - dense_1_acc_14: 0.6500 - dense_1_acc_15: 0.7500 - dense_1_acc_16: 0.5833 - dense_1_acc_17: 0.7000 - dense_1_acc_18: 0.7333 - dense_1_acc_19: 0.6667 - dense_1_acc_20: 0.6667 - dense_1_acc_21: 0.7000 - dense_1_acc_22: 0.6167 - dense_1_acc_23: 0.7000 - dense_1_acc_24: 0.6167 - dense_1_acc_25: 0.6333 - dense_1_acc_26: 0.7000 - dense_1_acc_27: 0.6000 - dense_1_acc_28: 0.6667 - dense_1_acc_29: 0.7000 - dense_1_acc_30: 0.0000e+00     \n",
      "Epoch 24/100\n",
      "60/60 [==============================] - 0s - loss: 44.7755 - dense_1_loss_1: 4.0850 - dense_1_loss_2: 3.3323 - dense_1_loss_3: 2.5496 - dense_1_loss_4: 2.1569 - dense_1_loss_5: 1.8101 - dense_1_loss_6: 1.5818 - dense_1_loss_7: 1.4608 - dense_1_loss_8: 1.3549 - dense_1_loss_9: 1.4355 - dense_1_loss_10: 1.3556 - dense_1_loss_11: 1.4582 - dense_1_loss_12: 1.2297 - dense_1_loss_13: 1.1136 - dense_1_loss_14: 1.1919 - dense_1_loss_15: 1.1606 - dense_1_loss_16: 1.2452 - dense_1_loss_17: 1.2404 - dense_1_loss_18: 1.2033 - dense_1_loss_19: 1.2996 - dense_1_loss_20: 1.2112 - dense_1_loss_21: 1.1994 - dense_1_loss_22: 1.2712 - dense_1_loss_23: 1.2350 - dense_1_loss_24: 1.2704 - dense_1_loss_25: 1.3296 - dense_1_loss_26: 1.2325 - dense_1_loss_27: 1.2583 - dense_1_loss_28: 1.2392 - dense_1_loss_29: 1.2637 - dense_1_loss_30: 0.0000e+00 - dense_1_acc_1: 0.0333 - dense_1_acc_2: 0.2000 - dense_1_acc_3: 0.4500 - dense_1_acc_4: 0.3000 - dense_1_acc_5: 0.4333 - dense_1_acc_6: 0.5833 - dense_1_acc_7: 0.5667 - dense_1_acc_8: 0.6500 - dense_1_acc_9: 0.6500 - dense_1_acc_10: 0.6667 - dense_1_acc_11: 0.5833 - dense_1_acc_12: 0.7500 - dense_1_acc_13: 0.8000 - dense_1_acc_14: 0.7667 - dense_1_acc_15: 0.7333 - dense_1_acc_16: 0.6833 - dense_1_acc_17: 0.7000 - dense_1_acc_18: 0.7500 - dense_1_acc_19: 0.6833 - dense_1_acc_20: 0.7167 - dense_1_acc_21: 0.8167 - dense_1_acc_22: 0.7167 - dense_1_acc_23: 0.7333 - dense_1_acc_24: 0.6333 - dense_1_acc_25: 0.6167 - dense_1_acc_26: 0.7500 - dense_1_acc_27: 0.7000 - dense_1_acc_28: 0.7000 - dense_1_acc_29: 0.8333 - dense_1_acc_30: 0.0000e+00     \n",
      "Epoch 25/100\n",
      "60/60 [==============================] - 0s - loss: 42.3849 - dense_1_loss_1: 4.0775 - dense_1_loss_2: 3.2824 - dense_1_loss_3: 2.4723 - dense_1_loss_4: 2.0636 - dense_1_loss_5: 1.7150 - dense_1_loss_6: 1.4703 - dense_1_loss_7: 1.3538 - dense_1_loss_8: 1.2659 - dense_1_loss_9: 1.3323 - dense_1_loss_10: 1.2297 - dense_1_loss_11: 1.3303 - dense_1_loss_12: 1.1469 - dense_1_loss_13: 1.0134 - dense_1_loss_14: 1.1296 - dense_1_loss_15: 1.0450 - dense_1_loss_16: 1.1971 - dense_1_loss_17: 1.1166 - dense_1_loss_18: 1.1389 - dense_1_loss_19: 1.2010 - dense_1_loss_20: 1.1327 - dense_1_loss_21: 1.1539 - dense_1_loss_22: 1.2082 - dense_1_loss_23: 1.1509 - dense_1_loss_24: 1.2028 - dense_1_loss_25: 1.2032 - dense_1_loss_26: 1.1601 - dense_1_loss_27: 1.1969 - dense_1_loss_28: 1.1960 - dense_1_loss_29: 1.1987 - dense_1_loss_30: 0.0000e+00 - dense_1_acc_1: 0.0333 - dense_1_acc_2: 0.2000 - dense_1_acc_3: 0.4667 - dense_1_acc_4: 0.3167 - dense_1_acc_5: 0.4667 - dense_1_acc_6: 0.6000 - dense_1_acc_7: 0.6833 - dense_1_acc_8: 0.6833 - dense_1_acc_9: 0.7000 - dense_1_acc_10: 0.7333 - dense_1_acc_11: 0.6500 - dense_1_acc_12: 0.7833 - dense_1_acc_13: 0.8667 - dense_1_acc_14: 0.7500 - dense_1_acc_15: 0.8000 - dense_1_acc_16: 0.7000 - dense_1_acc_17: 0.7833 - dense_1_acc_18: 0.7500 - dense_1_acc_19: 0.7500 - dense_1_acc_20: 0.7500 - dense_1_acc_21: 0.8167 - dense_1_acc_22: 0.7000 - dense_1_acc_23: 0.7833 - dense_1_acc_24: 0.7000 - dense_1_acc_25: 0.7167 - dense_1_acc_26: 0.8000 - dense_1_acc_27: 0.6667 - dense_1_acc_28: 0.8000 - dense_1_acc_29: 0.8167 - dense_1_acc_30: 0.0000e+00     \n",
      "Epoch 26/100\n",
      "60/60 [==============================] - 0s - loss: 39.9997 - dense_1_loss_1: 4.0709 - dense_1_loss_2: 3.2303 - dense_1_loss_3: 2.3866 - dense_1_loss_4: 1.9754 - dense_1_loss_5: 1.6234 - dense_1_loss_6: 1.3574 - dense_1_loss_7: 1.2430 - dense_1_loss_8: 1.1882 - dense_1_loss_9: 1.2356 - dense_1_loss_10: 1.1369 - dense_1_loss_11: 1.2115 - dense_1_loss_12: 1.0886 - dense_1_loss_13: 0.9632 - dense_1_loss_14: 1.0519 - dense_1_loss_15: 0.9517 - dense_1_loss_16: 1.1319 - dense_1_loss_17: 1.0320 - dense_1_loss_18: 1.0569 - dense_1_loss_19: 1.1210 - dense_1_loss_20: 1.0438 - dense_1_loss_21: 1.0682 - dense_1_loss_22: 1.1013 - dense_1_loss_23: 1.0645 - dense_1_loss_24: 1.1273 - dense_1_loss_25: 1.1041 - dense_1_loss_26: 1.1104 - dense_1_loss_27: 1.0949 - dense_1_loss_28: 1.1180 - dense_1_loss_29: 1.1108 - dense_1_loss_30: 0.0000e+00 - dense_1_acc_1: 0.0333 - dense_1_acc_2: 0.2000 - dense_1_acc_3: 0.4667 - dense_1_acc_4: 0.3333 - dense_1_acc_5: 0.5167 - dense_1_acc_6: 0.6833 - dense_1_acc_7: 0.7667 - dense_1_acc_8: 0.7667 - dense_1_acc_9: 0.7333 - dense_1_acc_10: 0.7833 - dense_1_acc_11: 0.7333 - dense_1_acc_12: 0.7500 - dense_1_acc_13: 0.9000 - dense_1_acc_14: 0.8000 - dense_1_acc_15: 0.8833 - dense_1_acc_16: 0.7333 - dense_1_acc_17: 0.8333 - dense_1_acc_18: 0.8333 - dense_1_acc_19: 0.7667 - dense_1_acc_20: 0.8333 - dense_1_acc_21: 0.8167 - dense_1_acc_22: 0.8000 - dense_1_acc_23: 0.8000 - dense_1_acc_24: 0.7667 - dense_1_acc_25: 0.8167 - dense_1_acc_26: 0.7833 - dense_1_acc_27: 0.7500 - dense_1_acc_28: 0.8167 - dense_1_acc_29: 0.8500 - dense_1_acc_30: 0.0000e+00     \n",
      "Epoch 27/100\n",
      "60/60 [==============================] - 0s - loss: 37.8672 - dense_1_loss_1: 4.0640 - dense_1_loss_2: 3.1794 - dense_1_loss_3: 2.3113 - dense_1_loss_4: 1.8741 - dense_1_loss_5: 1.5456 - dense_1_loss_6: 1.2695 - dense_1_loss_7: 1.1760 - dense_1_loss_8: 1.0950 - dense_1_loss_9: 1.1257 - dense_1_loss_10: 1.0511 - dense_1_loss_11: 1.1455 - dense_1_loss_12: 1.0021 - dense_1_loss_13: 0.8716 - dense_1_loss_14: 0.9739 - dense_1_loss_15: 0.8965 - dense_1_loss_16: 1.0428 - dense_1_loss_17: 0.9468 - dense_1_loss_18: 0.9634 - dense_1_loss_19: 1.0336 - dense_1_loss_20: 0.9831 - dense_1_loss_21: 1.0062 - dense_1_loss_22: 1.0341 - dense_1_loss_23: 1.0213 - dense_1_loss_24: 1.0400 - dense_1_loss_25: 1.0651 - dense_1_loss_26: 1.0669 - dense_1_loss_27: 1.0078 - dense_1_loss_28: 1.0252 - dense_1_loss_29: 1.0497 - dense_1_loss_30: 0.0000e+00 - dense_1_acc_1: 0.0333 - dense_1_acc_2: 0.2167 - dense_1_acc_3: 0.4667 - dense_1_acc_4: 0.3500 - dense_1_acc_5: 0.5167 - dense_1_acc_6: 0.7500 - dense_1_acc_7: 0.7667 - dense_1_acc_8: 0.8500 - dense_1_acc_9: 0.7833 - dense_1_acc_10: 0.8333 - dense_1_acc_11: 0.7667 - dense_1_acc_12: 0.8333 - dense_1_acc_13: 0.9500 - dense_1_acc_14: 0.8000 - dense_1_acc_15: 0.9000 - dense_1_acc_16: 0.7500 - dense_1_acc_17: 0.9000 - dense_1_acc_18: 0.9167 - dense_1_acc_19: 0.8500 - dense_1_acc_20: 0.9000 - dense_1_acc_21: 0.8333 - dense_1_acc_22: 0.8833 - dense_1_acc_23: 0.8500 - dense_1_acc_24: 0.8500 - dense_1_acc_25: 0.8667 - dense_1_acc_26: 0.7833 - dense_1_acc_27: 0.8167 - dense_1_acc_28: 0.8833 - dense_1_acc_29: 0.8667 - dense_1_acc_30: 0.0000e+00     \n",
      "Epoch 28/100\n",
      "60/60 [==============================] - 0s - loss: 35.7874 - dense_1_loss_1: 4.0572 - dense_1_loss_2: 3.1293 - dense_1_loss_3: 2.2290 - dense_1_loss_4: 1.7858 - dense_1_loss_5: 1.4644 - dense_1_loss_6: 1.1913 - dense_1_loss_7: 1.0816 - dense_1_loss_8: 1.0350 - dense_1_loss_9: 1.0527 - dense_1_loss_10: 0.9538 - dense_1_loss_11: 1.0539 - dense_1_loss_12: 0.9325 - dense_1_loss_13: 0.7827 - dense_1_loss_14: 0.8883 - dense_1_loss_15: 0.8811 - dense_1_loss_16: 0.9706 - dense_1_loss_17: 0.8866 - dense_1_loss_18: 0.8815 - dense_1_loss_19: 0.9463 - dense_1_loss_20: 0.9254 - dense_1_loss_21: 0.9519 - dense_1_loss_22: 0.9806 - dense_1_loss_23: 0.9574 - dense_1_loss_24: 0.9313 - dense_1_loss_25: 1.0077 - dense_1_loss_26: 0.9862 - dense_1_loss_27: 0.9650 - dense_1_loss_28: 0.9151 - dense_1_loss_29: 0.9632 - dense_1_loss_30: 0.0000e+00 - dense_1_acc_1: 0.0333 - dense_1_acc_2: 0.2333 - dense_1_acc_3: 0.4667 - dense_1_acc_4: 0.4167 - dense_1_acc_5: 0.5333 - dense_1_acc_6: 0.7333 - dense_1_acc_7: 0.7833 - dense_1_acc_8: 0.8833 - dense_1_acc_9: 0.8000 - dense_1_acc_10: 0.8667 - dense_1_acc_11: 0.8167 - dense_1_acc_12: 0.8333 - dense_1_acc_13: 0.9500 - dense_1_acc_14: 0.9167 - dense_1_acc_15: 0.9333 - dense_1_acc_16: 0.8833 - dense_1_acc_17: 0.8833 - dense_1_acc_18: 0.9667 - dense_1_acc_19: 0.8833 - dense_1_acc_20: 0.8667 - dense_1_acc_21: 0.8500 - dense_1_acc_22: 0.9167 - dense_1_acc_23: 0.8500 - dense_1_acc_24: 0.9167 - dense_1_acc_25: 0.8000 - dense_1_acc_26: 0.8500 - dense_1_acc_27: 0.8500 - dense_1_acc_28: 0.9000 - dense_1_acc_29: 0.8833 - dense_1_acc_30: 0.0000e+00     \n",
      "Epoch 29/100\n",
      "60/60 [==============================] - 0s - loss: 33.7677 - dense_1_loss_1: 4.0504 - dense_1_loss_2: 3.0810 - dense_1_loss_3: 2.1523 - dense_1_loss_4: 1.7007 - dense_1_loss_5: 1.3842 - dense_1_loss_6: 1.1107 - dense_1_loss_7: 0.9951 - dense_1_loss_8: 0.9429 - dense_1_loss_9: 1.0125 - dense_1_loss_10: 0.8760 - dense_1_loss_11: 0.9806 - dense_1_loss_12: 0.8449 - dense_1_loss_13: 0.7151 - dense_1_loss_14: 0.8191 - dense_1_loss_15: 0.8106 - dense_1_loss_16: 0.8863 - dense_1_loss_17: 0.8156 - dense_1_loss_18: 0.8163 - dense_1_loss_19: 0.8881 - dense_1_loss_20: 0.8499 - dense_1_loss_21: 0.9066 - dense_1_loss_22: 0.9202 - dense_1_loss_23: 0.8692 - dense_1_loss_24: 0.8623 - dense_1_loss_25: 0.9357 - dense_1_loss_26: 0.8928 - dense_1_loss_27: 0.8875 - dense_1_loss_28: 0.8560 - dense_1_loss_29: 0.9050 - dense_1_loss_30: 0.0000e+00 - dense_1_acc_1: 0.0333 - dense_1_acc_2: 0.2333 - dense_1_acc_3: 0.4833 - dense_1_acc_4: 0.4333 - dense_1_acc_5: 0.6000 - dense_1_acc_6: 0.8000 - dense_1_acc_7: 0.8500 - dense_1_acc_8: 0.8833 - dense_1_acc_9: 0.7833 - dense_1_acc_10: 0.8833 - dense_1_acc_11: 0.8000 - dense_1_acc_12: 0.8833 - dense_1_acc_13: 0.9500 - dense_1_acc_14: 0.9167 - dense_1_acc_15: 0.9333 - dense_1_acc_16: 0.9000 - dense_1_acc_17: 0.9167 - dense_1_acc_18: 0.9667 - dense_1_acc_19: 0.8667 - dense_1_acc_20: 0.9500 - dense_1_acc_21: 0.8333 - dense_1_acc_22: 0.8833 - dense_1_acc_23: 0.9333 - dense_1_acc_24: 0.9667 - dense_1_acc_25: 0.8500 - dense_1_acc_26: 0.8833 - dense_1_acc_27: 0.9000 - dense_1_acc_28: 0.8833 - dense_1_acc_29: 0.9167 - dense_1_acc_30: 0.0000e+00     \n",
      "Epoch 30/100\n",
      "60/60 [==============================] - 0s - loss: 31.8773 - dense_1_loss_1: 4.0437 - dense_1_loss_2: 3.0305 - dense_1_loss_3: 2.0785 - dense_1_loss_4: 1.6101 - dense_1_loss_5: 1.3049 - dense_1_loss_6: 1.0275 - dense_1_loss_7: 0.9131 - dense_1_loss_8: 0.8867 - dense_1_loss_9: 0.9431 - dense_1_loss_10: 0.8002 - dense_1_loss_11: 0.8949 - dense_1_loss_12: 0.7830 - dense_1_loss_13: 0.6575 - dense_1_loss_14: 0.7545 - dense_1_loss_15: 0.7261 - dense_1_loss_16: 0.8160 - dense_1_loss_17: 0.7375 - dense_1_loss_18: 0.7653 - dense_1_loss_19: 0.8118 - dense_1_loss_20: 0.7843 - dense_1_loss_21: 0.8484 - dense_1_loss_22: 0.8313 - dense_1_loss_23: 0.8403 - dense_1_loss_24: 0.8148 - dense_1_loss_25: 0.8741 - dense_1_loss_26: 0.8541 - dense_1_loss_27: 0.8058 - dense_1_loss_28: 0.7942 - dense_1_loss_29: 0.8452 - dense_1_loss_30: 0.0000e+00 - dense_1_acc_1: 0.0333 - dense_1_acc_2: 0.2833 - dense_1_acc_3: 0.5000 - dense_1_acc_4: 0.5000 - dense_1_acc_5: 0.6667 - dense_1_acc_6: 0.8500 - dense_1_acc_7: 0.8667 - dense_1_acc_8: 0.9000 - dense_1_acc_9: 0.8167 - dense_1_acc_10: 0.8833 - dense_1_acc_11: 0.9000 - dense_1_acc_12: 0.9167 - dense_1_acc_13: 0.9833 - dense_1_acc_14: 0.9333 - dense_1_acc_15: 0.9333 - dense_1_acc_16: 0.9333 - dense_1_acc_17: 0.9500 - dense_1_acc_18: 0.9667 - dense_1_acc_19: 0.9667 - dense_1_acc_20: 0.9833 - dense_1_acc_21: 0.8667 - dense_1_acc_22: 0.9333 - dense_1_acc_23: 0.9333 - dense_1_acc_24: 0.9667 - dense_1_acc_25: 0.9333 - dense_1_acc_26: 0.9333 - dense_1_acc_27: 0.9500 - dense_1_acc_28: 0.9500 - dense_1_acc_29: 0.9333 - dense_1_acc_30: 0.0000e+00     \n",
      "Epoch 31/100\n"
     ]
    },
    {
     "name": "stdout",
     "output_type": "stream",
     "text": [
      "60/60 [==============================] - 0s - loss: 30.0259 - dense_1_loss_1: 4.0360 - dense_1_loss_2: 2.9838 - dense_1_loss_3: 2.0075 - dense_1_loss_4: 1.5240 - dense_1_loss_5: 1.2280 - dense_1_loss_6: 0.9527 - dense_1_loss_7: 0.8451 - dense_1_loss_8: 0.7961 - dense_1_loss_9: 0.8764 - dense_1_loss_10: 0.7382 - dense_1_loss_11: 0.8166 - dense_1_loss_12: 0.7143 - dense_1_loss_13: 0.6045 - dense_1_loss_14: 0.7010 - dense_1_loss_15: 0.6651 - dense_1_loss_16: 0.7524 - dense_1_loss_17: 0.6739 - dense_1_loss_18: 0.7167 - dense_1_loss_19: 0.7316 - dense_1_loss_20: 0.7300 - dense_1_loss_21: 0.7703 - dense_1_loss_22: 0.7838 - dense_1_loss_23: 0.7711 - dense_1_loss_24: 0.7460 - dense_1_loss_25: 0.7696 - dense_1_loss_26: 0.7858 - dense_1_loss_27: 0.7524 - dense_1_loss_28: 0.7686 - dense_1_loss_29: 0.7845 - dense_1_loss_30: 0.0000e+00 - dense_1_acc_1: 0.0333 - dense_1_acc_2: 0.2833 - dense_1_acc_3: 0.5333 - dense_1_acc_4: 0.5500 - dense_1_acc_5: 0.6833 - dense_1_acc_6: 0.8833 - dense_1_acc_7: 0.9000 - dense_1_acc_8: 0.8833 - dense_1_acc_9: 0.8667 - dense_1_acc_10: 0.9333 - dense_1_acc_11: 0.9167 - dense_1_acc_12: 0.9333 - dense_1_acc_13: 0.9833 - dense_1_acc_14: 0.9167 - dense_1_acc_15: 0.9500 - dense_1_acc_16: 0.9500 - dense_1_acc_17: 0.9833 - dense_1_acc_18: 0.9833 - dense_1_acc_19: 0.9667 - dense_1_acc_20: 0.9833 - dense_1_acc_21: 0.9500 - dense_1_acc_22: 0.9667 - dense_1_acc_23: 0.9333 - dense_1_acc_24: 0.9667 - dense_1_acc_25: 0.9333 - dense_1_acc_26: 0.9500 - dense_1_acc_27: 0.9667 - dense_1_acc_28: 0.9667 - dense_1_acc_29: 0.9500 - dense_1_acc_30: 0.0000e+00     \n",
      "Epoch 32/100\n",
      "60/60 [==============================] - 0s - loss: 28.2976 - dense_1_loss_1: 4.0290 - dense_1_loss_2: 2.9345 - dense_1_loss_3: 1.9356 - dense_1_loss_4: 1.4417 - dense_1_loss_5: 1.1565 - dense_1_loss_6: 0.8820 - dense_1_loss_7: 0.7906 - dense_1_loss_8: 0.7393 - dense_1_loss_9: 0.8110 - dense_1_loss_10: 0.6819 - dense_1_loss_11: 0.7512 - dense_1_loss_12: 0.6687 - dense_1_loss_13: 0.5557 - dense_1_loss_14: 0.6223 - dense_1_loss_15: 0.6221 - dense_1_loss_16: 0.6850 - dense_1_loss_17: 0.6386 - dense_1_loss_18: 0.6442 - dense_1_loss_19: 0.6808 - dense_1_loss_20: 0.6672 - dense_1_loss_21: 0.7014 - dense_1_loss_22: 0.7031 - dense_1_loss_23: 0.7186 - dense_1_loss_24: 0.6843 - dense_1_loss_25: 0.7058 - dense_1_loss_26: 0.7350 - dense_1_loss_27: 0.6932 - dense_1_loss_28: 0.6990 - dense_1_loss_29: 0.7195 - dense_1_loss_30: 0.0000e+00 - dense_1_acc_1: 0.0333 - dense_1_acc_2: 0.2833 - dense_1_acc_3: 0.5500 - dense_1_acc_4: 0.5667 - dense_1_acc_5: 0.7500 - dense_1_acc_6: 0.8833 - dense_1_acc_7: 0.9333 - dense_1_acc_8: 0.9000 - dense_1_acc_9: 0.9000 - dense_1_acc_10: 0.9667 - dense_1_acc_11: 0.9167 - dense_1_acc_12: 0.9333 - dense_1_acc_13: 0.9833 - dense_1_acc_14: 0.9833 - dense_1_acc_15: 0.9833 - dense_1_acc_16: 0.9333 - dense_1_acc_17: 0.9833 - dense_1_acc_18: 1.0000 - dense_1_acc_19: 0.9667 - dense_1_acc_20: 0.9833 - dense_1_acc_21: 0.9667 - dense_1_acc_22: 0.9833 - dense_1_acc_23: 0.9167 - dense_1_acc_24: 0.9833 - dense_1_acc_25: 0.9500 - dense_1_acc_26: 0.9833 - dense_1_acc_27: 1.0000 - dense_1_acc_28: 0.9667 - dense_1_acc_29: 0.9667 - dense_1_acc_30: 0.0000e+00     \n",
      "Epoch 33/100\n",
      "60/60 [==============================] - 0s - loss: 26.6577 - dense_1_loss_1: 4.0228 - dense_1_loss_2: 2.8845 - dense_1_loss_3: 1.8649 - dense_1_loss_4: 1.3607 - dense_1_loss_5: 1.0849 - dense_1_loss_6: 0.8187 - dense_1_loss_7: 0.7269 - dense_1_loss_8: 0.6761 - dense_1_loss_9: 0.7485 - dense_1_loss_10: 0.6018 - dense_1_loss_11: 0.6951 - dense_1_loss_12: 0.6082 - dense_1_loss_13: 0.4979 - dense_1_loss_14: 0.5669 - dense_1_loss_15: 0.5726 - dense_1_loss_16: 0.6241 - dense_1_loss_17: 0.5840 - dense_1_loss_18: 0.5821 - dense_1_loss_19: 0.6302 - dense_1_loss_20: 0.6199 - dense_1_loss_21: 0.6605 - dense_1_loss_22: 0.6540 - dense_1_loss_23: 0.6586 - dense_1_loss_24: 0.6143 - dense_1_loss_25: 0.6728 - dense_1_loss_26: 0.6693 - dense_1_loss_27: 0.6425 - dense_1_loss_28: 0.6513 - dense_1_loss_29: 0.6637 - dense_1_loss_30: 0.0000e+00 - dense_1_acc_1: 0.0333 - dense_1_acc_2: 0.2833 - dense_1_acc_3: 0.5667 - dense_1_acc_4: 0.6000 - dense_1_acc_5: 0.7500 - dense_1_acc_6: 0.9000 - dense_1_acc_7: 0.9500 - dense_1_acc_8: 0.9167 - dense_1_acc_9: 0.9000 - dense_1_acc_10: 0.9833 - dense_1_acc_11: 0.9167 - dense_1_acc_12: 0.9500 - dense_1_acc_13: 0.9833 - dense_1_acc_14: 1.0000 - dense_1_acc_15: 0.9833 - dense_1_acc_16: 0.9500 - dense_1_acc_17: 1.0000 - dense_1_acc_18: 1.0000 - dense_1_acc_19: 0.9667 - dense_1_acc_20: 0.9833 - dense_1_acc_21: 0.9667 - dense_1_acc_22: 0.9833 - dense_1_acc_23: 0.9333 - dense_1_acc_24: 0.9833 - dense_1_acc_25: 0.9500 - dense_1_acc_26: 0.9833 - dense_1_acc_27: 1.0000 - dense_1_acc_28: 0.9667 - dense_1_acc_29: 0.9667 - dense_1_acc_30: 0.0000e+00     \n",
      "Epoch 34/100\n",
      "60/60 [==============================] - 0s - loss: 25.1290 - dense_1_loss_1: 4.0161 - dense_1_loss_2: 2.8390 - dense_1_loss_3: 1.7967 - dense_1_loss_4: 1.2824 - dense_1_loss_5: 1.0179 - dense_1_loss_6: 0.7530 - dense_1_loss_7: 0.6709 - dense_1_loss_8: 0.6203 - dense_1_loss_9: 0.6964 - dense_1_loss_10: 0.5573 - dense_1_loss_11: 0.6357 - dense_1_loss_12: 0.5492 - dense_1_loss_13: 0.4731 - dense_1_loss_14: 0.5191 - dense_1_loss_15: 0.5198 - dense_1_loss_16: 0.5751 - dense_1_loss_17: 0.5425 - dense_1_loss_18: 0.5318 - dense_1_loss_19: 0.5864 - dense_1_loss_20: 0.5724 - dense_1_loss_21: 0.6015 - dense_1_loss_22: 0.6069 - dense_1_loss_23: 0.5838 - dense_1_loss_24: 0.5640 - dense_1_loss_25: 0.6172 - dense_1_loss_26: 0.6164 - dense_1_loss_27: 0.5751 - dense_1_loss_28: 0.5885 - dense_1_loss_29: 0.6206 - dense_1_loss_30: 0.0000e+00 - dense_1_acc_1: 0.0333 - dense_1_acc_2: 0.3500 - dense_1_acc_3: 0.5667 - dense_1_acc_4: 0.6500 - dense_1_acc_5: 0.8000 - dense_1_acc_6: 0.9167 - dense_1_acc_7: 0.9333 - dense_1_acc_8: 0.9500 - dense_1_acc_9: 0.9167 - dense_1_acc_10: 1.0000 - dense_1_acc_11: 0.9167 - dense_1_acc_12: 0.9667 - dense_1_acc_13: 0.9833 - dense_1_acc_14: 1.0000 - dense_1_acc_15: 0.9833 - dense_1_acc_16: 0.9500 - dense_1_acc_17: 1.0000 - dense_1_acc_18: 1.0000 - dense_1_acc_19: 0.9667 - dense_1_acc_20: 0.9833 - dense_1_acc_21: 0.9667 - dense_1_acc_22: 0.9833 - dense_1_acc_23: 0.9333 - dense_1_acc_24: 0.9833 - dense_1_acc_25: 0.9500 - dense_1_acc_26: 0.9667 - dense_1_acc_27: 1.0000 - dense_1_acc_28: 0.9667 - dense_1_acc_29: 0.9667 - dense_1_acc_30: 0.0000e+00     \n",
      "Epoch 35/100\n",
      "60/60 [==============================] - 0s - loss: 23.7579 - dense_1_loss_1: 4.0099 - dense_1_loss_2: 2.7916 - dense_1_loss_3: 1.7321 - dense_1_loss_4: 1.2025 - dense_1_loss_5: 0.9527 - dense_1_loss_6: 0.6995 - dense_1_loss_7: 0.6305 - dense_1_loss_8: 0.5768 - dense_1_loss_9: 0.6438 - dense_1_loss_10: 0.5222 - dense_1_loss_11: 0.5789 - dense_1_loss_12: 0.5140 - dense_1_loss_13: 0.4371 - dense_1_loss_14: 0.4566 - dense_1_loss_15: 0.4800 - dense_1_loss_16: 0.5278 - dense_1_loss_17: 0.5031 - dense_1_loss_18: 0.4906 - dense_1_loss_19: 0.5318 - dense_1_loss_20: 0.5377 - dense_1_loss_21: 0.5547 - dense_1_loss_22: 0.5529 - dense_1_loss_23: 0.5491 - dense_1_loss_24: 0.5051 - dense_1_loss_25: 0.5764 - dense_1_loss_26: 0.5728 - dense_1_loss_27: 0.5194 - dense_1_loss_28: 0.5325 - dense_1_loss_29: 0.5758 - dense_1_loss_30: 0.0000e+00 - dense_1_acc_1: 0.0333 - dense_1_acc_2: 0.3500 - dense_1_acc_3: 0.5833 - dense_1_acc_4: 0.7000 - dense_1_acc_5: 0.7833 - dense_1_acc_6: 0.9167 - dense_1_acc_7: 0.9500 - dense_1_acc_8: 0.9667 - dense_1_acc_9: 0.9167 - dense_1_acc_10: 1.0000 - dense_1_acc_11: 0.9333 - dense_1_acc_12: 0.9667 - dense_1_acc_13: 0.9833 - dense_1_acc_14: 1.0000 - dense_1_acc_15: 0.9833 - dense_1_acc_16: 0.9667 - dense_1_acc_17: 1.0000 - dense_1_acc_18: 1.0000 - dense_1_acc_19: 0.9667 - dense_1_acc_20: 0.9833 - dense_1_acc_21: 0.9667 - dense_1_acc_22: 0.9833 - dense_1_acc_23: 0.9333 - dense_1_acc_24: 0.9833 - dense_1_acc_25: 0.9500 - dense_1_acc_26: 0.9833 - dense_1_acc_27: 1.0000 - dense_1_acc_28: 0.9667 - dense_1_acc_29: 0.9667 - dense_1_acc_30: 0.0000e+00         \n",
      "Epoch 36/100\n",
      "60/60 [==============================] - 0s - loss: 22.4024 - dense_1_loss_1: 4.0039 - dense_1_loss_2: 2.7444 - dense_1_loss_3: 1.6704 - dense_1_loss_4: 1.1300 - dense_1_loss_5: 0.8905 - dense_1_loss_6: 0.6442 - dense_1_loss_7: 0.5877 - dense_1_loss_8: 0.5172 - dense_1_loss_9: 0.5837 - dense_1_loss_10: 0.4747 - dense_1_loss_11: 0.5371 - dense_1_loss_12: 0.4563 - dense_1_loss_13: 0.3848 - dense_1_loss_14: 0.4220 - dense_1_loss_15: 0.4413 - dense_1_loss_16: 0.4771 - dense_1_loss_17: 0.4536 - dense_1_loss_18: 0.4625 - dense_1_loss_19: 0.4734 - dense_1_loss_20: 0.4956 - dense_1_loss_21: 0.5148 - dense_1_loss_22: 0.5111 - dense_1_loss_23: 0.5055 - dense_1_loss_24: 0.4628 - dense_1_loss_25: 0.5314 - dense_1_loss_26: 0.5100 - dense_1_loss_27: 0.4683 - dense_1_loss_28: 0.5111 - dense_1_loss_29: 0.5371 - dense_1_loss_30: 0.0000e+00 - dense_1_acc_1: 0.0333 - dense_1_acc_2: 0.3500 - dense_1_acc_3: 0.5833 - dense_1_acc_4: 0.7167 - dense_1_acc_5: 0.8167 - dense_1_acc_6: 0.9333 - dense_1_acc_7: 0.9500 - dense_1_acc_8: 0.9667 - dense_1_acc_9: 0.9500 - dense_1_acc_10: 1.0000 - dense_1_acc_11: 0.9833 - dense_1_acc_12: 0.9667 - dense_1_acc_13: 0.9833 - dense_1_acc_14: 1.0000 - dense_1_acc_15: 0.9833 - dense_1_acc_16: 0.9833 - dense_1_acc_17: 1.0000 - dense_1_acc_18: 1.0000 - dense_1_acc_19: 0.9833 - dense_1_acc_20: 1.0000 - dense_1_acc_21: 0.9833 - dense_1_acc_22: 0.9833 - dense_1_acc_23: 0.9667 - dense_1_acc_24: 0.9833 - dense_1_acc_25: 0.9500 - dense_1_acc_26: 1.0000 - dense_1_acc_27: 1.0000 - dense_1_acc_28: 0.9667 - dense_1_acc_29: 0.9667 - dense_1_acc_30: 0.0000e+00     \n",
      "Epoch 37/100\n",
      "60/60 [==============================] - 0s - loss: 21.1438 - dense_1_loss_1: 3.9981 - dense_1_loss_2: 2.6980 - dense_1_loss_3: 1.6073 - dense_1_loss_4: 1.0542 - dense_1_loss_5: 0.8281 - dense_1_loss_6: 0.5949 - dense_1_loss_7: 0.5362 - dense_1_loss_8: 0.4826 - dense_1_loss_9: 0.5385 - dense_1_loss_10: 0.4299 - dense_1_loss_11: 0.4837 - dense_1_loss_12: 0.4200 - dense_1_loss_13: 0.3541 - dense_1_loss_14: 0.3821 - dense_1_loss_15: 0.3954 - dense_1_loss_16: 0.4509 - dense_1_loss_17: 0.4024 - dense_1_loss_18: 0.4221 - dense_1_loss_19: 0.4436 - dense_1_loss_20: 0.4476 - dense_1_loss_21: 0.4717 - dense_1_loss_22: 0.4658 - dense_1_loss_23: 0.4559 - dense_1_loss_24: 0.4243 - dense_1_loss_25: 0.4838 - dense_1_loss_26: 0.4799 - dense_1_loss_27: 0.4309 - dense_1_loss_28: 0.4668 - dense_1_loss_29: 0.4949 - dense_1_loss_30: 0.0000e+00 - dense_1_acc_1: 0.0333 - dense_1_acc_2: 0.3667 - dense_1_acc_3: 0.5667 - dense_1_acc_4: 0.7500 - dense_1_acc_5: 0.8167 - dense_1_acc_6: 0.9500 - dense_1_acc_7: 0.9500 - dense_1_acc_8: 0.9667 - dense_1_acc_9: 0.9500 - dense_1_acc_10: 1.0000 - dense_1_acc_11: 0.9833 - dense_1_acc_12: 1.0000 - dense_1_acc_13: 1.0000 - dense_1_acc_14: 1.0000 - dense_1_acc_15: 0.9833 - dense_1_acc_16: 0.9667 - dense_1_acc_17: 1.0000 - dense_1_acc_18: 1.0000 - dense_1_acc_19: 1.0000 - dense_1_acc_20: 1.0000 - dense_1_acc_21: 0.9833 - dense_1_acc_22: 0.9833 - dense_1_acc_23: 0.9667 - dense_1_acc_24: 1.0000 - dense_1_acc_25: 0.9833 - dense_1_acc_26: 1.0000 - dense_1_acc_27: 1.0000 - dense_1_acc_28: 0.9667 - dense_1_acc_29: 0.9667 - dense_1_acc_30: 0.0000e+00     \n",
      "Epoch 38/100\n",
      "60/60 [==============================] - 0s - loss: 19.9826 - dense_1_loss_1: 3.9921 - dense_1_loss_2: 2.6514 - dense_1_loss_3: 1.5471 - dense_1_loss_4: 0.9803 - dense_1_loss_5: 0.7724 - dense_1_loss_6: 0.5537 - dense_1_loss_7: 0.4916 - dense_1_loss_8: 0.4486 - dense_1_loss_9: 0.4960 - dense_1_loss_10: 0.3922 - dense_1_loss_11: 0.4406 - dense_1_loss_12: 0.3864 - dense_1_loss_13: 0.3238 - dense_1_loss_14: 0.3460 - dense_1_loss_15: 0.3636 - dense_1_loss_16: 0.4160 - dense_1_loss_17: 0.3682 - dense_1_loss_18: 0.3811 - dense_1_loss_19: 0.3968 - dense_1_loss_20: 0.4136 - dense_1_loss_21: 0.4358 - dense_1_loss_22: 0.4227 - dense_1_loss_23: 0.4209 - dense_1_loss_24: 0.3887 - dense_1_loss_25: 0.4476 - dense_1_loss_26: 0.4407 - dense_1_loss_27: 0.3921 - dense_1_loss_28: 0.4008 - dense_1_loss_29: 0.4718 - dense_1_loss_30: 0.0000e+00 - dense_1_acc_1: 0.0333 - dense_1_acc_2: 0.3667 - dense_1_acc_3: 0.5667 - dense_1_acc_4: 0.8000 - dense_1_acc_5: 0.8333 - dense_1_acc_6: 0.9500 - dense_1_acc_7: 0.9500 - dense_1_acc_8: 0.9667 - dense_1_acc_9: 0.9500 - dense_1_acc_10: 1.0000 - dense_1_acc_11: 0.9833 - dense_1_acc_12: 1.0000 - dense_1_acc_13: 1.0000 - dense_1_acc_14: 1.0000 - dense_1_acc_15: 1.0000 - dense_1_acc_16: 1.0000 - dense_1_acc_17: 1.0000 - dense_1_acc_18: 1.0000 - dense_1_acc_19: 1.0000 - dense_1_acc_20: 1.0000 - dense_1_acc_21: 0.9833 - dense_1_acc_22: 1.0000 - dense_1_acc_23: 0.9833 - dense_1_acc_24: 0.9833 - dense_1_acc_25: 0.9833 - dense_1_acc_26: 0.9833 - dense_1_acc_27: 1.0000 - dense_1_acc_28: 1.0000 - dense_1_acc_29: 0.9667 - dense_1_acc_30: 0.0000e+00     \n",
      "Epoch 39/100\n",
      "60/60 [==============================] - 0s - loss: 18.9049 - dense_1_loss_1: 3.9865 - dense_1_loss_2: 2.6033 - dense_1_loss_3: 1.4888 - dense_1_loss_4: 0.9202 - dense_1_loss_5: 0.7153 - dense_1_loss_6: 0.5139 - dense_1_loss_7: 0.4597 - dense_1_loss_8: 0.4047 - dense_1_loss_9: 0.4618 - dense_1_loss_10: 0.3504 - dense_1_loss_11: 0.4047 - dense_1_loss_12: 0.3505 - dense_1_loss_13: 0.2846 - dense_1_loss_14: 0.3203 - dense_1_loss_15: 0.3406 - dense_1_loss_16: 0.3685 - dense_1_loss_17: 0.3422 - dense_1_loss_18: 0.3410 - dense_1_loss_19: 0.3622 - dense_1_loss_20: 0.3804 - dense_1_loss_21: 0.4043 - dense_1_loss_22: 0.3898 - dense_1_loss_23: 0.3843 - dense_1_loss_24: 0.3545 - dense_1_loss_25: 0.4092 - dense_1_loss_26: 0.3886 - dense_1_loss_27: 0.3529 - dense_1_loss_28: 0.3757 - dense_1_loss_29: 0.4457 - dense_1_loss_30: 0.0000e+00 - dense_1_acc_1: 0.0333 - dense_1_acc_2: 0.3667 - dense_1_acc_3: 0.6167 - dense_1_acc_4: 0.8000 - dense_1_acc_5: 0.8667 - dense_1_acc_6: 0.9667 - dense_1_acc_7: 0.9500 - dense_1_acc_8: 0.9667 - dense_1_acc_9: 0.9667 - dense_1_acc_10: 1.0000 - dense_1_acc_11: 0.9833 - dense_1_acc_12: 1.0000 - dense_1_acc_13: 1.0000 - dense_1_acc_14: 1.0000 - dense_1_acc_15: 1.0000 - dense_1_acc_16: 1.0000 - dense_1_acc_17: 1.0000 - dense_1_acc_18: 1.0000 - dense_1_acc_19: 1.0000 - dense_1_acc_20: 1.0000 - dense_1_acc_21: 0.9833 - dense_1_acc_22: 1.0000 - dense_1_acc_23: 1.0000 - dense_1_acc_24: 1.0000 - dense_1_acc_25: 0.9833 - dense_1_acc_26: 1.0000 - dense_1_acc_27: 1.0000 - dense_1_acc_28: 0.9833 - dense_1_acc_29: 0.9667 - dense_1_acc_30: 0.0000e+00     \n",
      "Epoch 40/100\n",
      "60/60 [==============================] - 0s - loss: 17.9222 - dense_1_loss_1: 3.9807 - dense_1_loss_2: 2.5562 - dense_1_loss_3: 1.4332 - dense_1_loss_4: 0.8501 - dense_1_loss_5: 0.6677 - dense_1_loss_6: 0.4706 - dense_1_loss_7: 0.4210 - dense_1_loss_8: 0.3788 - dense_1_loss_9: 0.4132 - dense_1_loss_10: 0.3191 - dense_1_loss_11: 0.3605 - dense_1_loss_12: 0.3249 - dense_1_loss_13: 0.2601 - dense_1_loss_14: 0.2873 - dense_1_loss_15: 0.3139 - dense_1_loss_16: 0.3430 - dense_1_loss_17: 0.3139 - dense_1_loss_18: 0.3044 - dense_1_loss_19: 0.3404 - dense_1_loss_20: 0.3490 - dense_1_loss_21: 0.3688 - dense_1_loss_22: 0.3519 - dense_1_loss_23: 0.3502 - dense_1_loss_24: 0.3197 - dense_1_loss_25: 0.3721 - dense_1_loss_26: 0.3635 - dense_1_loss_27: 0.3327 - dense_1_loss_28: 0.3536 - dense_1_loss_29: 0.4214 - dense_1_loss_30: 0.0000e+00 - dense_1_acc_1: 0.0333 - dense_1_acc_2: 0.3667 - dense_1_acc_3: 0.6333 - dense_1_acc_4: 0.8333 - dense_1_acc_5: 0.8833 - dense_1_acc_6: 0.9667 - dense_1_acc_7: 0.9667 - dense_1_acc_8: 0.9833 - dense_1_acc_9: 0.9667 - dense_1_acc_10: 1.0000 - dense_1_acc_11: 0.9833 - dense_1_acc_12: 1.0000 - dense_1_acc_13: 1.0000 - dense_1_acc_14: 1.0000 - dense_1_acc_15: 1.0000 - dense_1_acc_16: 1.0000 - dense_1_acc_17: 1.0000 - dense_1_acc_18: 1.0000 - dense_1_acc_19: 1.0000 - dense_1_acc_20: 1.0000 - dense_1_acc_21: 1.0000 - dense_1_acc_22: 1.0000 - dense_1_acc_23: 1.0000 - dense_1_acc_24: 1.0000 - dense_1_acc_25: 1.0000 - dense_1_acc_26: 0.9833 - dense_1_acc_27: 1.0000 - dense_1_acc_28: 0.9833 - dense_1_acc_29: 0.9667 - dense_1_acc_30: 0.0000e+00     \n",
      "Epoch 41/100\n"
     ]
    },
    {
     "name": "stdout",
     "output_type": "stream",
     "text": [
      "60/60 [==============================] - 0s - loss: 17.0181 - dense_1_loss_1: 3.9757 - dense_1_loss_2: 2.5100 - dense_1_loss_3: 1.3787 - dense_1_loss_4: 0.7911 - dense_1_loss_5: 0.6209 - dense_1_loss_6: 0.4373 - dense_1_loss_7: 0.3924 - dense_1_loss_8: 0.3540 - dense_1_loss_9: 0.3806 - dense_1_loss_10: 0.2909 - dense_1_loss_11: 0.3312 - dense_1_loss_12: 0.2916 - dense_1_loss_13: 0.2471 - dense_1_loss_14: 0.2588 - dense_1_loss_15: 0.2925 - dense_1_loss_16: 0.3155 - dense_1_loss_17: 0.2874 - dense_1_loss_18: 0.2805 - dense_1_loss_19: 0.3120 - dense_1_loss_20: 0.3258 - dense_1_loss_21: 0.3345 - dense_1_loss_22: 0.3206 - dense_1_loss_23: 0.3303 - dense_1_loss_24: 0.2955 - dense_1_loss_25: 0.3507 - dense_1_loss_26: 0.3300 - dense_1_loss_27: 0.2980 - dense_1_loss_28: 0.3035 - dense_1_loss_29: 0.3810 - dense_1_loss_30: 0.0000e+00 - dense_1_acc_1: 0.0333 - dense_1_acc_2: 0.3833 - dense_1_acc_3: 0.6833 - dense_1_acc_4: 0.8667 - dense_1_acc_5: 0.9000 - dense_1_acc_6: 0.9667 - dense_1_acc_7: 0.9667 - dense_1_acc_8: 0.9833 - dense_1_acc_9: 0.9667 - dense_1_acc_10: 1.0000 - dense_1_acc_11: 1.0000 - dense_1_acc_12: 1.0000 - dense_1_acc_13: 1.0000 - dense_1_acc_14: 1.0000 - dense_1_acc_15: 1.0000 - dense_1_acc_16: 1.0000 - dense_1_acc_17: 1.0000 - dense_1_acc_18: 1.0000 - dense_1_acc_19: 1.0000 - dense_1_acc_20: 1.0000 - dense_1_acc_21: 1.0000 - dense_1_acc_22: 1.0000 - dense_1_acc_23: 1.0000 - dense_1_acc_24: 1.0000 - dense_1_acc_25: 0.9833 - dense_1_acc_26: 1.0000 - dense_1_acc_27: 1.0000 - dense_1_acc_28: 1.0000 - dense_1_acc_29: 0.9667 - dense_1_acc_30: 0.0000e+00     \n",
      "Epoch 42/100\n",
      "60/60 [==============================] - 0s - loss: 16.1297 - dense_1_loss_1: 3.9698 - dense_1_loss_2: 2.4679 - dense_1_loss_3: 1.3277 - dense_1_loss_4: 0.7401 - dense_1_loss_5: 0.5757 - dense_1_loss_6: 0.4087 - dense_1_loss_7: 0.3620 - dense_1_loss_8: 0.3204 - dense_1_loss_9: 0.3479 - dense_1_loss_10: 0.2639 - dense_1_loss_11: 0.3051 - dense_1_loss_12: 0.2625 - dense_1_loss_13: 0.2197 - dense_1_loss_14: 0.2403 - dense_1_loss_15: 0.2625 - dense_1_loss_16: 0.2861 - dense_1_loss_17: 0.2533 - dense_1_loss_18: 0.2583 - dense_1_loss_19: 0.2903 - dense_1_loss_20: 0.2915 - dense_1_loss_21: 0.3080 - dense_1_loss_22: 0.2944 - dense_1_loss_23: 0.2950 - dense_1_loss_24: 0.2735 - dense_1_loss_25: 0.3094 - dense_1_loss_26: 0.2886 - dense_1_loss_27: 0.2644 - dense_1_loss_28: 0.2878 - dense_1_loss_29: 0.3548 - dense_1_loss_30: 0.0000e+00 - dense_1_acc_1: 0.0333 - dense_1_acc_2: 0.4000 - dense_1_acc_3: 0.6833 - dense_1_acc_4: 0.8833 - dense_1_acc_5: 0.9167 - dense_1_acc_6: 0.9667 - dense_1_acc_7: 0.9667 - dense_1_acc_8: 0.9833 - dense_1_acc_9: 0.9667 - dense_1_acc_10: 1.0000 - dense_1_acc_11: 1.0000 - dense_1_acc_12: 1.0000 - dense_1_acc_13: 1.0000 - dense_1_acc_14: 1.0000 - dense_1_acc_15: 1.0000 - dense_1_acc_16: 1.0000 - dense_1_acc_17: 1.0000 - dense_1_acc_18: 1.0000 - dense_1_acc_19: 1.0000 - dense_1_acc_20: 1.0000 - dense_1_acc_21: 1.0000 - dense_1_acc_22: 1.0000 - dense_1_acc_23: 1.0000 - dense_1_acc_24: 1.0000 - dense_1_acc_25: 1.0000 - dense_1_acc_26: 1.0000 - dense_1_acc_27: 1.0000 - dense_1_acc_28: 1.0000 - dense_1_acc_29: 0.9667 - dense_1_acc_30: 0.0000e+00         \n",
      "Epoch 43/100\n",
      "60/60 [==============================] - 0s - loss: 15.3708 - dense_1_loss_1: 3.9651 - dense_1_loss_2: 2.4214 - dense_1_loss_3: 1.2759 - dense_1_loss_4: 0.6846 - dense_1_loss_5: 0.5333 - dense_1_loss_6: 0.3822 - dense_1_loss_7: 0.3311 - dense_1_loss_8: 0.2994 - dense_1_loss_9: 0.3178 - dense_1_loss_10: 0.2408 - dense_1_loss_11: 0.2771 - dense_1_loss_12: 0.2500 - dense_1_loss_13: 0.1996 - dense_1_loss_14: 0.2218 - dense_1_loss_15: 0.2327 - dense_1_loss_16: 0.2683 - dense_1_loss_17: 0.2367 - dense_1_loss_18: 0.2371 - dense_1_loss_19: 0.2590 - dense_1_loss_20: 0.2693 - dense_1_loss_21: 0.2865 - dense_1_loss_22: 0.2799 - dense_1_loss_23: 0.2682 - dense_1_loss_24: 0.2436 - dense_1_loss_25: 0.2841 - dense_1_loss_26: 0.2724 - dense_1_loss_27: 0.2437 - dense_1_loss_28: 0.2613 - dense_1_loss_29: 0.3280 - dense_1_loss_30: 0.0000e+00 - dense_1_acc_1: 0.0333 - dense_1_acc_2: 0.4000 - dense_1_acc_3: 0.6833 - dense_1_acc_4: 0.9333 - dense_1_acc_5: 0.9500 - dense_1_acc_6: 0.9667 - dense_1_acc_7: 0.9667 - dense_1_acc_8: 0.9833 - dense_1_acc_9: 0.9833 - dense_1_acc_10: 1.0000 - dense_1_acc_11: 1.0000 - dense_1_acc_12: 1.0000 - dense_1_acc_13: 1.0000 - dense_1_acc_14: 1.0000 - dense_1_acc_15: 1.0000 - dense_1_acc_16: 1.0000 - dense_1_acc_17: 1.0000 - dense_1_acc_18: 1.0000 - dense_1_acc_19: 1.0000 - dense_1_acc_20: 1.0000 - dense_1_acc_21: 1.0000 - dense_1_acc_22: 1.0000 - dense_1_acc_23: 1.0000 - dense_1_acc_24: 1.0000 - dense_1_acc_25: 1.0000 - dense_1_acc_26: 1.0000 - dense_1_acc_27: 1.0000 - dense_1_acc_28: 1.0000 - dense_1_acc_29: 0.9667 - dense_1_acc_30: 0.0000e+00     \n",
      "Epoch 44/100\n",
      "60/60 [==============================] - 0s - loss: 14.6454 - dense_1_loss_1: 3.9599 - dense_1_loss_2: 2.3791 - dense_1_loss_3: 1.2280 - dense_1_loss_4: 0.6344 - dense_1_loss_5: 0.4951 - dense_1_loss_6: 0.3558 - dense_1_loss_7: 0.3056 - dense_1_loss_8: 0.2749 - dense_1_loss_9: 0.2933 - dense_1_loss_10: 0.2202 - dense_1_loss_11: 0.2534 - dense_1_loss_12: 0.2288 - dense_1_loss_13: 0.1851 - dense_1_loss_14: 0.1989 - dense_1_loss_15: 0.2134 - dense_1_loss_16: 0.2428 - dense_1_loss_17: 0.2200 - dense_1_loss_18: 0.2182 - dense_1_loss_19: 0.2342 - dense_1_loss_20: 0.2482 - dense_1_loss_21: 0.2637 - dense_1_loss_22: 0.2590 - dense_1_loss_23: 0.2409 - dense_1_loss_24: 0.2209 - dense_1_loss_25: 0.2637 - dense_1_loss_26: 0.2457 - dense_1_loss_27: 0.2262 - dense_1_loss_28: 0.2331 - dense_1_loss_29: 0.3029 - dense_1_loss_30: 0.0000e+00 - dense_1_acc_1: 0.0333 - dense_1_acc_2: 0.4000 - dense_1_acc_3: 0.6833 - dense_1_acc_4: 0.9500 - dense_1_acc_5: 0.9500 - dense_1_acc_6: 0.9667 - dense_1_acc_7: 0.9833 - dense_1_acc_8: 0.9833 - dense_1_acc_9: 0.9833 - dense_1_acc_10: 1.0000 - dense_1_acc_11: 1.0000 - dense_1_acc_12: 1.0000 - dense_1_acc_13: 1.0000 - dense_1_acc_14: 1.0000 - dense_1_acc_15: 1.0000 - dense_1_acc_16: 1.0000 - dense_1_acc_17: 1.0000 - dense_1_acc_18: 1.0000 - dense_1_acc_19: 1.0000 - dense_1_acc_20: 1.0000 - dense_1_acc_21: 1.0000 - dense_1_acc_22: 1.0000 - dense_1_acc_23: 1.0000 - dense_1_acc_24: 1.0000 - dense_1_acc_25: 1.0000 - dense_1_acc_26: 1.0000 - dense_1_acc_27: 1.0000 - dense_1_acc_28: 1.0000 - dense_1_acc_29: 0.9667 - dense_1_acc_30: 0.0000e+00     \n",
      "Epoch 45/100\n",
      "60/60 [==============================] - 0s - loss: 13.9898 - dense_1_loss_1: 3.9558 - dense_1_loss_2: 2.3377 - dense_1_loss_3: 1.1790 - dense_1_loss_4: 0.5929 - dense_1_loss_5: 0.4597 - dense_1_loss_6: 0.3327 - dense_1_loss_7: 0.2836 - dense_1_loss_8: 0.2497 - dense_1_loss_9: 0.2721 - dense_1_loss_10: 0.2015 - dense_1_loss_11: 0.2354 - dense_1_loss_12: 0.2028 - dense_1_loss_13: 0.1711 - dense_1_loss_14: 0.1847 - dense_1_loss_15: 0.1997 - dense_1_loss_16: 0.2197 - dense_1_loss_17: 0.2028 - dense_1_loss_18: 0.1969 - dense_1_loss_19: 0.2219 - dense_1_loss_20: 0.2305 - dense_1_loss_21: 0.2379 - dense_1_loss_22: 0.2329 - dense_1_loss_23: 0.2192 - dense_1_loss_24: 0.2075 - dense_1_loss_25: 0.2407 - dense_1_loss_26: 0.2194 - dense_1_loss_27: 0.2014 - dense_1_loss_28: 0.2187 - dense_1_loss_29: 0.2819 - dense_1_loss_30: 0.0000e+00 - dense_1_acc_1: 0.0333 - dense_1_acc_2: 0.3833 - dense_1_acc_3: 0.7000 - dense_1_acc_4: 0.9500 - dense_1_acc_5: 0.9500 - dense_1_acc_6: 0.9667 - dense_1_acc_7: 0.9667 - dense_1_acc_8: 1.0000 - dense_1_acc_9: 0.9833 - dense_1_acc_10: 1.0000 - dense_1_acc_11: 1.0000 - dense_1_acc_12: 1.0000 - dense_1_acc_13: 1.0000 - dense_1_acc_14: 1.0000 - dense_1_acc_15: 1.0000 - dense_1_acc_16: 1.0000 - dense_1_acc_17: 1.0000 - dense_1_acc_18: 1.0000 - dense_1_acc_19: 1.0000 - dense_1_acc_20: 1.0000 - dense_1_acc_21: 1.0000 - dense_1_acc_22: 1.0000 - dense_1_acc_23: 1.0000 - dense_1_acc_24: 1.0000 - dense_1_acc_25: 1.0000 - dense_1_acc_26: 1.0000 - dense_1_acc_27: 1.0000 - dense_1_acc_28: 1.0000 - dense_1_acc_29: 0.9667 - dense_1_acc_30: 0.0000e+00         \n",
      "Epoch 46/100\n",
      "60/60 [==============================] - 0s - loss: 13.3835 - dense_1_loss_1: 3.9500 - dense_1_loss_2: 2.2950 - dense_1_loss_3: 1.1355 - dense_1_loss_4: 0.5490 - dense_1_loss_5: 0.4288 - dense_1_loss_6: 0.3119 - dense_1_loss_7: 0.2581 - dense_1_loss_8: 0.2328 - dense_1_loss_9: 0.2528 - dense_1_loss_10: 0.1829 - dense_1_loss_11: 0.2124 - dense_1_loss_12: 0.1889 - dense_1_loss_13: 0.1561 - dense_1_loss_14: 0.1682 - dense_1_loss_15: 0.1827 - dense_1_loss_16: 0.2022 - dense_1_loss_17: 0.1830 - dense_1_loss_18: 0.1797 - dense_1_loss_19: 0.2046 - dense_1_loss_20: 0.2083 - dense_1_loss_21: 0.2210 - dense_1_loss_22: 0.2108 - dense_1_loss_23: 0.2075 - dense_1_loss_24: 0.1886 - dense_1_loss_25: 0.2199 - dense_1_loss_26: 0.2024 - dense_1_loss_27: 0.1892 - dense_1_loss_28: 0.2015 - dense_1_loss_29: 0.2599 - dense_1_loss_30: 0.0000e+00 - dense_1_acc_1: 0.0333 - dense_1_acc_2: 0.4000 - dense_1_acc_3: 0.7000 - dense_1_acc_4: 0.9500 - dense_1_acc_5: 0.9500 - dense_1_acc_6: 0.9667 - dense_1_acc_7: 0.9833 - dense_1_acc_8: 1.0000 - dense_1_acc_9: 0.9833 - dense_1_acc_10: 1.0000 - dense_1_acc_11: 1.0000 - dense_1_acc_12: 1.0000 - dense_1_acc_13: 1.0000 - dense_1_acc_14: 1.0000 - dense_1_acc_15: 1.0000 - dense_1_acc_16: 1.0000 - dense_1_acc_17: 1.0000 - dense_1_acc_18: 1.0000 - dense_1_acc_19: 1.0000 - dense_1_acc_20: 1.0000 - dense_1_acc_21: 1.0000 - dense_1_acc_22: 1.0000 - dense_1_acc_23: 1.0000 - dense_1_acc_24: 1.0000 - dense_1_acc_25: 1.0000 - dense_1_acc_26: 1.0000 - dense_1_acc_27: 1.0000 - dense_1_acc_28: 1.0000 - dense_1_acc_29: 0.9833 - dense_1_acc_30: 0.0000e+00     \n",
      "Epoch 47/100\n",
      "60/60 [==============================] - 0s - loss: 12.8496 - dense_1_loss_1: 3.9452 - dense_1_loss_2: 2.2543 - dense_1_loss_3: 1.0945 - dense_1_loss_4: 0.5114 - dense_1_loss_5: 0.3993 - dense_1_loss_6: 0.2918 - dense_1_loss_7: 0.2396 - dense_1_loss_8: 0.2175 - dense_1_loss_9: 0.2338 - dense_1_loss_10: 0.1695 - dense_1_loss_11: 0.1936 - dense_1_loss_12: 0.1757 - dense_1_loss_13: 0.1435 - dense_1_loss_14: 0.1560 - dense_1_loss_15: 0.1661 - dense_1_loss_16: 0.1864 - dense_1_loss_17: 0.1687 - dense_1_loss_18: 0.1656 - dense_1_loss_19: 0.1846 - dense_1_loss_20: 0.1923 - dense_1_loss_21: 0.2053 - dense_1_loss_22: 0.1948 - dense_1_loss_23: 0.1928 - dense_1_loss_24: 0.1723 - dense_1_loss_25: 0.2036 - dense_1_loss_26: 0.1884 - dense_1_loss_27: 0.1769 - dense_1_loss_28: 0.1828 - dense_1_loss_29: 0.2431 - dense_1_loss_30: 0.0000e+00 - dense_1_acc_1: 0.0333 - dense_1_acc_2: 0.4167 - dense_1_acc_3: 0.7500 - dense_1_acc_4: 0.9500 - dense_1_acc_5: 0.9500 - dense_1_acc_6: 0.9667 - dense_1_acc_7: 0.9833 - dense_1_acc_8: 1.0000 - dense_1_acc_9: 0.9833 - dense_1_acc_10: 1.0000 - dense_1_acc_11: 1.0000 - dense_1_acc_12: 1.0000 - dense_1_acc_13: 1.0000 - dense_1_acc_14: 1.0000 - dense_1_acc_15: 1.0000 - dense_1_acc_16: 1.0000 - dense_1_acc_17: 1.0000 - dense_1_acc_18: 1.0000 - dense_1_acc_19: 1.0000 - dense_1_acc_20: 1.0000 - dense_1_acc_21: 1.0000 - dense_1_acc_22: 1.0000 - dense_1_acc_23: 1.0000 - dense_1_acc_24: 1.0000 - dense_1_acc_25: 1.0000 - dense_1_acc_26: 1.0000 - dense_1_acc_27: 1.0000 - dense_1_acc_28: 1.0000 - dense_1_acc_29: 0.9667 - dense_1_acc_30: 0.0000e+00     \n",
      "Epoch 48/100\n",
      "60/60 [==============================] - 0s - loss: 12.3420 - dense_1_loss_1: 3.9406 - dense_1_loss_2: 2.2149 - dense_1_loss_3: 1.0572 - dense_1_loss_4: 0.4761 - dense_1_loss_5: 0.3730 - dense_1_loss_6: 0.2733 - dense_1_loss_7: 0.2239 - dense_1_loss_8: 0.2007 - dense_1_loss_9: 0.2156 - dense_1_loss_10: 0.1569 - dense_1_loss_11: 0.1810 - dense_1_loss_12: 0.1608 - dense_1_loss_13: 0.1317 - dense_1_loss_14: 0.1440 - dense_1_loss_15: 0.1538 - dense_1_loss_16: 0.1700 - dense_1_loss_17: 0.1537 - dense_1_loss_18: 0.1512 - dense_1_loss_19: 0.1676 - dense_1_loss_20: 0.1809 - dense_1_loss_21: 0.1880 - dense_1_loss_22: 0.1807 - dense_1_loss_23: 0.1720 - dense_1_loss_24: 0.1604 - dense_1_loss_25: 0.1865 - dense_1_loss_26: 0.1727 - dense_1_loss_27: 0.1599 - dense_1_loss_28: 0.1697 - dense_1_loss_29: 0.2253 - dense_1_loss_30: 0.0000e+00 - dense_1_acc_1: 0.0333 - dense_1_acc_2: 0.4167 - dense_1_acc_3: 0.7500 - dense_1_acc_4: 0.9500 - dense_1_acc_5: 0.9500 - dense_1_acc_6: 0.9667 - dense_1_acc_7: 0.9833 - dense_1_acc_8: 1.0000 - dense_1_acc_9: 0.9833 - dense_1_acc_10: 1.0000 - dense_1_acc_11: 1.0000 - dense_1_acc_12: 1.0000 - dense_1_acc_13: 1.0000 - dense_1_acc_14: 1.0000 - dense_1_acc_15: 1.0000 - dense_1_acc_16: 1.0000 - dense_1_acc_17: 1.0000 - dense_1_acc_18: 1.0000 - dense_1_acc_19: 1.0000 - dense_1_acc_20: 1.0000 - dense_1_acc_21: 1.0000 - dense_1_acc_22: 1.0000 - dense_1_acc_23: 1.0000 - dense_1_acc_24: 1.0000 - dense_1_acc_25: 1.0000 - dense_1_acc_26: 1.0000 - dense_1_acc_27: 1.0000 - dense_1_acc_28: 1.0000 - dense_1_acc_29: 0.9833 - dense_1_acc_30: 0.0000e+00     \n",
      "Epoch 49/100\n",
      "60/60 [==============================] - 0s - loss: 11.8935 - dense_1_loss_1: 3.9360 - dense_1_loss_2: 2.1771 - dense_1_loss_3: 1.0187 - dense_1_loss_4: 0.4469 - dense_1_loss_5: 0.3472 - dense_1_loss_6: 0.2570 - dense_1_loss_7: 0.2076 - dense_1_loss_8: 0.1878 - dense_1_loss_9: 0.2015 - dense_1_loss_10: 0.1461 - dense_1_loss_11: 0.1683 - dense_1_loss_12: 0.1502 - dense_1_loss_13: 0.1227 - dense_1_loss_14: 0.1353 - dense_1_loss_15: 0.1401 - dense_1_loss_16: 0.1582 - dense_1_loss_17: 0.1422 - dense_1_loss_18: 0.1406 - dense_1_loss_19: 0.1582 - dense_1_loss_20: 0.1678 - dense_1_loss_21: 0.1710 - dense_1_loss_22: 0.1681 - dense_1_loss_23: 0.1569 - dense_1_loss_24: 0.1474 - dense_1_loss_25: 0.1712 - dense_1_loss_26: 0.1586 - dense_1_loss_27: 0.1454 - dense_1_loss_28: 0.1548 - dense_1_loss_29: 0.2105 - dense_1_loss_30: 0.0000e+00 - dense_1_acc_1: 0.0333 - dense_1_acc_2: 0.4167 - dense_1_acc_3: 0.7500 - dense_1_acc_4: 0.9500 - dense_1_acc_5: 0.9500 - dense_1_acc_6: 0.9667 - dense_1_acc_7: 0.9833 - dense_1_acc_8: 1.0000 - dense_1_acc_9: 0.9833 - dense_1_acc_10: 1.0000 - dense_1_acc_11: 1.0000 - dense_1_acc_12: 1.0000 - dense_1_acc_13: 1.0000 - dense_1_acc_14: 1.0000 - dense_1_acc_15: 1.0000 - dense_1_acc_16: 1.0000 - dense_1_acc_17: 1.0000 - dense_1_acc_18: 1.0000 - dense_1_acc_19: 1.0000 - dense_1_acc_20: 1.0000 - dense_1_acc_21: 1.0000 - dense_1_acc_22: 1.0000 - dense_1_acc_23: 1.0000 - dense_1_acc_24: 1.0000 - dense_1_acc_25: 1.0000 - dense_1_acc_26: 1.0000 - dense_1_acc_27: 1.0000 - dense_1_acc_28: 1.0000 - dense_1_acc_29: 0.9833 - dense_1_acc_30: 0.0000e+00     \n",
      "Epoch 50/100\n",
      "60/60 [==============================] - 0s - loss: 11.4767 - dense_1_loss_1: 3.9315 - dense_1_loss_2: 2.1398 - dense_1_loss_3: 0.9810 - dense_1_loss_4: 0.4173 - dense_1_loss_5: 0.3257 - dense_1_loss_6: 0.2413 - dense_1_loss_7: 0.1906 - dense_1_loss_8: 0.1740 - dense_1_loss_9: 0.1884 - dense_1_loss_10: 0.1366 - dense_1_loss_11: 0.1537 - dense_1_loss_12: 0.1391 - dense_1_loss_13: 0.1145 - dense_1_loss_14: 0.1253 - dense_1_loss_15: 0.1283 - dense_1_loss_16: 0.1472 - dense_1_loss_17: 0.1328 - dense_1_loss_18: 0.1304 - dense_1_loss_19: 0.1471 - dense_1_loss_20: 0.1539 - dense_1_loss_21: 0.1595 - dense_1_loss_22: 0.1570 - dense_1_loss_23: 0.1465 - dense_1_loss_24: 0.1362 - dense_1_loss_25: 0.1561 - dense_1_loss_26: 0.1471 - dense_1_loss_27: 0.1366 - dense_1_loss_28: 0.1434 - dense_1_loss_29: 0.1959 - dense_1_loss_30: 0.0000e+00 - dense_1_acc_1: 0.0333 - dense_1_acc_2: 0.4167 - dense_1_acc_3: 0.7500 - dense_1_acc_4: 0.9500 - dense_1_acc_5: 0.9667 - dense_1_acc_6: 0.9667 - dense_1_acc_7: 0.9833 - dense_1_acc_8: 1.0000 - dense_1_acc_9: 0.9833 - dense_1_acc_10: 1.0000 - dense_1_acc_11: 1.0000 - dense_1_acc_12: 1.0000 - dense_1_acc_13: 1.0000 - dense_1_acc_14: 1.0000 - dense_1_acc_15: 1.0000 - dense_1_acc_16: 1.0000 - dense_1_acc_17: 1.0000 - dense_1_acc_18: 1.0000 - dense_1_acc_19: 1.0000 - dense_1_acc_20: 1.0000 - dense_1_acc_21: 1.0000 - dense_1_acc_22: 1.0000 - dense_1_acc_23: 1.0000 - dense_1_acc_24: 1.0000 - dense_1_acc_25: 1.0000 - dense_1_acc_26: 1.0000 - dense_1_acc_27: 1.0000 - dense_1_acc_28: 1.0000 - dense_1_acc_29: 0.9833 - dense_1_acc_30: 0.0000e+00         \n",
      "Epoch 51/100\n"
     ]
    },
    {
     "name": "stdout",
     "output_type": "stream",
     "text": [
      "60/60 [==============================] - 0s - loss: 11.0977 - dense_1_loss_1: 3.9269 - dense_1_loss_2: 2.1029 - dense_1_loss_3: 0.9472 - dense_1_loss_4: 0.3925 - dense_1_loss_5: 0.3056 - dense_1_loss_6: 0.2263 - dense_1_loss_7: 0.1777 - dense_1_loss_8: 0.1628 - dense_1_loss_9: 0.1764 - dense_1_loss_10: 0.1265 - dense_1_loss_11: 0.1422 - dense_1_loss_12: 0.1294 - dense_1_loss_13: 0.1062 - dense_1_loss_14: 0.1151 - dense_1_loss_15: 0.1200 - dense_1_loss_16: 0.1339 - dense_1_loss_17: 0.1237 - dense_1_loss_18: 0.1203 - dense_1_loss_19: 0.1345 - dense_1_loss_20: 0.1429 - dense_1_loss_21: 0.1495 - dense_1_loss_22: 0.1437 - dense_1_loss_23: 0.1371 - dense_1_loss_24: 0.1271 - dense_1_loss_25: 0.1440 - dense_1_loss_26: 0.1366 - dense_1_loss_27: 0.1271 - dense_1_loss_28: 0.1362 - dense_1_loss_29: 0.1833 - dense_1_loss_30: 0.0000e+00 - dense_1_acc_1: 0.0333 - dense_1_acc_2: 0.4667 - dense_1_acc_3: 0.7667 - dense_1_acc_4: 0.9667 - dense_1_acc_5: 0.9667 - dense_1_acc_6: 0.9667 - dense_1_acc_7: 0.9833 - dense_1_acc_8: 1.0000 - dense_1_acc_9: 0.9833 - dense_1_acc_10: 1.0000 - dense_1_acc_11: 1.0000 - dense_1_acc_12: 1.0000 - dense_1_acc_13: 1.0000 - dense_1_acc_14: 1.0000 - dense_1_acc_15: 1.0000 - dense_1_acc_16: 1.0000 - dense_1_acc_17: 1.0000 - dense_1_acc_18: 1.0000 - dense_1_acc_19: 1.0000 - dense_1_acc_20: 1.0000 - dense_1_acc_21: 1.0000 - dense_1_acc_22: 1.0000 - dense_1_acc_23: 1.0000 - dense_1_acc_24: 1.0000 - dense_1_acc_25: 1.0000 - dense_1_acc_26: 1.0000 - dense_1_acc_27: 1.0000 - dense_1_acc_28: 1.0000 - dense_1_acc_29: 0.9833 - dense_1_acc_30: 0.0000e+00     \n",
      "Epoch 52/100\n",
      "60/60 [==============================] - 0s - loss: 10.7473 - dense_1_loss_1: 3.9226 - dense_1_loss_2: 2.0686 - dense_1_loss_3: 0.9150 - dense_1_loss_4: 0.3689 - dense_1_loss_5: 0.2880 - dense_1_loss_6: 0.2132 - dense_1_loss_7: 0.1669 - dense_1_loss_8: 0.1521 - dense_1_loss_9: 0.1648 - dense_1_loss_10: 0.1171 - dense_1_loss_11: 0.1327 - dense_1_loss_12: 0.1210 - dense_1_loss_13: 0.0984 - dense_1_loss_14: 0.1064 - dense_1_loss_15: 0.1131 - dense_1_loss_16: 0.1237 - dense_1_loss_17: 0.1148 - dense_1_loss_18: 0.1112 - dense_1_loss_19: 0.1250 - dense_1_loss_20: 0.1350 - dense_1_loss_21: 0.1379 - dense_1_loss_22: 0.1320 - dense_1_loss_23: 0.1277 - dense_1_loss_24: 0.1182 - dense_1_loss_25: 0.1364 - dense_1_loss_26: 0.1269 - dense_1_loss_27: 0.1178 - dense_1_loss_28: 0.1250 - dense_1_loss_29: 0.1669 - dense_1_loss_30: 0.0000e+00 - dense_1_acc_1: 0.0333 - dense_1_acc_2: 0.4667 - dense_1_acc_3: 0.8000 - dense_1_acc_4: 0.9667 - dense_1_acc_5: 0.9667 - dense_1_acc_6: 0.9667 - dense_1_acc_7: 0.9833 - dense_1_acc_8: 1.0000 - dense_1_acc_9: 0.9833 - dense_1_acc_10: 1.0000 - dense_1_acc_11: 1.0000 - dense_1_acc_12: 1.0000 - dense_1_acc_13: 1.0000 - dense_1_acc_14: 1.0000 - dense_1_acc_15: 1.0000 - dense_1_acc_16: 1.0000 - dense_1_acc_17: 1.0000 - dense_1_acc_18: 1.0000 - dense_1_acc_19: 1.0000 - dense_1_acc_20: 1.0000 - dense_1_acc_21: 1.0000 - dense_1_acc_22: 1.0000 - dense_1_acc_23: 1.0000 - dense_1_acc_24: 1.0000 - dense_1_acc_25: 1.0000 - dense_1_acc_26: 1.0000 - dense_1_acc_27: 1.0000 - dense_1_acc_28: 1.0000 - dense_1_acc_29: 0.9833 - dense_1_acc_30: 0.0000e+00     \n",
      "Epoch 53/100\n",
      "60/60 [==============================] - 0s - loss: 10.4398 - dense_1_loss_1: 3.9180 - dense_1_loss_2: 2.0344 - dense_1_loss_3: 0.8838 - dense_1_loss_4: 0.3476 - dense_1_loss_5: 0.2703 - dense_1_loss_6: 0.2011 - dense_1_loss_7: 0.1577 - dense_1_loss_8: 0.1423 - dense_1_loss_9: 0.1549 - dense_1_loss_10: 0.1093 - dense_1_loss_11: 0.1251 - dense_1_loss_12: 0.1132 - dense_1_loss_13: 0.0925 - dense_1_loss_14: 0.1004 - dense_1_loss_15: 0.1065 - dense_1_loss_16: 0.1163 - dense_1_loss_17: 0.1069 - dense_1_loss_18: 0.1035 - dense_1_loss_19: 0.1182 - dense_1_loss_20: 0.1265 - dense_1_loss_21: 0.1288 - dense_1_loss_22: 0.1228 - dense_1_loss_23: 0.1185 - dense_1_loss_24: 0.1108 - dense_1_loss_25: 0.1296 - dense_1_loss_26: 0.1183 - dense_1_loss_27: 0.1089 - dense_1_loss_28: 0.1166 - dense_1_loss_29: 0.1569 - dense_1_loss_30: 0.0000e+00 - dense_1_acc_1: 0.0333 - dense_1_acc_2: 0.4667 - dense_1_acc_3: 0.8333 - dense_1_acc_4: 0.9667 - dense_1_acc_5: 0.9833 - dense_1_acc_6: 0.9667 - dense_1_acc_7: 0.9833 - dense_1_acc_8: 1.0000 - dense_1_acc_9: 0.9833 - dense_1_acc_10: 1.0000 - dense_1_acc_11: 1.0000 - dense_1_acc_12: 1.0000 - dense_1_acc_13: 1.0000 - dense_1_acc_14: 1.0000 - dense_1_acc_15: 1.0000 - dense_1_acc_16: 1.0000 - dense_1_acc_17: 1.0000 - dense_1_acc_18: 1.0000 - dense_1_acc_19: 1.0000 - dense_1_acc_20: 1.0000 - dense_1_acc_21: 1.0000 - dense_1_acc_22: 1.0000 - dense_1_acc_23: 1.0000 - dense_1_acc_24: 1.0000 - dense_1_acc_25: 1.0000 - dense_1_acc_26: 1.0000 - dense_1_acc_27: 1.0000 - dense_1_acc_28: 1.0000 - dense_1_acc_29: 0.9833 - dense_1_acc_30: 0.0000e+00     \n",
      "Epoch 54/100\n",
      "60/60 [==============================] - 0s - loss: 10.1465 - dense_1_loss_1: 3.9137 - dense_1_loss_2: 2.0020 - dense_1_loss_3: 0.8535 - dense_1_loss_4: 0.3282 - dense_1_loss_5: 0.2536 - dense_1_loss_6: 0.1887 - dense_1_loss_7: 0.1470 - dense_1_loss_8: 0.1324 - dense_1_loss_9: 0.1453 - dense_1_loss_10: 0.1036 - dense_1_loss_11: 0.1172 - dense_1_loss_12: 0.1063 - dense_1_loss_13: 0.0869 - dense_1_loss_14: 0.0947 - dense_1_loss_15: 0.0993 - dense_1_loss_16: 0.1087 - dense_1_loss_17: 0.1004 - dense_1_loss_18: 0.0969 - dense_1_loss_19: 0.1115 - dense_1_loss_20: 0.1168 - dense_1_loss_21: 0.1210 - dense_1_loss_22: 0.1161 - dense_1_loss_23: 0.1102 - dense_1_loss_24: 0.1036 - dense_1_loss_25: 0.1202 - dense_1_loss_26: 0.1100 - dense_1_loss_27: 0.1025 - dense_1_loss_28: 0.1088 - dense_1_loss_29: 0.1473 - dense_1_loss_30: 0.0000e+00 - dense_1_acc_1: 0.0333 - dense_1_acc_2: 0.4667 - dense_1_acc_3: 0.8500 - dense_1_acc_4: 0.9833 - dense_1_acc_5: 0.9833 - dense_1_acc_6: 0.9833 - dense_1_acc_7: 0.9833 - dense_1_acc_8: 1.0000 - dense_1_acc_9: 0.9833 - dense_1_acc_10: 1.0000 - dense_1_acc_11: 1.0000 - dense_1_acc_12: 1.0000 - dense_1_acc_13: 1.0000 - dense_1_acc_14: 1.0000 - dense_1_acc_15: 1.0000 - dense_1_acc_16: 1.0000 - dense_1_acc_17: 1.0000 - dense_1_acc_18: 1.0000 - dense_1_acc_19: 1.0000 - dense_1_acc_20: 1.0000 - dense_1_acc_21: 1.0000 - dense_1_acc_22: 1.0000 - dense_1_acc_23: 1.0000 - dense_1_acc_24: 1.0000 - dense_1_acc_25: 1.0000 - dense_1_acc_26: 1.0000 - dense_1_acc_27: 1.0000 - dense_1_acc_28: 1.0000 - dense_1_acc_29: 0.9833 - dense_1_acc_30: 0.0000e+00    \n",
      "Epoch 55/100\n",
      "60/60 [==============================] - 0s - loss: 9.8847 - dense_1_loss_1: 3.9093 - dense_1_loss_2: 1.9693 - dense_1_loss_3: 0.8264 - dense_1_loss_4: 0.3105 - dense_1_loss_5: 0.2400 - dense_1_loss_6: 0.1790 - dense_1_loss_7: 0.1392 - dense_1_loss_8: 0.1250 - dense_1_loss_9: 0.1378 - dense_1_loss_10: 0.0983 - dense_1_loss_11: 0.1099 - dense_1_loss_12: 0.1001 - dense_1_loss_13: 0.0819 - dense_1_loss_14: 0.0894 - dense_1_loss_15: 0.0925 - dense_1_loss_16: 0.1023 - dense_1_loss_17: 0.0937 - dense_1_loss_18: 0.0914 - dense_1_loss_19: 0.1041 - dense_1_loss_20: 0.1094 - dense_1_loss_21: 0.1136 - dense_1_loss_22: 0.1098 - dense_1_loss_23: 0.1029 - dense_1_loss_24: 0.0973 - dense_1_loss_25: 0.1111 - dense_1_loss_26: 0.1028 - dense_1_loss_27: 0.0963 - dense_1_loss_28: 0.1031 - dense_1_loss_29: 0.1383 - dense_1_loss_30: 0.0000e+00 - dense_1_acc_1: 0.0333 - dense_1_acc_2: 0.4667 - dense_1_acc_3: 0.8500 - dense_1_acc_4: 0.9833 - dense_1_acc_5: 0.9833 - dense_1_acc_6: 0.9833 - dense_1_acc_7: 0.9833 - dense_1_acc_8: 1.0000 - dense_1_acc_9: 0.9833 - dense_1_acc_10: 1.0000 - dense_1_acc_11: 1.0000 - dense_1_acc_12: 1.0000 - dense_1_acc_13: 1.0000 - dense_1_acc_14: 1.0000 - dense_1_acc_15: 1.0000 - dense_1_acc_16: 1.0000 - dense_1_acc_17: 1.0000 - dense_1_acc_18: 1.0000 - dense_1_acc_19: 1.0000 - dense_1_acc_20: 1.0000 - dense_1_acc_21: 1.0000 - dense_1_acc_22: 1.0000 - dense_1_acc_23: 1.0000 - dense_1_acc_24: 1.0000 - dense_1_acc_25: 1.0000 - dense_1_acc_26: 1.0000 - dense_1_acc_27: 1.0000 - dense_1_acc_28: 1.0000 - dense_1_acc_29: 0.9833 - dense_1_acc_30: 0.0000e+00      \n",
      "Epoch 56/100\n",
      "60/60 [==============================] - 0s - loss: 9.6323 - dense_1_loss_1: 3.9054 - dense_1_loss_2: 1.9396 - dense_1_loss_3: 0.7985 - dense_1_loss_4: 0.2928 - dense_1_loss_5: 0.2260 - dense_1_loss_6: 0.1689 - dense_1_loss_7: 0.1302 - dense_1_loss_8: 0.1173 - dense_1_loss_9: 0.1303 - dense_1_loss_10: 0.0927 - dense_1_loss_11: 0.1023 - dense_1_loss_12: 0.0945 - dense_1_loss_13: 0.0769 - dense_1_loss_14: 0.0838 - dense_1_loss_15: 0.0871 - dense_1_loss_16: 0.0962 - dense_1_loss_17: 0.0881 - dense_1_loss_18: 0.0858 - dense_1_loss_19: 0.0966 - dense_1_loss_20: 0.1037 - dense_1_loss_21: 0.1066 - dense_1_loss_22: 0.1031 - dense_1_loss_23: 0.0967 - dense_1_loss_24: 0.0911 - dense_1_loss_25: 0.1040 - dense_1_loss_26: 0.0969 - dense_1_loss_27: 0.0911 - dense_1_loss_28: 0.0971 - dense_1_loss_29: 0.1287 - dense_1_loss_30: 0.0000e+00 - dense_1_acc_1: 0.0333 - dense_1_acc_2: 0.4833 - dense_1_acc_3: 0.8500 - dense_1_acc_4: 0.9833 - dense_1_acc_5: 0.9833 - dense_1_acc_6: 0.9833 - dense_1_acc_7: 0.9833 - dense_1_acc_8: 1.0000 - dense_1_acc_9: 0.9833 - dense_1_acc_10: 1.0000 - dense_1_acc_11: 1.0000 - dense_1_acc_12: 1.0000 - dense_1_acc_13: 1.0000 - dense_1_acc_14: 1.0000 - dense_1_acc_15: 1.0000 - dense_1_acc_16: 1.0000 - dense_1_acc_17: 1.0000 - dense_1_acc_18: 1.0000 - dense_1_acc_19: 1.0000 - dense_1_acc_20: 1.0000 - dense_1_acc_21: 1.0000 - dense_1_acc_22: 1.0000 - dense_1_acc_23: 1.0000 - dense_1_acc_24: 1.0000 - dense_1_acc_25: 1.0000 - dense_1_acc_26: 1.0000 - dense_1_acc_27: 1.0000 - dense_1_acc_28: 1.0000 - dense_1_acc_29: 0.9833 - dense_1_acc_30: 0.0000e+00     \n",
      "Epoch 57/100\n",
      "60/60 [==============================] - 0s - loss: 9.4086 - dense_1_loss_1: 3.9012 - dense_1_loss_2: 1.9091 - dense_1_loss_3: 0.7738 - dense_1_loss_4: 0.2775 - dense_1_loss_5: 0.2151 - dense_1_loss_6: 0.1610 - dense_1_loss_7: 0.1235 - dense_1_loss_8: 0.1114 - dense_1_loss_9: 0.1246 - dense_1_loss_10: 0.0877 - dense_1_loss_11: 0.0966 - dense_1_loss_12: 0.0894 - dense_1_loss_13: 0.0726 - dense_1_loss_14: 0.0795 - dense_1_loss_15: 0.0828 - dense_1_loss_16: 0.0905 - dense_1_loss_17: 0.0833 - dense_1_loss_18: 0.0803 - dense_1_loss_19: 0.0907 - dense_1_loss_20: 0.0992 - dense_1_loss_21: 0.0995 - dense_1_loss_22: 0.0965 - dense_1_loss_23: 0.0908 - dense_1_loss_24: 0.0855 - dense_1_loss_25: 0.0987 - dense_1_loss_26: 0.0909 - dense_1_loss_27: 0.0859 - dense_1_loss_28: 0.0908 - dense_1_loss_29: 0.1204 - dense_1_loss_30: 0.0000e+00 - dense_1_acc_1: 0.0333 - dense_1_acc_2: 0.4833 - dense_1_acc_3: 0.8500 - dense_1_acc_4: 0.9833 - dense_1_acc_5: 0.9833 - dense_1_acc_6: 0.9833 - dense_1_acc_7: 1.0000 - dense_1_acc_8: 1.0000 - dense_1_acc_9: 0.9833 - dense_1_acc_10: 1.0000 - dense_1_acc_11: 1.0000 - dense_1_acc_12: 1.0000 - dense_1_acc_13: 1.0000 - dense_1_acc_14: 1.0000 - dense_1_acc_15: 1.0000 - dense_1_acc_16: 1.0000 - dense_1_acc_17: 1.0000 - dense_1_acc_18: 1.0000 - dense_1_acc_19: 1.0000 - dense_1_acc_20: 1.0000 - dense_1_acc_21: 1.0000 - dense_1_acc_22: 1.0000 - dense_1_acc_23: 1.0000 - dense_1_acc_24: 1.0000 - dense_1_acc_25: 1.0000 - dense_1_acc_26: 1.0000 - dense_1_acc_27: 1.0000 - dense_1_acc_28: 1.0000 - dense_1_acc_29: 0.9833 - dense_1_acc_30: 0.0000e+00     \n",
      "Epoch 58/100\n",
      "60/60 [==============================] - 0s - loss: 9.1989 - dense_1_loss_1: 3.8969 - dense_1_loss_2: 1.8798 - dense_1_loss_3: 0.7516 - dense_1_loss_4: 0.2633 - dense_1_loss_5: 0.2046 - dense_1_loss_6: 0.1528 - dense_1_loss_7: 0.1171 - dense_1_loss_8: 0.1052 - dense_1_loss_9: 0.1182 - dense_1_loss_10: 0.0830 - dense_1_loss_11: 0.0912 - dense_1_loss_12: 0.0846 - dense_1_loss_13: 0.0687 - dense_1_loss_14: 0.0752 - dense_1_loss_15: 0.0782 - dense_1_loss_16: 0.0852 - dense_1_loss_17: 0.0790 - dense_1_loss_18: 0.0753 - dense_1_loss_19: 0.0866 - dense_1_loss_20: 0.0937 - dense_1_loss_21: 0.0940 - dense_1_loss_22: 0.0907 - dense_1_loss_23: 0.0852 - dense_1_loss_24: 0.0806 - dense_1_loss_25: 0.0939 - dense_1_loss_26: 0.0854 - dense_1_loss_27: 0.0812 - dense_1_loss_28: 0.0854 - dense_1_loss_29: 0.1122 - dense_1_loss_30: 0.0000e+00 - dense_1_acc_1: 0.0333 - dense_1_acc_2: 0.5000 - dense_1_acc_3: 0.8500 - dense_1_acc_4: 0.9833 - dense_1_acc_5: 0.9833 - dense_1_acc_6: 0.9833 - dense_1_acc_7: 1.0000 - dense_1_acc_8: 1.0000 - dense_1_acc_9: 0.9833 - dense_1_acc_10: 1.0000 - dense_1_acc_11: 1.0000 - dense_1_acc_12: 1.0000 - dense_1_acc_13: 1.0000 - dense_1_acc_14: 1.0000 - dense_1_acc_15: 1.0000 - dense_1_acc_16: 1.0000 - dense_1_acc_17: 1.0000 - dense_1_acc_18: 1.0000 - dense_1_acc_19: 1.0000 - dense_1_acc_20: 1.0000 - dense_1_acc_21: 1.0000 - dense_1_acc_22: 1.0000 - dense_1_acc_23: 1.0000 - dense_1_acc_24: 1.0000 - dense_1_acc_25: 1.0000 - dense_1_acc_26: 1.0000 - dense_1_acc_27: 1.0000 - dense_1_acc_28: 1.0000 - dense_1_acc_29: 0.9833 - dense_1_acc_30: 0.0000e+00     \n",
      "Epoch 59/100\n",
      "60/60 [==============================] - 0s - loss: 9.0018 - dense_1_loss_1: 3.8931 - dense_1_loss_2: 1.8523 - dense_1_loss_3: 0.7280 - dense_1_loss_4: 0.2511 - dense_1_loss_5: 0.1939 - dense_1_loss_6: 0.1450 - dense_1_loss_7: 0.1110 - dense_1_loss_8: 0.0994 - dense_1_loss_9: 0.1122 - dense_1_loss_10: 0.0790 - dense_1_loss_11: 0.0863 - dense_1_loss_12: 0.0799 - dense_1_loss_13: 0.0652 - dense_1_loss_14: 0.0714 - dense_1_loss_15: 0.0740 - dense_1_loss_16: 0.0801 - dense_1_loss_17: 0.0749 - dense_1_loss_18: 0.0711 - dense_1_loss_19: 0.0823 - dense_1_loss_20: 0.0882 - dense_1_loss_21: 0.0888 - dense_1_loss_22: 0.0860 - dense_1_loss_23: 0.0804 - dense_1_loss_24: 0.0767 - dense_1_loss_25: 0.0880 - dense_1_loss_26: 0.0803 - dense_1_loss_27: 0.0773 - dense_1_loss_28: 0.0812 - dense_1_loss_29: 0.1046 - dense_1_loss_30: 0.0000e+00 - dense_1_acc_1: 0.0167 - dense_1_acc_2: 0.5000 - dense_1_acc_3: 0.8500 - dense_1_acc_4: 0.9833 - dense_1_acc_5: 0.9833 - dense_1_acc_6: 0.9833 - dense_1_acc_7: 1.0000 - dense_1_acc_8: 1.0000 - dense_1_acc_9: 0.9833 - dense_1_acc_10: 1.0000 - dense_1_acc_11: 1.0000 - dense_1_acc_12: 1.0000 - dense_1_acc_13: 1.0000 - dense_1_acc_14: 1.0000 - dense_1_acc_15: 1.0000 - dense_1_acc_16: 1.0000 - dense_1_acc_17: 1.0000 - dense_1_acc_18: 1.0000 - dense_1_acc_19: 1.0000 - dense_1_acc_20: 1.0000 - dense_1_acc_21: 1.0000 - dense_1_acc_22: 1.0000 - dense_1_acc_23: 1.0000 - dense_1_acc_24: 1.0000 - dense_1_acc_25: 1.0000 - dense_1_acc_26: 1.0000 - dense_1_acc_27: 1.0000 - dense_1_acc_28: 1.0000 - dense_1_acc_29: 0.9833 - dense_1_acc_30: 0.0000e+00     \n",
      "Epoch 60/100\n",
      "60/60 [==============================] - 0s - loss: 8.8186 - dense_1_loss_1: 3.8890 - dense_1_loss_2: 1.8241 - dense_1_loss_3: 0.7066 - dense_1_loss_4: 0.2389 - dense_1_loss_5: 0.1844 - dense_1_loss_6: 0.1374 - dense_1_loss_7: 0.1047 - dense_1_loss_8: 0.0944 - dense_1_loss_9: 0.1059 - dense_1_loss_10: 0.0753 - dense_1_loss_11: 0.0817 - dense_1_loss_12: 0.0758 - dense_1_loss_13: 0.0623 - dense_1_loss_14: 0.0675 - dense_1_loss_15: 0.0702 - dense_1_loss_16: 0.0761 - dense_1_loss_17: 0.0708 - dense_1_loss_18: 0.0677 - dense_1_loss_19: 0.0782 - dense_1_loss_20: 0.0829 - dense_1_loss_21: 0.0844 - dense_1_loss_22: 0.0818 - dense_1_loss_23: 0.0761 - dense_1_loss_24: 0.0726 - dense_1_loss_25: 0.0831 - dense_1_loss_26: 0.0764 - dense_1_loss_27: 0.0739 - dense_1_loss_28: 0.0773 - dense_1_loss_29: 0.0993 - dense_1_loss_30: 0.0000e+00 - dense_1_acc_1: 0.1000 - dense_1_acc_2: 0.5000 - dense_1_acc_3: 0.8500 - dense_1_acc_4: 0.9833 - dense_1_acc_5: 0.9833 - dense_1_acc_6: 0.9833 - dense_1_acc_7: 1.0000 - dense_1_acc_8: 1.0000 - dense_1_acc_9: 1.0000 - dense_1_acc_10: 1.0000 - dense_1_acc_11: 1.0000 - dense_1_acc_12: 1.0000 - dense_1_acc_13: 1.0000 - dense_1_acc_14: 1.0000 - dense_1_acc_15: 1.0000 - dense_1_acc_16: 1.0000 - dense_1_acc_17: 1.0000 - dense_1_acc_18: 1.0000 - dense_1_acc_19: 1.0000 - dense_1_acc_20: 1.0000 - dense_1_acc_21: 1.0000 - dense_1_acc_22: 1.0000 - dense_1_acc_23: 1.0000 - dense_1_acc_24: 1.0000 - dense_1_acc_25: 1.0000 - dense_1_acc_26: 1.0000 - dense_1_acc_27: 1.0000 - dense_1_acc_28: 1.0000 - dense_1_acc_29: 0.9833 - dense_1_acc_30: 0.0000e+00     \n",
      "Epoch 61/100\n"
     ]
    },
    {
     "name": "stdout",
     "output_type": "stream",
     "text": [
      "60/60 [==============================] - 0s - loss: 8.6514 - dense_1_loss_1: 3.8849 - dense_1_loss_2: 1.7981 - dense_1_loss_3: 0.6867 - dense_1_loss_4: 0.2263 - dense_1_loss_5: 0.1771 - dense_1_loss_6: 0.1312 - dense_1_loss_7: 0.1002 - dense_1_loss_8: 0.0904 - dense_1_loss_9: 0.1012 - dense_1_loss_10: 0.0715 - dense_1_loss_11: 0.0778 - dense_1_loss_12: 0.0721 - dense_1_loss_13: 0.0593 - dense_1_loss_14: 0.0643 - dense_1_loss_15: 0.0669 - dense_1_loss_16: 0.0720 - dense_1_loss_17: 0.0668 - dense_1_loss_18: 0.0647 - dense_1_loss_19: 0.0736 - dense_1_loss_20: 0.0787 - dense_1_loss_21: 0.0801 - dense_1_loss_22: 0.0772 - dense_1_loss_23: 0.0724 - dense_1_loss_24: 0.0688 - dense_1_loss_25: 0.0789 - dense_1_loss_26: 0.0730 - dense_1_loss_27: 0.0707 - dense_1_loss_28: 0.0731 - dense_1_loss_29: 0.0935 - dense_1_loss_30: 0.0000e+00 - dense_1_acc_1: 0.1000 - dense_1_acc_2: 0.5000 - dense_1_acc_3: 0.8500 - dense_1_acc_4: 0.9833 - dense_1_acc_5: 0.9833 - dense_1_acc_6: 0.9833 - dense_1_acc_7: 1.0000 - dense_1_acc_8: 1.0000 - dense_1_acc_9: 1.0000 - dense_1_acc_10: 1.0000 - dense_1_acc_11: 1.0000 - dense_1_acc_12: 1.0000 - dense_1_acc_13: 1.0000 - dense_1_acc_14: 1.0000 - dense_1_acc_15: 1.0000 - dense_1_acc_16: 1.0000 - dense_1_acc_17: 1.0000 - dense_1_acc_18: 1.0000 - dense_1_acc_19: 1.0000 - dense_1_acc_20: 1.0000 - dense_1_acc_21: 1.0000 - dense_1_acc_22: 1.0000 - dense_1_acc_23: 1.0000 - dense_1_acc_24: 1.0000 - dense_1_acc_25: 1.0000 - dense_1_acc_26: 1.0000 - dense_1_acc_27: 1.0000 - dense_1_acc_28: 1.0000 - dense_1_acc_29: 1.0000 - dense_1_acc_30: 0.0000e+00     \n",
      "Epoch 62/100\n",
      "60/60 [==============================] - 0s - loss: 8.4968 - dense_1_loss_1: 3.8809 - dense_1_loss_2: 1.7718 - dense_1_loss_3: 0.6677 - dense_1_loss_4: 0.2168 - dense_1_loss_5: 0.1690 - dense_1_loss_6: 0.1253 - dense_1_loss_7: 0.0958 - dense_1_loss_8: 0.0864 - dense_1_loss_9: 0.0959 - dense_1_loss_10: 0.0680 - dense_1_loss_11: 0.0743 - dense_1_loss_12: 0.0687 - dense_1_loss_13: 0.0566 - dense_1_loss_14: 0.0616 - dense_1_loss_15: 0.0640 - dense_1_loss_16: 0.0686 - dense_1_loss_17: 0.0637 - dense_1_loss_18: 0.0617 - dense_1_loss_19: 0.0698 - dense_1_loss_20: 0.0760 - dense_1_loss_21: 0.0757 - dense_1_loss_22: 0.0734 - dense_1_loss_23: 0.0687 - dense_1_loss_24: 0.0653 - dense_1_loss_25: 0.0756 - dense_1_loss_26: 0.0695 - dense_1_loss_27: 0.0670 - dense_1_loss_28: 0.0696 - dense_1_loss_29: 0.0894 - dense_1_loss_30: 0.0000e+00 - dense_1_acc_1: 0.1000 - dense_1_acc_2: 0.5500 - dense_1_acc_3: 0.8500 - dense_1_acc_4: 0.9833 - dense_1_acc_5: 0.9833 - dense_1_acc_6: 0.9833 - dense_1_acc_7: 1.0000 - dense_1_acc_8: 1.0000 - dense_1_acc_9: 1.0000 - dense_1_acc_10: 1.0000 - dense_1_acc_11: 1.0000 - dense_1_acc_12: 1.0000 - dense_1_acc_13: 1.0000 - dense_1_acc_14: 1.0000 - dense_1_acc_15: 1.0000 - dense_1_acc_16: 1.0000 - dense_1_acc_17: 1.0000 - dense_1_acc_18: 1.0000 - dense_1_acc_19: 1.0000 - dense_1_acc_20: 1.0000 - dense_1_acc_21: 1.0000 - dense_1_acc_22: 1.0000 - dense_1_acc_23: 1.0000 - dense_1_acc_24: 1.0000 - dense_1_acc_25: 1.0000 - dense_1_acc_26: 1.0000 - dense_1_acc_27: 1.0000 - dense_1_acc_28: 1.0000 - dense_1_acc_29: 1.0000 - dense_1_acc_30: 0.0000e+00     \n",
      "Epoch 63/100\n",
      "60/60 [==============================] - 0s - loss: 8.3490 - dense_1_loss_1: 3.8772 - dense_1_loss_2: 1.7473 - dense_1_loss_3: 0.6495 - dense_1_loss_4: 0.2070 - dense_1_loss_5: 0.1620 - dense_1_loss_6: 0.1200 - dense_1_loss_7: 0.0917 - dense_1_loss_8: 0.0824 - dense_1_loss_9: 0.0910 - dense_1_loss_10: 0.0648 - dense_1_loss_11: 0.0707 - dense_1_loss_12: 0.0657 - dense_1_loss_13: 0.0539 - dense_1_loss_14: 0.0588 - dense_1_loss_15: 0.0612 - dense_1_loss_16: 0.0654 - dense_1_loss_17: 0.0606 - dense_1_loss_18: 0.0589 - dense_1_loss_19: 0.0664 - dense_1_loss_20: 0.0726 - dense_1_loss_21: 0.0719 - dense_1_loss_22: 0.0694 - dense_1_loss_23: 0.0655 - dense_1_loss_24: 0.0618 - dense_1_loss_25: 0.0725 - dense_1_loss_26: 0.0662 - dense_1_loss_27: 0.0638 - dense_1_loss_28: 0.0664 - dense_1_loss_29: 0.0844 - dense_1_loss_30: 0.0000e+00 - dense_1_acc_1: 0.1000 - dense_1_acc_2: 0.5667 - dense_1_acc_3: 0.8667 - dense_1_acc_4: 0.9833 - dense_1_acc_5: 0.9833 - dense_1_acc_6: 1.0000 - dense_1_acc_7: 1.0000 - dense_1_acc_8: 1.0000 - dense_1_acc_9: 1.0000 - dense_1_acc_10: 1.0000 - dense_1_acc_11: 1.0000 - dense_1_acc_12: 1.0000 - dense_1_acc_13: 1.0000 - dense_1_acc_14: 1.0000 - dense_1_acc_15: 1.0000 - dense_1_acc_16: 1.0000 - dense_1_acc_17: 1.0000 - dense_1_acc_18: 1.0000 - dense_1_acc_19: 1.0000 - dense_1_acc_20: 1.0000 - dense_1_acc_21: 1.0000 - dense_1_acc_22: 1.0000 - dense_1_acc_23: 1.0000 - dense_1_acc_24: 1.0000 - dense_1_acc_25: 1.0000 - dense_1_acc_26: 1.0000 - dense_1_acc_27: 1.0000 - dense_1_acc_28: 1.0000 - dense_1_acc_29: 1.0000 - dense_1_acc_30: 0.0000e+00     \n",
      "Epoch 64/100\n",
      "60/60 [==============================] - 0s - loss: 8.2093 - dense_1_loss_1: 3.8731 - dense_1_loss_2: 1.7236 - dense_1_loss_3: 0.6310 - dense_1_loss_4: 0.1987 - dense_1_loss_5: 0.1545 - dense_1_loss_6: 0.1149 - dense_1_loss_7: 0.0875 - dense_1_loss_8: 0.0786 - dense_1_loss_9: 0.0863 - dense_1_loss_10: 0.0620 - dense_1_loss_11: 0.0672 - dense_1_loss_12: 0.0628 - dense_1_loss_13: 0.0515 - dense_1_loss_14: 0.0563 - dense_1_loss_15: 0.0584 - dense_1_loss_16: 0.0622 - dense_1_loss_17: 0.0580 - dense_1_loss_18: 0.0563 - dense_1_loss_19: 0.0636 - dense_1_loss_20: 0.0691 - dense_1_loss_21: 0.0688 - dense_1_loss_22: 0.0662 - dense_1_loss_23: 0.0625 - dense_1_loss_24: 0.0590 - dense_1_loss_25: 0.0691 - dense_1_loss_26: 0.0630 - dense_1_loss_27: 0.0611 - dense_1_loss_28: 0.0638 - dense_1_loss_29: 0.0801 - dense_1_loss_30: 0.0000e+00 - dense_1_acc_1: 0.1000 - dense_1_acc_2: 0.5833 - dense_1_acc_3: 0.8667 - dense_1_acc_4: 0.9833 - dense_1_acc_5: 1.0000 - dense_1_acc_6: 1.0000 - dense_1_acc_7: 1.0000 - dense_1_acc_8: 1.0000 - dense_1_acc_9: 1.0000 - dense_1_acc_10: 1.0000 - dense_1_acc_11: 1.0000 - dense_1_acc_12: 1.0000 - dense_1_acc_13: 1.0000 - dense_1_acc_14: 1.0000 - dense_1_acc_15: 1.0000 - dense_1_acc_16: 1.0000 - dense_1_acc_17: 1.0000 - dense_1_acc_18: 1.0000 - dense_1_acc_19: 1.0000 - dense_1_acc_20: 1.0000 - dense_1_acc_21: 1.0000 - dense_1_acc_22: 1.0000 - dense_1_acc_23: 1.0000 - dense_1_acc_24: 1.0000 - dense_1_acc_25: 1.0000 - dense_1_acc_26: 1.0000 - dense_1_acc_27: 1.0000 - dense_1_acc_28: 1.0000 - dense_1_acc_29: 1.0000 - dense_1_acc_30: 0.0000e+00     \n",
      "Epoch 65/100\n",
      "60/60 [==============================] - 0s - loss: 8.0824 - dense_1_loss_1: 3.8696 - dense_1_loss_2: 1.6997 - dense_1_loss_3: 0.6157 - dense_1_loss_4: 0.1911 - dense_1_loss_5: 0.1481 - dense_1_loss_6: 0.1101 - dense_1_loss_7: 0.0841 - dense_1_loss_8: 0.0752 - dense_1_loss_9: 0.0824 - dense_1_loss_10: 0.0597 - dense_1_loss_11: 0.0643 - dense_1_loss_12: 0.0603 - dense_1_loss_13: 0.0494 - dense_1_loss_14: 0.0538 - dense_1_loss_15: 0.0556 - dense_1_loss_16: 0.0596 - dense_1_loss_17: 0.0557 - dense_1_loss_18: 0.0541 - dense_1_loss_19: 0.0612 - dense_1_loss_20: 0.0656 - dense_1_loss_21: 0.0660 - dense_1_loss_22: 0.0636 - dense_1_loss_23: 0.0597 - dense_1_loss_24: 0.0566 - dense_1_loss_25: 0.0658 - dense_1_loss_26: 0.0600 - dense_1_loss_27: 0.0588 - dense_1_loss_28: 0.0609 - dense_1_loss_29: 0.0758 - dense_1_loss_30: 0.0000e+00 - dense_1_acc_1: 0.1000 - dense_1_acc_2: 0.5833 - dense_1_acc_3: 0.8667 - dense_1_acc_4: 1.0000 - dense_1_acc_5: 1.0000 - dense_1_acc_6: 1.0000 - dense_1_acc_7: 1.0000 - dense_1_acc_8: 1.0000 - dense_1_acc_9: 1.0000 - dense_1_acc_10: 1.0000 - dense_1_acc_11: 1.0000 - dense_1_acc_12: 1.0000 - dense_1_acc_13: 1.0000 - dense_1_acc_14: 1.0000 - dense_1_acc_15: 1.0000 - dense_1_acc_16: 1.0000 - dense_1_acc_17: 1.0000 - dense_1_acc_18: 1.0000 - dense_1_acc_19: 1.0000 - dense_1_acc_20: 1.0000 - dense_1_acc_21: 1.0000 - dense_1_acc_22: 1.0000 - dense_1_acc_23: 1.0000 - dense_1_acc_24: 1.0000 - dense_1_acc_25: 1.0000 - dense_1_acc_26: 1.0000 - dense_1_acc_27: 1.0000 - dense_1_acc_28: 1.0000 - dense_1_acc_29: 1.0000 - dense_1_acc_30: 0.0000e+00     \n",
      "Epoch 66/100\n",
      "60/60 [==============================] - 0s - loss: 7.9600 - dense_1_loss_1: 3.8658 - dense_1_loss_2: 1.6769 - dense_1_loss_3: 0.6001 - dense_1_loss_4: 0.1835 - dense_1_loss_5: 0.1418 - dense_1_loss_6: 0.1058 - dense_1_loss_7: 0.0808 - dense_1_loss_8: 0.0722 - dense_1_loss_9: 0.0786 - dense_1_loss_10: 0.0572 - dense_1_loss_11: 0.0613 - dense_1_loss_12: 0.0577 - dense_1_loss_13: 0.0474 - dense_1_loss_14: 0.0514 - dense_1_loss_15: 0.0532 - dense_1_loss_16: 0.0571 - dense_1_loss_17: 0.0533 - dense_1_loss_18: 0.0519 - dense_1_loss_19: 0.0586 - dense_1_loss_20: 0.0627 - dense_1_loss_21: 0.0631 - dense_1_loss_22: 0.0608 - dense_1_loss_23: 0.0572 - dense_1_loss_24: 0.0543 - dense_1_loss_25: 0.0629 - dense_1_loss_26: 0.0575 - dense_1_loss_27: 0.0566 - dense_1_loss_28: 0.0584 - dense_1_loss_29: 0.0717 - dense_1_loss_30: 0.0000e+00 - dense_1_acc_1: 0.1000 - dense_1_acc_2: 0.5833 - dense_1_acc_3: 0.8667 - dense_1_acc_4: 1.0000 - dense_1_acc_5: 1.0000 - dense_1_acc_6: 1.0000 - dense_1_acc_7: 1.0000 - dense_1_acc_8: 1.0000 - dense_1_acc_9: 1.0000 - dense_1_acc_10: 1.0000 - dense_1_acc_11: 1.0000 - dense_1_acc_12: 1.0000 - dense_1_acc_13: 1.0000 - dense_1_acc_14: 1.0000 - dense_1_acc_15: 1.0000 - dense_1_acc_16: 1.0000 - dense_1_acc_17: 1.0000 - dense_1_acc_18: 1.0000 - dense_1_acc_19: 1.0000 - dense_1_acc_20: 1.0000 - dense_1_acc_21: 1.0000 - dense_1_acc_22: 1.0000 - dense_1_acc_23: 1.0000 - dense_1_acc_24: 1.0000 - dense_1_acc_25: 1.0000 - dense_1_acc_26: 1.0000 - dense_1_acc_27: 1.0000 - dense_1_acc_28: 1.0000 - dense_1_acc_29: 1.0000 - dense_1_acc_30: 0.0000e+00     \n",
      "Epoch 67/100\n",
      "60/60 [==============================] - 0s - loss: 7.8475 - dense_1_loss_1: 3.8620 - dense_1_loss_2: 1.6543 - dense_1_loss_3: 0.5858 - dense_1_loss_4: 0.1764 - dense_1_loss_5: 0.1371 - dense_1_loss_6: 0.1019 - dense_1_loss_7: 0.0780 - dense_1_loss_8: 0.0698 - dense_1_loss_9: 0.0756 - dense_1_loss_10: 0.0550 - dense_1_loss_11: 0.0589 - dense_1_loss_12: 0.0554 - dense_1_loss_13: 0.0455 - dense_1_loss_14: 0.0492 - dense_1_loss_15: 0.0511 - dense_1_loss_16: 0.0547 - dense_1_loss_17: 0.0513 - dense_1_loss_18: 0.0498 - dense_1_loss_19: 0.0558 - dense_1_loss_20: 0.0605 - dense_1_loss_21: 0.0603 - dense_1_loss_22: 0.0582 - dense_1_loss_23: 0.0546 - dense_1_loss_24: 0.0519 - dense_1_loss_25: 0.0606 - dense_1_loss_26: 0.0554 - dense_1_loss_27: 0.0544 - dense_1_loss_28: 0.0560 - dense_1_loss_29: 0.0682 - dense_1_loss_30: 0.0000e+00 - dense_1_acc_1: 0.1000 - dense_1_acc_2: 0.5833 - dense_1_acc_3: 0.8833 - dense_1_acc_4: 1.0000 - dense_1_acc_5: 1.0000 - dense_1_acc_6: 1.0000 - dense_1_acc_7: 1.0000 - dense_1_acc_8: 1.0000 - dense_1_acc_9: 1.0000 - dense_1_acc_10: 1.0000 - dense_1_acc_11: 1.0000 - dense_1_acc_12: 1.0000 - dense_1_acc_13: 1.0000 - dense_1_acc_14: 1.0000 - dense_1_acc_15: 1.0000 - dense_1_acc_16: 1.0000 - dense_1_acc_17: 1.0000 - dense_1_acc_18: 1.0000 - dense_1_acc_19: 1.0000 - dense_1_acc_20: 1.0000 - dense_1_acc_21: 1.0000 - dense_1_acc_22: 1.0000 - dense_1_acc_23: 1.0000 - dense_1_acc_24: 1.0000 - dense_1_acc_25: 1.0000 - dense_1_acc_26: 1.0000 - dense_1_acc_27: 1.0000 - dense_1_acc_28: 1.0000 - dense_1_acc_29: 1.0000 - dense_1_acc_30: 0.0000e+00     \n",
      "Epoch 68/100\n",
      "60/60 [==============================] - 0s - loss: 7.7405 - dense_1_loss_1: 3.8584 - dense_1_loss_2: 1.6328 - dense_1_loss_3: 0.5713 - dense_1_loss_4: 0.1698 - dense_1_loss_5: 0.1319 - dense_1_loss_6: 0.0982 - dense_1_loss_7: 0.0751 - dense_1_loss_8: 0.0673 - dense_1_loss_9: 0.0720 - dense_1_loss_10: 0.0529 - dense_1_loss_11: 0.0567 - dense_1_loss_12: 0.0534 - dense_1_loss_13: 0.0437 - dense_1_loss_14: 0.0473 - dense_1_loss_15: 0.0492 - dense_1_loss_16: 0.0525 - dense_1_loss_17: 0.0494 - dense_1_loss_18: 0.0477 - dense_1_loss_19: 0.0535 - dense_1_loss_20: 0.0587 - dense_1_loss_21: 0.0577 - dense_1_loss_22: 0.0557 - dense_1_loss_23: 0.0523 - dense_1_loss_24: 0.0500 - dense_1_loss_25: 0.0582 - dense_1_loss_26: 0.0534 - dense_1_loss_27: 0.0521 - dense_1_loss_28: 0.0540 - dense_1_loss_29: 0.0655 - dense_1_loss_30: 0.0000e+00 - dense_1_acc_1: 0.1000 - dense_1_acc_2: 0.5833 - dense_1_acc_3: 0.8833 - dense_1_acc_4: 1.0000 - dense_1_acc_5: 1.0000 - dense_1_acc_6: 1.0000 - dense_1_acc_7: 1.0000 - dense_1_acc_8: 1.0000 - dense_1_acc_9: 1.0000 - dense_1_acc_10: 1.0000 - dense_1_acc_11: 1.0000 - dense_1_acc_12: 1.0000 - dense_1_acc_13: 1.0000 - dense_1_acc_14: 1.0000 - dense_1_acc_15: 1.0000 - dense_1_acc_16: 1.0000 - dense_1_acc_17: 1.0000 - dense_1_acc_18: 1.0000 - dense_1_acc_19: 1.0000 - dense_1_acc_20: 1.0000 - dense_1_acc_21: 1.0000 - dense_1_acc_22: 1.0000 - dense_1_acc_23: 1.0000 - dense_1_acc_24: 1.0000 - dense_1_acc_25: 1.0000 - dense_1_acc_26: 1.0000 - dense_1_acc_27: 1.0000 - dense_1_acc_28: 1.0000 - dense_1_acc_29: 1.0000 - dense_1_acc_30: 0.0000e+00     \n",
      "Epoch 69/100\n",
      "60/60 [==============================] - 0s - loss: 7.6376 - dense_1_loss_1: 3.8547 - dense_1_loss_2: 1.6122 - dense_1_loss_3: 0.5577 - dense_1_loss_4: 0.1633 - dense_1_loss_5: 0.1270 - dense_1_loss_6: 0.0943 - dense_1_loss_7: 0.0723 - dense_1_loss_8: 0.0648 - dense_1_loss_9: 0.0681 - dense_1_loss_10: 0.0509 - dense_1_loss_11: 0.0543 - dense_1_loss_12: 0.0513 - dense_1_loss_13: 0.0421 - dense_1_loss_14: 0.0456 - dense_1_loss_15: 0.0475 - dense_1_loss_16: 0.0504 - dense_1_loss_17: 0.0477 - dense_1_loss_18: 0.0457 - dense_1_loss_19: 0.0514 - dense_1_loss_20: 0.0565 - dense_1_loss_21: 0.0556 - dense_1_loss_22: 0.0534 - dense_1_loss_23: 0.0500 - dense_1_loss_24: 0.0482 - dense_1_loss_25: 0.0560 - dense_1_loss_26: 0.0513 - dense_1_loss_27: 0.0500 - dense_1_loss_28: 0.0522 - dense_1_loss_29: 0.0630 - dense_1_loss_30: 0.0000e+00 - dense_1_acc_1: 0.1000 - dense_1_acc_2: 0.5833 - dense_1_acc_3: 0.8833 - dense_1_acc_4: 1.0000 - dense_1_acc_5: 1.0000 - dense_1_acc_6: 1.0000 - dense_1_acc_7: 1.0000 - dense_1_acc_8: 1.0000 - dense_1_acc_9: 1.0000 - dense_1_acc_10: 1.0000 - dense_1_acc_11: 1.0000 - dense_1_acc_12: 1.0000 - dense_1_acc_13: 1.0000 - dense_1_acc_14: 1.0000 - dense_1_acc_15: 1.0000 - dense_1_acc_16: 1.0000 - dense_1_acc_17: 1.0000 - dense_1_acc_18: 1.0000 - dense_1_acc_19: 1.0000 - dense_1_acc_20: 1.0000 - dense_1_acc_21: 1.0000 - dense_1_acc_22: 1.0000 - dense_1_acc_23: 1.0000 - dense_1_acc_24: 1.0000 - dense_1_acc_25: 1.0000 - dense_1_acc_26: 1.0000 - dense_1_acc_27: 1.0000 - dense_1_acc_28: 1.0000 - dense_1_acc_29: 1.0000 - dense_1_acc_30: 0.0000e+00     \n",
      "Epoch 70/100\n",
      "60/60 [==============================] - 0s - loss: 7.5403 - dense_1_loss_1: 3.8512 - dense_1_loss_2: 1.5911 - dense_1_loss_3: 0.5440 - dense_1_loss_4: 0.1579 - dense_1_loss_5: 0.1222 - dense_1_loss_6: 0.0909 - dense_1_loss_7: 0.0698 - dense_1_loss_8: 0.0626 - dense_1_loss_9: 0.0649 - dense_1_loss_10: 0.0492 - dense_1_loss_11: 0.0524 - dense_1_loss_12: 0.0495 - dense_1_loss_13: 0.0406 - dense_1_loss_14: 0.0440 - dense_1_loss_15: 0.0456 - dense_1_loss_16: 0.0486 - dense_1_loss_17: 0.0459 - dense_1_loss_18: 0.0440 - dense_1_loss_19: 0.0497 - dense_1_loss_20: 0.0542 - dense_1_loss_21: 0.0537 - dense_1_loss_22: 0.0514 - dense_1_loss_23: 0.0481 - dense_1_loss_24: 0.0465 - dense_1_loss_25: 0.0539 - dense_1_loss_26: 0.0494 - dense_1_loss_27: 0.0482 - dense_1_loss_28: 0.0503 - dense_1_loss_29: 0.0606 - dense_1_loss_30: 0.0000e+00 - dense_1_acc_1: 0.1000 - dense_1_acc_2: 0.5833 - dense_1_acc_3: 0.8833 - dense_1_acc_4: 1.0000 - dense_1_acc_5: 1.0000 - dense_1_acc_6: 1.0000 - dense_1_acc_7: 1.0000 - dense_1_acc_8: 1.0000 - dense_1_acc_9: 1.0000 - dense_1_acc_10: 1.0000 - dense_1_acc_11: 1.0000 - dense_1_acc_12: 1.0000 - dense_1_acc_13: 1.0000 - dense_1_acc_14: 1.0000 - dense_1_acc_15: 1.0000 - dense_1_acc_16: 1.0000 - dense_1_acc_17: 1.0000 - dense_1_acc_18: 1.0000 - dense_1_acc_19: 1.0000 - dense_1_acc_20: 1.0000 - dense_1_acc_21: 1.0000 - dense_1_acc_22: 1.0000 - dense_1_acc_23: 1.0000 - dense_1_acc_24: 1.0000 - dense_1_acc_25: 1.0000 - dense_1_acc_26: 1.0000 - dense_1_acc_27: 1.0000 - dense_1_acc_28: 1.0000 - dense_1_acc_29: 1.0000 - dense_1_acc_30: 0.0000e+00     \n",
      "Epoch 71/100\n"
     ]
    },
    {
     "name": "stdout",
     "output_type": "stream",
     "text": [
      "60/60 [==============================] - 0s - loss: 7.4485 - dense_1_loss_1: 3.8475 - dense_1_loss_2: 1.5717 - dense_1_loss_3: 0.5314 - dense_1_loss_4: 0.1525 - dense_1_loss_5: 0.1177 - dense_1_loss_6: 0.0878 - dense_1_loss_7: 0.0676 - dense_1_loss_8: 0.0606 - dense_1_loss_9: 0.0620 - dense_1_loss_10: 0.0476 - dense_1_loss_11: 0.0506 - dense_1_loss_12: 0.0478 - dense_1_loss_13: 0.0391 - dense_1_loss_14: 0.0425 - dense_1_loss_15: 0.0438 - dense_1_loss_16: 0.0470 - dense_1_loss_17: 0.0442 - dense_1_loss_18: 0.0424 - dense_1_loss_19: 0.0480 - dense_1_loss_20: 0.0522 - dense_1_loss_21: 0.0517 - dense_1_loss_22: 0.0495 - dense_1_loss_23: 0.0463 - dense_1_loss_24: 0.0448 - dense_1_loss_25: 0.0518 - dense_1_loss_26: 0.0476 - dense_1_loss_27: 0.0465 - dense_1_loss_28: 0.0483 - dense_1_loss_29: 0.0579 - dense_1_loss_30: 0.0000e+00 - dense_1_acc_1: 0.1000 - dense_1_acc_2: 0.6000 - dense_1_acc_3: 0.8833 - dense_1_acc_4: 1.0000 - dense_1_acc_5: 1.0000 - dense_1_acc_6: 1.0000 - dense_1_acc_7: 1.0000 - dense_1_acc_8: 1.0000 - dense_1_acc_9: 1.0000 - dense_1_acc_10: 1.0000 - dense_1_acc_11: 1.0000 - dense_1_acc_12: 1.0000 - dense_1_acc_13: 1.0000 - dense_1_acc_14: 1.0000 - dense_1_acc_15: 1.0000 - dense_1_acc_16: 1.0000 - dense_1_acc_17: 1.0000 - dense_1_acc_18: 1.0000 - dense_1_acc_19: 1.0000 - dense_1_acc_20: 1.0000 - dense_1_acc_21: 1.0000 - dense_1_acc_22: 1.0000 - dense_1_acc_23: 1.0000 - dense_1_acc_24: 1.0000 - dense_1_acc_25: 1.0000 - dense_1_acc_26: 1.0000 - dense_1_acc_27: 1.0000 - dense_1_acc_28: 1.0000 - dense_1_acc_29: 1.0000 - dense_1_acc_30: 0.0000e+00     \n",
      "Epoch 72/100\n",
      "60/60 [==============================] - 0s - loss: 7.3616 - dense_1_loss_1: 3.8442 - dense_1_loss_2: 1.5520 - dense_1_loss_3: 0.5192 - dense_1_loss_4: 0.1481 - dense_1_loss_5: 0.1136 - dense_1_loss_6: 0.0850 - dense_1_loss_7: 0.0655 - dense_1_loss_8: 0.0586 - dense_1_loss_9: 0.0595 - dense_1_loss_10: 0.0460 - dense_1_loss_11: 0.0488 - dense_1_loss_12: 0.0461 - dense_1_loss_13: 0.0379 - dense_1_loss_14: 0.0409 - dense_1_loss_15: 0.0422 - dense_1_loss_16: 0.0454 - dense_1_loss_17: 0.0425 - dense_1_loss_18: 0.0409 - dense_1_loss_19: 0.0464 - dense_1_loss_20: 0.0504 - dense_1_loss_21: 0.0498 - dense_1_loss_22: 0.0477 - dense_1_loss_23: 0.0448 - dense_1_loss_24: 0.0433 - dense_1_loss_25: 0.0500 - dense_1_loss_26: 0.0459 - dense_1_loss_27: 0.0450 - dense_1_loss_28: 0.0465 - dense_1_loss_29: 0.0554 - dense_1_loss_30: 0.0000e+00 - dense_1_acc_1: 0.1000 - dense_1_acc_2: 0.6000 - dense_1_acc_3: 0.8833 - dense_1_acc_4: 1.0000 - dense_1_acc_5: 1.0000 - dense_1_acc_6: 1.0000 - dense_1_acc_7: 1.0000 - dense_1_acc_8: 1.0000 - dense_1_acc_9: 1.0000 - dense_1_acc_10: 1.0000 - dense_1_acc_11: 1.0000 - dense_1_acc_12: 1.0000 - dense_1_acc_13: 1.0000 - dense_1_acc_14: 1.0000 - dense_1_acc_15: 1.0000 - dense_1_acc_16: 1.0000 - dense_1_acc_17: 1.0000 - dense_1_acc_18: 1.0000 - dense_1_acc_19: 1.0000 - dense_1_acc_20: 1.0000 - dense_1_acc_21: 1.0000 - dense_1_acc_22: 1.0000 - dense_1_acc_23: 1.0000 - dense_1_acc_24: 1.0000 - dense_1_acc_25: 1.0000 - dense_1_acc_26: 1.0000 - dense_1_acc_27: 1.0000 - dense_1_acc_28: 1.0000 - dense_1_acc_29: 1.0000 - dense_1_acc_30: 0.0000e+00     \n",
      "Epoch 73/100\n",
      "60/60 [==============================] - 0s - loss: 7.2810 - dense_1_loss_1: 3.8404 - dense_1_loss_2: 1.5338 - dense_1_loss_3: 0.5081 - dense_1_loss_4: 0.1433 - dense_1_loss_5: 0.1100 - dense_1_loss_6: 0.0825 - dense_1_loss_7: 0.0636 - dense_1_loss_8: 0.0569 - dense_1_loss_9: 0.0575 - dense_1_loss_10: 0.0446 - dense_1_loss_11: 0.0471 - dense_1_loss_12: 0.0447 - dense_1_loss_13: 0.0367 - dense_1_loss_14: 0.0395 - dense_1_loss_15: 0.0407 - dense_1_loss_16: 0.0438 - dense_1_loss_17: 0.0411 - dense_1_loss_18: 0.0395 - dense_1_loss_19: 0.0448 - dense_1_loss_20: 0.0487 - dense_1_loss_21: 0.0479 - dense_1_loss_22: 0.0460 - dense_1_loss_23: 0.0432 - dense_1_loss_24: 0.0418 - dense_1_loss_25: 0.0483 - dense_1_loss_26: 0.0443 - dense_1_loss_27: 0.0437 - dense_1_loss_28: 0.0450 - dense_1_loss_29: 0.0534 - dense_1_loss_30: 0.0000e+00 - dense_1_acc_1: 0.1000 - dense_1_acc_2: 0.6000 - dense_1_acc_3: 0.8833 - dense_1_acc_4: 1.0000 - dense_1_acc_5: 1.0000 - dense_1_acc_6: 1.0000 - dense_1_acc_7: 1.0000 - dense_1_acc_8: 1.0000 - dense_1_acc_9: 1.0000 - dense_1_acc_10: 1.0000 - dense_1_acc_11: 1.0000 - dense_1_acc_12: 1.0000 - dense_1_acc_13: 1.0000 - dense_1_acc_14: 1.0000 - dense_1_acc_15: 1.0000 - dense_1_acc_16: 1.0000 - dense_1_acc_17: 1.0000 - dense_1_acc_18: 1.0000 - dense_1_acc_19: 1.0000 - dense_1_acc_20: 1.0000 - dense_1_acc_21: 1.0000 - dense_1_acc_22: 1.0000 - dense_1_acc_23: 1.0000 - dense_1_acc_24: 1.0000 - dense_1_acc_25: 1.0000 - dense_1_acc_26: 1.0000 - dense_1_acc_27: 1.0000 - dense_1_acc_28: 1.0000 - dense_1_acc_29: 1.0000 - dense_1_acc_30: 0.0000e+00     \n",
      "Epoch 74/100\n",
      "60/60 [==============================] - 0s - loss: 7.1998 - dense_1_loss_1: 3.8368 - dense_1_loss_2: 1.5161 - dense_1_loss_3: 0.4958 - dense_1_loss_4: 0.1386 - dense_1_loss_5: 0.1061 - dense_1_loss_6: 0.0796 - dense_1_loss_7: 0.0614 - dense_1_loss_8: 0.0551 - dense_1_loss_9: 0.0548 - dense_1_loss_10: 0.0432 - dense_1_loss_11: 0.0455 - dense_1_loss_12: 0.0432 - dense_1_loss_13: 0.0355 - dense_1_loss_14: 0.0382 - dense_1_loss_15: 0.0395 - dense_1_loss_16: 0.0422 - dense_1_loss_17: 0.0398 - dense_1_loss_18: 0.0382 - dense_1_loss_19: 0.0432 - dense_1_loss_20: 0.0471 - dense_1_loss_21: 0.0463 - dense_1_loss_22: 0.0445 - dense_1_loss_23: 0.0418 - dense_1_loss_24: 0.0403 - dense_1_loss_25: 0.0466 - dense_1_loss_26: 0.0429 - dense_1_loss_27: 0.0424 - dense_1_loss_28: 0.0437 - dense_1_loss_29: 0.0515 - dense_1_loss_30: 0.0000e+00 - dense_1_acc_1: 0.1000 - dense_1_acc_2: 0.6000 - dense_1_acc_3: 0.8833 - dense_1_acc_4: 1.0000 - dense_1_acc_5: 1.0000 - dense_1_acc_6: 1.0000 - dense_1_acc_7: 1.0000 - dense_1_acc_8: 1.0000 - dense_1_acc_9: 1.0000 - dense_1_acc_10: 1.0000 - dense_1_acc_11: 1.0000 - dense_1_acc_12: 1.0000 - dense_1_acc_13: 1.0000 - dense_1_acc_14: 1.0000 - dense_1_acc_15: 1.0000 - dense_1_acc_16: 1.0000 - dense_1_acc_17: 1.0000 - dense_1_acc_18: 1.0000 - dense_1_acc_19: 1.0000 - dense_1_acc_20: 1.0000 - dense_1_acc_21: 1.0000 - dense_1_acc_22: 1.0000 - dense_1_acc_23: 1.0000 - dense_1_acc_24: 1.0000 - dense_1_acc_25: 1.0000 - dense_1_acc_26: 1.0000 - dense_1_acc_27: 1.0000 - dense_1_acc_28: 1.0000 - dense_1_acc_29: 1.0000 - dense_1_acc_30: 0.0000e+00     \n",
      "Epoch 75/100\n",
      "60/60 [==============================] - 0s - loss: 7.1268 - dense_1_loss_1: 3.8337 - dense_1_loss_2: 1.4982 - dense_1_loss_3: 0.4851 - dense_1_loss_4: 0.1347 - dense_1_loss_5: 0.1027 - dense_1_loss_6: 0.0772 - dense_1_loss_7: 0.0597 - dense_1_loss_8: 0.0535 - dense_1_loss_9: 0.0526 - dense_1_loss_10: 0.0418 - dense_1_loss_11: 0.0442 - dense_1_loss_12: 0.0419 - dense_1_loss_13: 0.0343 - dense_1_loss_14: 0.0370 - dense_1_loss_15: 0.0382 - dense_1_loss_16: 0.0408 - dense_1_loss_17: 0.0386 - dense_1_loss_18: 0.0370 - dense_1_loss_19: 0.0418 - dense_1_loss_20: 0.0457 - dense_1_loss_21: 0.0449 - dense_1_loss_22: 0.0432 - dense_1_loss_23: 0.0404 - dense_1_loss_24: 0.0391 - dense_1_loss_25: 0.0452 - dense_1_loss_26: 0.0416 - dense_1_loss_27: 0.0411 - dense_1_loss_28: 0.0425 - dense_1_loss_29: 0.0499 - dense_1_loss_30: 0.0000e+00 - dense_1_acc_1: 0.1000 - dense_1_acc_2: 0.6167 - dense_1_acc_3: 0.8833 - dense_1_acc_4: 1.0000 - dense_1_acc_5: 1.0000 - dense_1_acc_6: 1.0000 - dense_1_acc_7: 1.0000 - dense_1_acc_8: 1.0000 - dense_1_acc_9: 1.0000 - dense_1_acc_10: 1.0000 - dense_1_acc_11: 1.0000 - dense_1_acc_12: 1.0000 - dense_1_acc_13: 1.0000 - dense_1_acc_14: 1.0000 - dense_1_acc_15: 1.0000 - dense_1_acc_16: 1.0000 - dense_1_acc_17: 1.0000 - dense_1_acc_18: 1.0000 - dense_1_acc_19: 1.0000 - dense_1_acc_20: 1.0000 - dense_1_acc_21: 1.0000 - dense_1_acc_22: 1.0000 - dense_1_acc_23: 1.0000 - dense_1_acc_24: 1.0000 - dense_1_acc_25: 1.0000 - dense_1_acc_26: 1.0000 - dense_1_acc_27: 1.0000 - dense_1_acc_28: 1.0000 - dense_1_acc_29: 1.0000 - dense_1_acc_30: 0.0000e+00     \n",
      "Epoch 76/100\n",
      "60/60 [==============================] - 0s - loss: 7.0540 - dense_1_loss_1: 3.8301 - dense_1_loss_2: 1.4809 - dense_1_loss_3: 0.4744 - dense_1_loss_4: 0.1307 - dense_1_loss_5: 0.0995 - dense_1_loss_6: 0.0748 - dense_1_loss_7: 0.0579 - dense_1_loss_8: 0.0521 - dense_1_loss_9: 0.0507 - dense_1_loss_10: 0.0406 - dense_1_loss_11: 0.0429 - dense_1_loss_12: 0.0406 - dense_1_loss_13: 0.0333 - dense_1_loss_14: 0.0359 - dense_1_loss_15: 0.0371 - dense_1_loss_16: 0.0395 - dense_1_loss_17: 0.0373 - dense_1_loss_18: 0.0359 - dense_1_loss_19: 0.0405 - dense_1_loss_20: 0.0443 - dense_1_loss_21: 0.0434 - dense_1_loss_22: 0.0418 - dense_1_loss_23: 0.0391 - dense_1_loss_24: 0.0378 - dense_1_loss_25: 0.0437 - dense_1_loss_26: 0.0403 - dense_1_loss_27: 0.0398 - dense_1_loss_28: 0.0412 - dense_1_loss_29: 0.0479 - dense_1_loss_30: 0.0000e+00 - dense_1_acc_1: 0.1000 - dense_1_acc_2: 0.6167 - dense_1_acc_3: 0.8833 - dense_1_acc_4: 1.0000 - dense_1_acc_5: 1.0000 - dense_1_acc_6: 1.0000 - dense_1_acc_7: 1.0000 - dense_1_acc_8: 1.0000 - dense_1_acc_9: 1.0000 - dense_1_acc_10: 1.0000 - dense_1_acc_11: 1.0000 - dense_1_acc_12: 1.0000 - dense_1_acc_13: 1.0000 - dense_1_acc_14: 1.0000 - dense_1_acc_15: 1.0000 - dense_1_acc_16: 1.0000 - dense_1_acc_17: 1.0000 - dense_1_acc_18: 1.0000 - dense_1_acc_19: 1.0000 - dense_1_acc_20: 1.0000 - dense_1_acc_21: 1.0000 - dense_1_acc_22: 1.0000 - dense_1_acc_23: 1.0000 - dense_1_acc_24: 1.0000 - dense_1_acc_25: 1.0000 - dense_1_acc_26: 1.0000 - dense_1_acc_27: 1.0000 - dense_1_acc_28: 1.0000 - dense_1_acc_29: 1.0000 - dense_1_acc_30: 0.0000e+00     \n",
      "Epoch 77/100\n",
      "60/60 [==============================] - 0s - loss: 6.9884 - dense_1_loss_1: 3.8269 - dense_1_loss_2: 1.4646 - dense_1_loss_3: 0.4651 - dense_1_loss_4: 0.1271 - dense_1_loss_5: 0.0968 - dense_1_loss_6: 0.0728 - dense_1_loss_7: 0.0565 - dense_1_loss_8: 0.0507 - dense_1_loss_9: 0.0491 - dense_1_loss_10: 0.0395 - dense_1_loss_11: 0.0417 - dense_1_loss_12: 0.0395 - dense_1_loss_13: 0.0323 - dense_1_loss_14: 0.0348 - dense_1_loss_15: 0.0360 - dense_1_loss_16: 0.0384 - dense_1_loss_17: 0.0362 - dense_1_loss_18: 0.0347 - dense_1_loss_19: 0.0393 - dense_1_loss_20: 0.0429 - dense_1_loss_21: 0.0420 - dense_1_loss_22: 0.0404 - dense_1_loss_23: 0.0379 - dense_1_loss_24: 0.0366 - dense_1_loss_25: 0.0424 - dense_1_loss_26: 0.0392 - dense_1_loss_27: 0.0387 - dense_1_loss_28: 0.0400 - dense_1_loss_29: 0.0463 - dense_1_loss_30: 0.0000e+00 - dense_1_acc_1: 0.1000 - dense_1_acc_2: 0.6333 - dense_1_acc_3: 0.9000 - dense_1_acc_4: 1.0000 - dense_1_acc_5: 1.0000 - dense_1_acc_6: 1.0000 - dense_1_acc_7: 1.0000 - dense_1_acc_8: 1.0000 - dense_1_acc_9: 1.0000 - dense_1_acc_10: 1.0000 - dense_1_acc_11: 1.0000 - dense_1_acc_12: 1.0000 - dense_1_acc_13: 1.0000 - dense_1_acc_14: 1.0000 - dense_1_acc_15: 1.0000 - dense_1_acc_16: 1.0000 - dense_1_acc_17: 1.0000 - dense_1_acc_18: 1.0000 - dense_1_acc_19: 1.0000 - dense_1_acc_20: 1.0000 - dense_1_acc_21: 1.0000 - dense_1_acc_22: 1.0000 - dense_1_acc_23: 1.0000 - dense_1_acc_24: 1.0000 - dense_1_acc_25: 1.0000 - dense_1_acc_26: 1.0000 - dense_1_acc_27: 1.0000 - dense_1_acc_28: 1.0000 - dense_1_acc_29: 1.0000 - dense_1_acc_30: 0.0000e+00     \n",
      "Epoch 78/100\n",
      "60/60 [==============================] - 0s - loss: 6.9220 - dense_1_loss_1: 3.8233 - dense_1_loss_2: 1.4481 - dense_1_loss_3: 0.4554 - dense_1_loss_4: 0.1236 - dense_1_loss_5: 0.0940 - dense_1_loss_6: 0.0705 - dense_1_loss_7: 0.0550 - dense_1_loss_8: 0.0493 - dense_1_loss_9: 0.0473 - dense_1_loss_10: 0.0384 - dense_1_loss_11: 0.0404 - dense_1_loss_12: 0.0383 - dense_1_loss_13: 0.0314 - dense_1_loss_14: 0.0338 - dense_1_loss_15: 0.0348 - dense_1_loss_16: 0.0372 - dense_1_loss_17: 0.0352 - dense_1_loss_18: 0.0337 - dense_1_loss_19: 0.0382 - dense_1_loss_20: 0.0416 - dense_1_loss_21: 0.0408 - dense_1_loss_22: 0.0391 - dense_1_loss_23: 0.0367 - dense_1_loss_24: 0.0356 - dense_1_loss_25: 0.0412 - dense_1_loss_26: 0.0380 - dense_1_loss_27: 0.0375 - dense_1_loss_28: 0.0388 - dense_1_loss_29: 0.0450 - dense_1_loss_30: 0.0000e+00 - dense_1_acc_1: 0.1000 - dense_1_acc_2: 0.6333 - dense_1_acc_3: 0.9000 - dense_1_acc_4: 1.0000 - dense_1_acc_5: 1.0000 - dense_1_acc_6: 1.0000 - dense_1_acc_7: 1.0000 - dense_1_acc_8: 1.0000 - dense_1_acc_9: 1.0000 - dense_1_acc_10: 1.0000 - dense_1_acc_11: 1.0000 - dense_1_acc_12: 1.0000 - dense_1_acc_13: 1.0000 - dense_1_acc_14: 1.0000 - dense_1_acc_15: 1.0000 - dense_1_acc_16: 1.0000 - dense_1_acc_17: 1.0000 - dense_1_acc_18: 1.0000 - dense_1_acc_19: 1.0000 - dense_1_acc_20: 1.0000 - dense_1_acc_21: 1.0000 - dense_1_acc_22: 1.0000 - dense_1_acc_23: 1.0000 - dense_1_acc_24: 1.0000 - dense_1_acc_25: 1.0000 - dense_1_acc_26: 1.0000 - dense_1_acc_27: 1.0000 - dense_1_acc_28: 1.0000 - dense_1_acc_29: 1.0000 - dense_1_acc_30: 0.0000e+00     \n",
      "Epoch 79/100\n",
      "60/60 [==============================] - 0s - loss: 6.8576 - dense_1_loss_1: 3.8203 - dense_1_loss_2: 1.4323 - dense_1_loss_3: 0.4450 - dense_1_loss_4: 0.1202 - dense_1_loss_5: 0.0911 - dense_1_loss_6: 0.0682 - dense_1_loss_7: 0.0534 - dense_1_loss_8: 0.0479 - dense_1_loss_9: 0.0454 - dense_1_loss_10: 0.0374 - dense_1_loss_11: 0.0392 - dense_1_loss_12: 0.0372 - dense_1_loss_13: 0.0305 - dense_1_loss_14: 0.0328 - dense_1_loss_15: 0.0338 - dense_1_loss_16: 0.0362 - dense_1_loss_17: 0.0342 - dense_1_loss_18: 0.0328 - dense_1_loss_19: 0.0370 - dense_1_loss_20: 0.0404 - dense_1_loss_21: 0.0396 - dense_1_loss_22: 0.0380 - dense_1_loss_23: 0.0357 - dense_1_loss_24: 0.0345 - dense_1_loss_25: 0.0400 - dense_1_loss_26: 0.0370 - dense_1_loss_27: 0.0365 - dense_1_loss_28: 0.0376 - dense_1_loss_29: 0.0436 - dense_1_loss_30: 0.0000e+00 - dense_1_acc_1: 0.1000 - dense_1_acc_2: 0.6333 - dense_1_acc_3: 0.9000 - dense_1_acc_4: 1.0000 - dense_1_acc_5: 1.0000 - dense_1_acc_6: 1.0000 - dense_1_acc_7: 1.0000 - dense_1_acc_8: 1.0000 - dense_1_acc_9: 1.0000 - dense_1_acc_10: 1.0000 - dense_1_acc_11: 1.0000 - dense_1_acc_12: 1.0000 - dense_1_acc_13: 1.0000 - dense_1_acc_14: 1.0000 - dense_1_acc_15: 1.0000 - dense_1_acc_16: 1.0000 - dense_1_acc_17: 1.0000 - dense_1_acc_18: 1.0000 - dense_1_acc_19: 1.0000 - dense_1_acc_20: 1.0000 - dense_1_acc_21: 1.0000 - dense_1_acc_22: 1.0000 - dense_1_acc_23: 1.0000 - dense_1_acc_24: 1.0000 - dense_1_acc_25: 1.0000 - dense_1_acc_26: 1.0000 - dense_1_acc_27: 1.0000 - dense_1_acc_28: 1.0000 - dense_1_acc_29: 1.0000 - dense_1_acc_30: 0.0000e+00     \n",
      "Epoch 80/100\n",
      "60/60 [==============================] - 0s - loss: 6.7984 - dense_1_loss_1: 3.8169 - dense_1_loss_2: 1.4166 - dense_1_loss_3: 0.4370 - dense_1_loss_4: 0.1172 - dense_1_loss_5: 0.0887 - dense_1_loss_6: 0.0664 - dense_1_loss_7: 0.0521 - dense_1_loss_8: 0.0468 - dense_1_loss_9: 0.0442 - dense_1_loss_10: 0.0364 - dense_1_loss_11: 0.0381 - dense_1_loss_12: 0.0362 - dense_1_loss_13: 0.0296 - dense_1_loss_14: 0.0319 - dense_1_loss_15: 0.0328 - dense_1_loss_16: 0.0350 - dense_1_loss_17: 0.0332 - dense_1_loss_18: 0.0319 - dense_1_loss_19: 0.0360 - dense_1_loss_20: 0.0391 - dense_1_loss_21: 0.0385 - dense_1_loss_22: 0.0369 - dense_1_loss_23: 0.0346 - dense_1_loss_24: 0.0335 - dense_1_loss_25: 0.0388 - dense_1_loss_26: 0.0359 - dense_1_loss_27: 0.0355 - dense_1_loss_28: 0.0365 - dense_1_loss_29: 0.0422 - dense_1_loss_30: 0.0000e+00 - dense_1_acc_1: 0.1000 - dense_1_acc_2: 0.6333 - dense_1_acc_3: 0.9000 - dense_1_acc_4: 1.0000 - dense_1_acc_5: 1.0000 - dense_1_acc_6: 1.0000 - dense_1_acc_7: 1.0000 - dense_1_acc_8: 1.0000 - dense_1_acc_9: 1.0000 - dense_1_acc_10: 1.0000 - dense_1_acc_11: 1.0000 - dense_1_acc_12: 1.0000 - dense_1_acc_13: 1.0000 - dense_1_acc_14: 1.0000 - dense_1_acc_15: 1.0000 - dense_1_acc_16: 1.0000 - dense_1_acc_17: 1.0000 - dense_1_acc_18: 1.0000 - dense_1_acc_19: 1.0000 - dense_1_acc_20: 1.0000 - dense_1_acc_21: 1.0000 - dense_1_acc_22: 1.0000 - dense_1_acc_23: 1.0000 - dense_1_acc_24: 1.0000 - dense_1_acc_25: 1.0000 - dense_1_acc_26: 1.0000 - dense_1_acc_27: 1.0000 - dense_1_acc_28: 1.0000 - dense_1_acc_29: 1.0000 - dense_1_acc_30: 0.0000e+00     \n",
      "Epoch 81/100\n"
     ]
    },
    {
     "name": "stdout",
     "output_type": "stream",
     "text": [
      "60/60 [==============================] - 0s - loss: 6.7404 - dense_1_loss_1: 3.8137 - dense_1_loss_2: 1.4017 - dense_1_loss_3: 0.4276 - dense_1_loss_4: 0.1144 - dense_1_loss_5: 0.0861 - dense_1_loss_6: 0.0644 - dense_1_loss_7: 0.0508 - dense_1_loss_8: 0.0454 - dense_1_loss_9: 0.0425 - dense_1_loss_10: 0.0354 - dense_1_loss_11: 0.0371 - dense_1_loss_12: 0.0352 - dense_1_loss_13: 0.0288 - dense_1_loss_14: 0.0311 - dense_1_loss_15: 0.0320 - dense_1_loss_16: 0.0340 - dense_1_loss_17: 0.0323 - dense_1_loss_18: 0.0311 - dense_1_loss_19: 0.0350 - dense_1_loss_20: 0.0380 - dense_1_loss_21: 0.0376 - dense_1_loss_22: 0.0360 - dense_1_loss_23: 0.0336 - dense_1_loss_24: 0.0327 - dense_1_loss_25: 0.0378 - dense_1_loss_26: 0.0349 - dense_1_loss_27: 0.0346 - dense_1_loss_28: 0.0357 - dense_1_loss_29: 0.0411 - dense_1_loss_30: 0.0000e+00 - dense_1_acc_1: 0.1000 - dense_1_acc_2: 0.6333 - dense_1_acc_3: 0.9000 - dense_1_acc_4: 1.0000 - dense_1_acc_5: 1.0000 - dense_1_acc_6: 1.0000 - dense_1_acc_7: 1.0000 - dense_1_acc_8: 1.0000 - dense_1_acc_9: 1.0000 - dense_1_acc_10: 1.0000 - dense_1_acc_11: 1.0000 - dense_1_acc_12: 1.0000 - dense_1_acc_13: 1.0000 - dense_1_acc_14: 1.0000 - dense_1_acc_15: 1.0000 - dense_1_acc_16: 1.0000 - dense_1_acc_17: 1.0000 - dense_1_acc_18: 1.0000 - dense_1_acc_19: 1.0000 - dense_1_acc_20: 1.0000 - dense_1_acc_21: 1.0000 - dense_1_acc_22: 1.0000 - dense_1_acc_23: 1.0000 - dense_1_acc_24: 1.0000 - dense_1_acc_25: 1.0000 - dense_1_acc_26: 1.0000 - dense_1_acc_27: 1.0000 - dense_1_acc_28: 1.0000 - dense_1_acc_29: 1.0000 - dense_1_acc_30: 0.0000e+00     \n",
      "Epoch 82/100\n",
      "60/60 [==============================] - 0s - loss: 6.6860 - dense_1_loss_1: 3.8104 - dense_1_loss_2: 1.3872 - dense_1_loss_3: 0.4197 - dense_1_loss_4: 0.1117 - dense_1_loss_5: 0.0840 - dense_1_loss_6: 0.0630 - dense_1_loss_7: 0.0496 - dense_1_loss_8: 0.0443 - dense_1_loss_9: 0.0413 - dense_1_loss_10: 0.0345 - dense_1_loss_11: 0.0362 - dense_1_loss_12: 0.0342 - dense_1_loss_13: 0.0280 - dense_1_loss_14: 0.0303 - dense_1_loss_15: 0.0311 - dense_1_loss_16: 0.0331 - dense_1_loss_17: 0.0314 - dense_1_loss_18: 0.0302 - dense_1_loss_19: 0.0340 - dense_1_loss_20: 0.0370 - dense_1_loss_21: 0.0366 - dense_1_loss_22: 0.0349 - dense_1_loss_23: 0.0326 - dense_1_loss_24: 0.0318 - dense_1_loss_25: 0.0367 - dense_1_loss_26: 0.0339 - dense_1_loss_27: 0.0336 - dense_1_loss_28: 0.0348 - dense_1_loss_29: 0.0398 - dense_1_loss_30: 0.0000e+00 - dense_1_acc_1: 0.1000 - dense_1_acc_2: 0.6333 - dense_1_acc_3: 0.9000 - dense_1_acc_4: 1.0000 - dense_1_acc_5: 1.0000 - dense_1_acc_6: 1.0000 - dense_1_acc_7: 1.0000 - dense_1_acc_8: 1.0000 - dense_1_acc_9: 1.0000 - dense_1_acc_10: 1.0000 - dense_1_acc_11: 1.0000 - dense_1_acc_12: 1.0000 - dense_1_acc_13: 1.0000 - dense_1_acc_14: 1.0000 - dense_1_acc_15: 1.0000 - dense_1_acc_16: 1.0000 - dense_1_acc_17: 1.0000 - dense_1_acc_18: 1.0000 - dense_1_acc_19: 1.0000 - dense_1_acc_20: 1.0000 - dense_1_acc_21: 1.0000 - dense_1_acc_22: 1.0000 - dense_1_acc_23: 1.0000 - dense_1_acc_24: 1.0000 - dense_1_acc_25: 1.0000 - dense_1_acc_26: 1.0000 - dense_1_acc_27: 1.0000 - dense_1_acc_28: 1.0000 - dense_1_acc_29: 1.0000 - dense_1_acc_30: 0.0000e+00     \n",
      "Epoch 83/100\n",
      "60/60 [==============================] - 0s - loss: 6.6305 - dense_1_loss_1: 3.8072 - dense_1_loss_2: 1.3720 - dense_1_loss_3: 0.4112 - dense_1_loss_4: 0.1087 - dense_1_loss_5: 0.0817 - dense_1_loss_6: 0.0612 - dense_1_loss_7: 0.0482 - dense_1_loss_8: 0.0431 - dense_1_loss_9: 0.0399 - dense_1_loss_10: 0.0336 - dense_1_loss_11: 0.0352 - dense_1_loss_12: 0.0334 - dense_1_loss_13: 0.0273 - dense_1_loss_14: 0.0295 - dense_1_loss_15: 0.0303 - dense_1_loss_16: 0.0322 - dense_1_loss_17: 0.0306 - dense_1_loss_18: 0.0294 - dense_1_loss_19: 0.0331 - dense_1_loss_20: 0.0362 - dense_1_loss_21: 0.0355 - dense_1_loss_22: 0.0339 - dense_1_loss_23: 0.0317 - dense_1_loss_24: 0.0310 - dense_1_loss_25: 0.0357 - dense_1_loss_26: 0.0331 - dense_1_loss_27: 0.0328 - dense_1_loss_28: 0.0339 - dense_1_loss_29: 0.0388 - dense_1_loss_30: 0.0000e+00 - dense_1_acc_1: 0.1000 - dense_1_acc_2: 0.6333 - dense_1_acc_3: 0.9000 - dense_1_acc_4: 1.0000 - dense_1_acc_5: 1.0000 - dense_1_acc_6: 1.0000 - dense_1_acc_7: 1.0000 - dense_1_acc_8: 1.0000 - dense_1_acc_9: 1.0000 - dense_1_acc_10: 1.0000 - dense_1_acc_11: 1.0000 - dense_1_acc_12: 1.0000 - dense_1_acc_13: 1.0000 - dense_1_acc_14: 1.0000 - dense_1_acc_15: 1.0000 - dense_1_acc_16: 1.0000 - dense_1_acc_17: 1.0000 - dense_1_acc_18: 1.0000 - dense_1_acc_19: 1.0000 - dense_1_acc_20: 1.0000 - dense_1_acc_21: 1.0000 - dense_1_acc_22: 1.0000 - dense_1_acc_23: 1.0000 - dense_1_acc_24: 1.0000 - dense_1_acc_25: 1.0000 - dense_1_acc_26: 1.0000 - dense_1_acc_27: 1.0000 - dense_1_acc_28: 1.0000 - dense_1_acc_29: 1.0000 - dense_1_acc_30: 0.0000e+00     \n",
      "Epoch 84/100\n",
      "60/60 [==============================] - 0s - loss: 6.5792 - dense_1_loss_1: 3.8041 - dense_1_loss_2: 1.3574 - dense_1_loss_3: 0.4039 - dense_1_loss_4: 0.1062 - dense_1_loss_5: 0.0796 - dense_1_loss_6: 0.0597 - dense_1_loss_7: 0.0471 - dense_1_loss_8: 0.0421 - dense_1_loss_9: 0.0388 - dense_1_loss_10: 0.0328 - dense_1_loss_11: 0.0343 - dense_1_loss_12: 0.0326 - dense_1_loss_13: 0.0267 - dense_1_loss_14: 0.0287 - dense_1_loss_15: 0.0295 - dense_1_loss_16: 0.0314 - dense_1_loss_17: 0.0299 - dense_1_loss_18: 0.0287 - dense_1_loss_19: 0.0323 - dense_1_loss_20: 0.0353 - dense_1_loss_21: 0.0345 - dense_1_loss_22: 0.0330 - dense_1_loss_23: 0.0308 - dense_1_loss_24: 0.0301 - dense_1_loss_25: 0.0348 - dense_1_loss_26: 0.0322 - dense_1_loss_27: 0.0320 - dense_1_loss_28: 0.0330 - dense_1_loss_29: 0.0378 - dense_1_loss_30: 0.0000e+00 - dense_1_acc_1: 0.1000 - dense_1_acc_2: 0.6500 - dense_1_acc_3: 0.9167 - dense_1_acc_4: 1.0000 - dense_1_acc_5: 1.0000 - dense_1_acc_6: 1.0000 - dense_1_acc_7: 1.0000 - dense_1_acc_8: 1.0000 - dense_1_acc_9: 1.0000 - dense_1_acc_10: 1.0000 - dense_1_acc_11: 1.0000 - dense_1_acc_12: 1.0000 - dense_1_acc_13: 1.0000 - dense_1_acc_14: 1.0000 - dense_1_acc_15: 1.0000 - dense_1_acc_16: 1.0000 - dense_1_acc_17: 1.0000 - dense_1_acc_18: 1.0000 - dense_1_acc_19: 1.0000 - dense_1_acc_20: 1.0000 - dense_1_acc_21: 1.0000 - dense_1_acc_22: 1.0000 - dense_1_acc_23: 1.0000 - dense_1_acc_24: 1.0000 - dense_1_acc_25: 1.0000 - dense_1_acc_26: 1.0000 - dense_1_acc_27: 1.0000 - dense_1_acc_28: 1.0000 - dense_1_acc_29: 1.0000 - dense_1_acc_30: 0.0000e+00     \n",
      "Epoch 85/100\n",
      "60/60 [==============================] - 0s - loss: 6.5296 - dense_1_loss_1: 3.8008 - dense_1_loss_2: 1.3442 - dense_1_loss_3: 0.3957 - dense_1_loss_4: 0.1038 - dense_1_loss_5: 0.0775 - dense_1_loss_6: 0.0581 - dense_1_loss_7: 0.0460 - dense_1_loss_8: 0.0410 - dense_1_loss_9: 0.0377 - dense_1_loss_10: 0.0320 - dense_1_loss_11: 0.0334 - dense_1_loss_12: 0.0319 - dense_1_loss_13: 0.0261 - dense_1_loss_14: 0.0279 - dense_1_loss_15: 0.0287 - dense_1_loss_16: 0.0307 - dense_1_loss_17: 0.0291 - dense_1_loss_18: 0.0280 - dense_1_loss_19: 0.0315 - dense_1_loss_20: 0.0344 - dense_1_loss_21: 0.0337 - dense_1_loss_22: 0.0322 - dense_1_loss_23: 0.0301 - dense_1_loss_24: 0.0294 - dense_1_loss_25: 0.0340 - dense_1_loss_26: 0.0315 - dense_1_loss_27: 0.0313 - dense_1_loss_28: 0.0322 - dense_1_loss_29: 0.0367 - dense_1_loss_30: 0.0000e+00 - dense_1_acc_1: 0.1000 - dense_1_acc_2: 0.6500 - dense_1_acc_3: 0.9333 - dense_1_acc_4: 1.0000 - dense_1_acc_5: 1.0000 - dense_1_acc_6: 1.0000 - dense_1_acc_7: 1.0000 - dense_1_acc_8: 1.0000 - dense_1_acc_9: 1.0000 - dense_1_acc_10: 1.0000 - dense_1_acc_11: 1.0000 - dense_1_acc_12: 1.0000 - dense_1_acc_13: 1.0000 - dense_1_acc_14: 1.0000 - dense_1_acc_15: 1.0000 - dense_1_acc_16: 1.0000 - dense_1_acc_17: 1.0000 - dense_1_acc_18: 1.0000 - dense_1_acc_19: 1.0000 - dense_1_acc_20: 1.0000 - dense_1_acc_21: 1.0000 - dense_1_acc_22: 1.0000 - dense_1_acc_23: 1.0000 - dense_1_acc_24: 1.0000 - dense_1_acc_25: 1.0000 - dense_1_acc_26: 1.0000 - dense_1_acc_27: 1.0000 - dense_1_acc_28: 1.0000 - dense_1_acc_29: 1.0000 - dense_1_acc_30: 0.0000e+00     \n",
      "Epoch 86/100\n",
      "60/60 [==============================] - 0s - loss: 6.4821 - dense_1_loss_1: 3.7980 - dense_1_loss_2: 1.3304 - dense_1_loss_3: 0.3885 - dense_1_loss_4: 0.1015 - dense_1_loss_5: 0.0757 - dense_1_loss_6: 0.0568 - dense_1_loss_7: 0.0450 - dense_1_loss_8: 0.0401 - dense_1_loss_9: 0.0366 - dense_1_loss_10: 0.0313 - dense_1_loss_11: 0.0326 - dense_1_loss_12: 0.0311 - dense_1_loss_13: 0.0254 - dense_1_loss_14: 0.0272 - dense_1_loss_15: 0.0280 - dense_1_loss_16: 0.0299 - dense_1_loss_17: 0.0285 - dense_1_loss_18: 0.0274 - dense_1_loss_19: 0.0307 - dense_1_loss_20: 0.0335 - dense_1_loss_21: 0.0328 - dense_1_loss_22: 0.0314 - dense_1_loss_23: 0.0294 - dense_1_loss_24: 0.0287 - dense_1_loss_25: 0.0332 - dense_1_loss_26: 0.0307 - dense_1_loss_27: 0.0306 - dense_1_loss_28: 0.0314 - dense_1_loss_29: 0.0358 - dense_1_loss_30: 0.0000e+00 - dense_1_acc_1: 0.1000 - dense_1_acc_2: 0.6500 - dense_1_acc_3: 0.9333 - dense_1_acc_4: 1.0000 - dense_1_acc_5: 1.0000 - dense_1_acc_6: 1.0000 - dense_1_acc_7: 1.0000 - dense_1_acc_8: 1.0000 - dense_1_acc_9: 1.0000 - dense_1_acc_10: 1.0000 - dense_1_acc_11: 1.0000 - dense_1_acc_12: 1.0000 - dense_1_acc_13: 1.0000 - dense_1_acc_14: 1.0000 - dense_1_acc_15: 1.0000 - dense_1_acc_16: 1.0000 - dense_1_acc_17: 1.0000 - dense_1_acc_18: 1.0000 - dense_1_acc_19: 1.0000 - dense_1_acc_20: 1.0000 - dense_1_acc_21: 1.0000 - dense_1_acc_22: 1.0000 - dense_1_acc_23: 1.0000 - dense_1_acc_24: 1.0000 - dense_1_acc_25: 1.0000 - dense_1_acc_26: 1.0000 - dense_1_acc_27: 1.0000 - dense_1_acc_28: 1.0000 - dense_1_acc_29: 1.0000 - dense_1_acc_30: 0.0000e+00     \n",
      "Epoch 87/100\n",
      "60/60 [==============================] - 0s - loss: 6.4365 - dense_1_loss_1: 3.7946 - dense_1_loss_2: 1.3178 - dense_1_loss_3: 0.3816 - dense_1_loss_4: 0.0994 - dense_1_loss_5: 0.0740 - dense_1_loss_6: 0.0555 - dense_1_loss_7: 0.0441 - dense_1_loss_8: 0.0392 - dense_1_loss_9: 0.0357 - dense_1_loss_10: 0.0306 - dense_1_loss_11: 0.0319 - dense_1_loss_12: 0.0303 - dense_1_loss_13: 0.0248 - dense_1_loss_14: 0.0265 - dense_1_loss_15: 0.0273 - dense_1_loss_16: 0.0292 - dense_1_loss_17: 0.0277 - dense_1_loss_18: 0.0267 - dense_1_loss_19: 0.0300 - dense_1_loss_20: 0.0327 - dense_1_loss_21: 0.0320 - dense_1_loss_22: 0.0306 - dense_1_loss_23: 0.0286 - dense_1_loss_24: 0.0280 - dense_1_loss_25: 0.0324 - dense_1_loss_26: 0.0299 - dense_1_loss_27: 0.0299 - dense_1_loss_28: 0.0307 - dense_1_loss_29: 0.0348 - dense_1_loss_30: 0.0000e+00 - dense_1_acc_1: 0.1000 - dense_1_acc_2: 0.6500 - dense_1_acc_3: 0.9333 - dense_1_acc_4: 1.0000 - dense_1_acc_5: 1.0000 - dense_1_acc_6: 1.0000 - dense_1_acc_7: 1.0000 - dense_1_acc_8: 1.0000 - dense_1_acc_9: 1.0000 - dense_1_acc_10: 1.0000 - dense_1_acc_11: 1.0000 - dense_1_acc_12: 1.0000 - dense_1_acc_13: 1.0000 - dense_1_acc_14: 1.0000 - dense_1_acc_15: 1.0000 - dense_1_acc_16: 1.0000 - dense_1_acc_17: 1.0000 - dense_1_acc_18: 1.0000 - dense_1_acc_19: 1.0000 - dense_1_acc_20: 1.0000 - dense_1_acc_21: 1.0000 - dense_1_acc_22: 1.0000 - dense_1_acc_23: 1.0000 - dense_1_acc_24: 1.0000 - dense_1_acc_25: 1.0000 - dense_1_acc_26: 1.0000 - dense_1_acc_27: 1.0000 - dense_1_acc_28: 1.0000 - dense_1_acc_29: 1.0000 - dense_1_acc_30: 0.0000e+00     \n",
      "Epoch 88/100\n",
      "60/60 [==============================] - 0s - loss: 6.3914 - dense_1_loss_1: 3.7914 - dense_1_loss_2: 1.3049 - dense_1_loss_3: 0.3746 - dense_1_loss_4: 0.0974 - dense_1_loss_5: 0.0721 - dense_1_loss_6: 0.0542 - dense_1_loss_7: 0.0432 - dense_1_loss_8: 0.0383 - dense_1_loss_9: 0.0347 - dense_1_loss_10: 0.0299 - dense_1_loss_11: 0.0312 - dense_1_loss_12: 0.0296 - dense_1_loss_13: 0.0242 - dense_1_loss_14: 0.0260 - dense_1_loss_15: 0.0267 - dense_1_loss_16: 0.0284 - dense_1_loss_17: 0.0271 - dense_1_loss_18: 0.0260 - dense_1_loss_19: 0.0293 - dense_1_loss_20: 0.0319 - dense_1_loss_21: 0.0312 - dense_1_loss_22: 0.0298 - dense_1_loss_23: 0.0279 - dense_1_loss_24: 0.0273 - dense_1_loss_25: 0.0316 - dense_1_loss_26: 0.0292 - dense_1_loss_27: 0.0292 - dense_1_loss_28: 0.0300 - dense_1_loss_29: 0.0340 - dense_1_loss_30: 0.0000e+00 - dense_1_acc_1: 0.1000 - dense_1_acc_2: 0.6500 - dense_1_acc_3: 0.9333 - dense_1_acc_4: 1.0000 - dense_1_acc_5: 1.0000 - dense_1_acc_6: 1.0000 - dense_1_acc_7: 1.0000 - dense_1_acc_8: 1.0000 - dense_1_acc_9: 1.0000 - dense_1_acc_10: 1.0000 - dense_1_acc_11: 1.0000 - dense_1_acc_12: 1.0000 - dense_1_acc_13: 1.0000 - dense_1_acc_14: 1.0000 - dense_1_acc_15: 1.0000 - dense_1_acc_16: 1.0000 - dense_1_acc_17: 1.0000 - dense_1_acc_18: 1.0000 - dense_1_acc_19: 1.0000 - dense_1_acc_20: 1.0000 - dense_1_acc_21: 1.0000 - dense_1_acc_22: 1.0000 - dense_1_acc_23: 1.0000 - dense_1_acc_24: 1.0000 - dense_1_acc_25: 1.0000 - dense_1_acc_26: 1.0000 - dense_1_acc_27: 1.0000 - dense_1_acc_28: 1.0000 - dense_1_acc_29: 1.0000 - dense_1_acc_30: 0.0000e+00     \n",
      "Epoch 89/100\n",
      "60/60 [==============================] - 0s - loss: 6.3472 - dense_1_loss_1: 3.7883 - dense_1_loss_2: 1.2917 - dense_1_loss_3: 0.3680 - dense_1_loss_4: 0.0952 - dense_1_loss_5: 0.0703 - dense_1_loss_6: 0.0528 - dense_1_loss_7: 0.0422 - dense_1_loss_8: 0.0374 - dense_1_loss_9: 0.0337 - dense_1_loss_10: 0.0293 - dense_1_loss_11: 0.0305 - dense_1_loss_12: 0.0290 - dense_1_loss_13: 0.0236 - dense_1_loss_14: 0.0254 - dense_1_loss_15: 0.0261 - dense_1_loss_16: 0.0278 - dense_1_loss_17: 0.0265 - dense_1_loss_18: 0.0255 - dense_1_loss_19: 0.0286 - dense_1_loss_20: 0.0312 - dense_1_loss_21: 0.0304 - dense_1_loss_22: 0.0291 - dense_1_loss_23: 0.0273 - dense_1_loss_24: 0.0267 - dense_1_loss_25: 0.0309 - dense_1_loss_26: 0.0286 - dense_1_loss_27: 0.0286 - dense_1_loss_28: 0.0293 - dense_1_loss_29: 0.0332 - dense_1_loss_30: 0.0000e+00 - dense_1_acc_1: 0.1000 - dense_1_acc_2: 0.6500 - dense_1_acc_3: 0.9333 - dense_1_acc_4: 1.0000 - dense_1_acc_5: 1.0000 - dense_1_acc_6: 1.0000 - dense_1_acc_7: 1.0000 - dense_1_acc_8: 1.0000 - dense_1_acc_9: 1.0000 - dense_1_acc_10: 1.0000 - dense_1_acc_11: 1.0000 - dense_1_acc_12: 1.0000 - dense_1_acc_13: 1.0000 - dense_1_acc_14: 1.0000 - dense_1_acc_15: 1.0000 - dense_1_acc_16: 1.0000 - dense_1_acc_17: 1.0000 - dense_1_acc_18: 1.0000 - dense_1_acc_19: 1.0000 - dense_1_acc_20: 1.0000 - dense_1_acc_21: 1.0000 - dense_1_acc_22: 1.0000 - dense_1_acc_23: 1.0000 - dense_1_acc_24: 1.0000 - dense_1_acc_25: 1.0000 - dense_1_acc_26: 1.0000 - dense_1_acc_27: 1.0000 - dense_1_acc_28: 1.0000 - dense_1_acc_29: 1.0000 - dense_1_acc_30: 0.0000e+00     \n",
      "Epoch 90/100\n",
      "60/60 [==============================] - 0s - loss: 6.3065 - dense_1_loss_1: 3.7853 - dense_1_loss_2: 1.2802 - dense_1_loss_3: 0.3615 - dense_1_loss_4: 0.0931 - dense_1_loss_5: 0.0689 - dense_1_loss_6: 0.0517 - dense_1_loss_7: 0.0413 - dense_1_loss_8: 0.0367 - dense_1_loss_9: 0.0330 - dense_1_loss_10: 0.0286 - dense_1_loss_11: 0.0298 - dense_1_loss_12: 0.0284 - dense_1_loss_13: 0.0231 - dense_1_loss_14: 0.0248 - dense_1_loss_15: 0.0255 - dense_1_loss_16: 0.0271 - dense_1_loss_17: 0.0259 - dense_1_loss_18: 0.0249 - dense_1_loss_19: 0.0280 - dense_1_loss_20: 0.0305 - dense_1_loss_21: 0.0297 - dense_1_loss_22: 0.0285 - dense_1_loss_23: 0.0267 - dense_1_loss_24: 0.0261 - dense_1_loss_25: 0.0303 - dense_1_loss_26: 0.0279 - dense_1_loss_27: 0.0280 - dense_1_loss_28: 0.0287 - dense_1_loss_29: 0.0324 - dense_1_loss_30: 0.0000e+00 - dense_1_acc_1: 0.1000 - dense_1_acc_2: 0.6500 - dense_1_acc_3: 0.9333 - dense_1_acc_4: 1.0000 - dense_1_acc_5: 1.0000 - dense_1_acc_6: 1.0000 - dense_1_acc_7: 1.0000 - dense_1_acc_8: 1.0000 - dense_1_acc_9: 1.0000 - dense_1_acc_10: 1.0000 - dense_1_acc_11: 1.0000 - dense_1_acc_12: 1.0000 - dense_1_acc_13: 1.0000 - dense_1_acc_14: 1.0000 - dense_1_acc_15: 1.0000 - dense_1_acc_16: 1.0000 - dense_1_acc_17: 1.0000 - dense_1_acc_18: 1.0000 - dense_1_acc_19: 1.0000 - dense_1_acc_20: 1.0000 - dense_1_acc_21: 1.0000 - dense_1_acc_22: 1.0000 - dense_1_acc_23: 1.0000 - dense_1_acc_24: 1.0000 - dense_1_acc_25: 1.0000 - dense_1_acc_26: 1.0000 - dense_1_acc_27: 1.0000 - dense_1_acc_28: 1.0000 - dense_1_acc_29: 1.0000 - dense_1_acc_30: 0.0000e+00     \n",
      "Epoch 91/100\n"
     ]
    },
    {
     "name": "stdout",
     "output_type": "stream",
     "text": [
      "60/60 [==============================] - 0s - loss: 6.2665 - dense_1_loss_1: 3.7824 - dense_1_loss_2: 1.2679 - dense_1_loss_3: 0.3563 - dense_1_loss_4: 0.0912 - dense_1_loss_5: 0.0673 - dense_1_loss_6: 0.0504 - dense_1_loss_7: 0.0404 - dense_1_loss_8: 0.0360 - dense_1_loss_9: 0.0321 - dense_1_loss_10: 0.0280 - dense_1_loss_11: 0.0292 - dense_1_loss_12: 0.0278 - dense_1_loss_13: 0.0225 - dense_1_loss_14: 0.0243 - dense_1_loss_15: 0.0249 - dense_1_loss_16: 0.0265 - dense_1_loss_17: 0.0254 - dense_1_loss_18: 0.0244 - dense_1_loss_19: 0.0273 - dense_1_loss_20: 0.0299 - dense_1_loss_21: 0.0290 - dense_1_loss_22: 0.0278 - dense_1_loss_23: 0.0261 - dense_1_loss_24: 0.0255 - dense_1_loss_25: 0.0296 - dense_1_loss_26: 0.0274 - dense_1_loss_27: 0.0274 - dense_1_loss_28: 0.0281 - dense_1_loss_29: 0.0317 - dense_1_loss_30: 0.0000e+00 - dense_1_acc_1: 0.1000 - dense_1_acc_2: 0.6500 - dense_1_acc_3: 0.9333 - dense_1_acc_4: 1.0000 - dense_1_acc_5: 1.0000 - dense_1_acc_6: 1.0000 - dense_1_acc_7: 1.0000 - dense_1_acc_8: 1.0000 - dense_1_acc_9: 1.0000 - dense_1_acc_10: 1.0000 - dense_1_acc_11: 1.0000 - dense_1_acc_12: 1.0000 - dense_1_acc_13: 1.0000 - dense_1_acc_14: 1.0000 - dense_1_acc_15: 1.0000 - dense_1_acc_16: 1.0000 - dense_1_acc_17: 1.0000 - dense_1_acc_18: 1.0000 - dense_1_acc_19: 1.0000 - dense_1_acc_20: 1.0000 - dense_1_acc_21: 1.0000 - dense_1_acc_22: 1.0000 - dense_1_acc_23: 1.0000 - dense_1_acc_24: 1.0000 - dense_1_acc_25: 1.0000 - dense_1_acc_26: 1.0000 - dense_1_acc_27: 1.0000 - dense_1_acc_28: 1.0000 - dense_1_acc_29: 1.0000 - dense_1_acc_30: 0.0000e+00     \n",
      "Epoch 92/100\n",
      "60/60 [==============================] - 0s - loss: 6.2261 - dense_1_loss_1: 3.7792 - dense_1_loss_2: 1.2558 - dense_1_loss_3: 0.3500 - dense_1_loss_4: 0.0893 - dense_1_loss_5: 0.0659 - dense_1_loss_6: 0.0493 - dense_1_loss_7: 0.0396 - dense_1_loss_8: 0.0352 - dense_1_loss_9: 0.0314 - dense_1_loss_10: 0.0274 - dense_1_loss_11: 0.0284 - dense_1_loss_12: 0.0272 - dense_1_loss_13: 0.0221 - dense_1_loss_14: 0.0237 - dense_1_loss_15: 0.0244 - dense_1_loss_16: 0.0259 - dense_1_loss_17: 0.0248 - dense_1_loss_18: 0.0238 - dense_1_loss_19: 0.0267 - dense_1_loss_20: 0.0292 - dense_1_loss_21: 0.0283 - dense_1_loss_22: 0.0272 - dense_1_loss_23: 0.0255 - dense_1_loss_24: 0.0249 - dense_1_loss_25: 0.0289 - dense_1_loss_26: 0.0268 - dense_1_loss_27: 0.0269 - dense_1_loss_28: 0.0274 - dense_1_loss_29: 0.0309 - dense_1_loss_30: 0.0000e+00 - dense_1_acc_1: 0.1000 - dense_1_acc_2: 0.6500 - dense_1_acc_3: 0.9333 - dense_1_acc_4: 1.0000 - dense_1_acc_5: 1.0000 - dense_1_acc_6: 1.0000 - dense_1_acc_7: 1.0000 - dense_1_acc_8: 1.0000 - dense_1_acc_9: 1.0000 - dense_1_acc_10: 1.0000 - dense_1_acc_11: 1.0000 - dense_1_acc_12: 1.0000 - dense_1_acc_13: 1.0000 - dense_1_acc_14: 1.0000 - dense_1_acc_15: 1.0000 - dense_1_acc_16: 1.0000 - dense_1_acc_17: 1.0000 - dense_1_acc_18: 1.0000 - dense_1_acc_19: 1.0000 - dense_1_acc_20: 1.0000 - dense_1_acc_21: 1.0000 - dense_1_acc_22: 1.0000 - dense_1_acc_23: 1.0000 - dense_1_acc_24: 1.0000 - dense_1_acc_25: 1.0000 - dense_1_acc_26: 1.0000 - dense_1_acc_27: 1.0000 - dense_1_acc_28: 1.0000 - dense_1_acc_29: 1.0000 - dense_1_acc_30: 0.0000e+00     \n",
      "Epoch 93/100\n",
      "60/60 [==============================] - 0s - loss: 6.1891 - dense_1_loss_1: 3.7762 - dense_1_loss_2: 1.2448 - dense_1_loss_3: 0.3446 - dense_1_loss_4: 0.0876 - dense_1_loss_5: 0.0645 - dense_1_loss_6: 0.0482 - dense_1_loss_7: 0.0388 - dense_1_loss_8: 0.0345 - dense_1_loss_9: 0.0306 - dense_1_loss_10: 0.0268 - dense_1_loss_11: 0.0279 - dense_1_loss_12: 0.0267 - dense_1_loss_13: 0.0216 - dense_1_loss_14: 0.0232 - dense_1_loss_15: 0.0238 - dense_1_loss_16: 0.0254 - dense_1_loss_17: 0.0243 - dense_1_loss_18: 0.0234 - dense_1_loss_19: 0.0262 - dense_1_loss_20: 0.0286 - dense_1_loss_21: 0.0277 - dense_1_loss_22: 0.0266 - dense_1_loss_23: 0.0249 - dense_1_loss_24: 0.0244 - dense_1_loss_25: 0.0283 - dense_1_loss_26: 0.0262 - dense_1_loss_27: 0.0263 - dense_1_loss_28: 0.0269 - dense_1_loss_29: 0.0303 - dense_1_loss_30: 0.0000e+00 - dense_1_acc_1: 0.1000 - dense_1_acc_2: 0.6500 - dense_1_acc_3: 0.9333 - dense_1_acc_4: 1.0000 - dense_1_acc_5: 1.0000 - dense_1_acc_6: 1.0000 - dense_1_acc_7: 1.0000 - dense_1_acc_8: 1.0000 - dense_1_acc_9: 1.0000 - dense_1_acc_10: 1.0000 - dense_1_acc_11: 1.0000 - dense_1_acc_12: 1.0000 - dense_1_acc_13: 1.0000 - dense_1_acc_14: 1.0000 - dense_1_acc_15: 1.0000 - dense_1_acc_16: 1.0000 - dense_1_acc_17: 1.0000 - dense_1_acc_18: 1.0000 - dense_1_acc_19: 1.0000 - dense_1_acc_20: 1.0000 - dense_1_acc_21: 1.0000 - dense_1_acc_22: 1.0000 - dense_1_acc_23: 1.0000 - dense_1_acc_24: 1.0000 - dense_1_acc_25: 1.0000 - dense_1_acc_26: 1.0000 - dense_1_acc_27: 1.0000 - dense_1_acc_28: 1.0000 - dense_1_acc_29: 1.0000 - dense_1_acc_30: 0.0000e+00     \n",
      "Epoch 94/100\n",
      "60/60 [==============================] - 0s - loss: 6.1524 - dense_1_loss_1: 3.7736 - dense_1_loss_2: 1.2332 - dense_1_loss_3: 0.3386 - dense_1_loss_4: 0.0861 - dense_1_loss_5: 0.0631 - dense_1_loss_6: 0.0472 - dense_1_loss_7: 0.0381 - dense_1_loss_8: 0.0338 - dense_1_loss_9: 0.0299 - dense_1_loss_10: 0.0264 - dense_1_loss_11: 0.0273 - dense_1_loss_12: 0.0261 - dense_1_loss_13: 0.0212 - dense_1_loss_14: 0.0227 - dense_1_loss_15: 0.0233 - dense_1_loss_16: 0.0250 - dense_1_loss_17: 0.0238 - dense_1_loss_18: 0.0229 - dense_1_loss_19: 0.0256 - dense_1_loss_20: 0.0280 - dense_1_loss_21: 0.0271 - dense_1_loss_22: 0.0260 - dense_1_loss_23: 0.0244 - dense_1_loss_24: 0.0238 - dense_1_loss_25: 0.0277 - dense_1_loss_26: 0.0257 - dense_1_loss_27: 0.0258 - dense_1_loss_28: 0.0263 - dense_1_loss_29: 0.0296 - dense_1_loss_30: 0.0000e+00 - dense_1_acc_1: 0.1000 - dense_1_acc_2: 0.6500 - dense_1_acc_3: 0.9333 - dense_1_acc_4: 1.0000 - dense_1_acc_5: 1.0000 - dense_1_acc_6: 1.0000 - dense_1_acc_7: 1.0000 - dense_1_acc_8: 1.0000 - dense_1_acc_9: 1.0000 - dense_1_acc_10: 1.0000 - dense_1_acc_11: 1.0000 - dense_1_acc_12: 1.0000 - dense_1_acc_13: 1.0000 - dense_1_acc_14: 1.0000 - dense_1_acc_15: 1.0000 - dense_1_acc_16: 1.0000 - dense_1_acc_17: 1.0000 - dense_1_acc_18: 1.0000 - dense_1_acc_19: 1.0000 - dense_1_acc_20: 1.0000 - dense_1_acc_21: 1.0000 - dense_1_acc_22: 1.0000 - dense_1_acc_23: 1.0000 - dense_1_acc_24: 1.0000 - dense_1_acc_25: 1.0000 - dense_1_acc_26: 1.0000 - dense_1_acc_27: 1.0000 - dense_1_acc_28: 1.0000 - dense_1_acc_29: 1.0000 - dense_1_acc_30: 0.0000e+00     \n",
      "Epoch 95/100\n",
      "60/60 [==============================] - 0s - loss: 6.1163 - dense_1_loss_1: 3.7705 - dense_1_loss_2: 1.2225 - dense_1_loss_3: 0.3327 - dense_1_loss_4: 0.0846 - dense_1_loss_5: 0.0618 - dense_1_loss_6: 0.0461 - dense_1_loss_7: 0.0375 - dense_1_loss_8: 0.0331 - dense_1_loss_9: 0.0292 - dense_1_loss_10: 0.0259 - dense_1_loss_11: 0.0268 - dense_1_loss_12: 0.0255 - dense_1_loss_13: 0.0208 - dense_1_loss_14: 0.0222 - dense_1_loss_15: 0.0229 - dense_1_loss_16: 0.0245 - dense_1_loss_17: 0.0233 - dense_1_loss_18: 0.0224 - dense_1_loss_19: 0.0251 - dense_1_loss_20: 0.0275 - dense_1_loss_21: 0.0266 - dense_1_loss_22: 0.0254 - dense_1_loss_23: 0.0239 - dense_1_loss_24: 0.0234 - dense_1_loss_25: 0.0271 - dense_1_loss_26: 0.0251 - dense_1_loss_27: 0.0252 - dense_1_loss_28: 0.0258 - dense_1_loss_29: 0.0290 - dense_1_loss_30: 0.0000e+00 - dense_1_acc_1: 0.1000 - dense_1_acc_2: 0.6500 - dense_1_acc_3: 0.9333 - dense_1_acc_4: 1.0000 - dense_1_acc_5: 1.0000 - dense_1_acc_6: 1.0000 - dense_1_acc_7: 1.0000 - dense_1_acc_8: 1.0000 - dense_1_acc_9: 1.0000 - dense_1_acc_10: 1.0000 - dense_1_acc_11: 1.0000 - dense_1_acc_12: 1.0000 - dense_1_acc_13: 1.0000 - dense_1_acc_14: 1.0000 - dense_1_acc_15: 1.0000 - dense_1_acc_16: 1.0000 - dense_1_acc_17: 1.0000 - dense_1_acc_18: 1.0000 - dense_1_acc_19: 1.0000 - dense_1_acc_20: 1.0000 - dense_1_acc_21: 1.0000 - dense_1_acc_22: 1.0000 - dense_1_acc_23: 1.0000 - dense_1_acc_24: 1.0000 - dense_1_acc_25: 1.0000 - dense_1_acc_26: 1.0000 - dense_1_acc_27: 1.0000 - dense_1_acc_28: 1.0000 - dense_1_acc_29: 1.0000 - dense_1_acc_30: 0.0000e+00     \n",
      "Epoch 96/100\n",
      "60/60 [==============================] - 0s - loss: 6.0817 - dense_1_loss_1: 3.7676 - dense_1_loss_2: 1.2116 - dense_1_loss_3: 0.3273 - dense_1_loss_4: 0.0830 - dense_1_loss_5: 0.0606 - dense_1_loss_6: 0.0453 - dense_1_loss_7: 0.0369 - dense_1_loss_8: 0.0325 - dense_1_loss_9: 0.0287 - dense_1_loss_10: 0.0254 - dense_1_loss_11: 0.0263 - dense_1_loss_12: 0.0250 - dense_1_loss_13: 0.0204 - dense_1_loss_14: 0.0218 - dense_1_loss_15: 0.0224 - dense_1_loss_16: 0.0240 - dense_1_loss_17: 0.0228 - dense_1_loss_18: 0.0220 - dense_1_loss_19: 0.0246 - dense_1_loss_20: 0.0269 - dense_1_loss_21: 0.0260 - dense_1_loss_22: 0.0249 - dense_1_loss_23: 0.0233 - dense_1_loss_24: 0.0229 - dense_1_loss_25: 0.0265 - dense_1_loss_26: 0.0246 - dense_1_loss_27: 0.0247 - dense_1_loss_28: 0.0253 - dense_1_loss_29: 0.0285 - dense_1_loss_30: 0.0000e+00 - dense_1_acc_1: 0.1000 - dense_1_acc_2: 0.6500 - dense_1_acc_3: 0.9333 - dense_1_acc_4: 1.0000 - dense_1_acc_5: 1.0000 - dense_1_acc_6: 1.0000 - dense_1_acc_7: 1.0000 - dense_1_acc_8: 1.0000 - dense_1_acc_9: 1.0000 - dense_1_acc_10: 1.0000 - dense_1_acc_11: 1.0000 - dense_1_acc_12: 1.0000 - dense_1_acc_13: 1.0000 - dense_1_acc_14: 1.0000 - dense_1_acc_15: 1.0000 - dense_1_acc_16: 1.0000 - dense_1_acc_17: 1.0000 - dense_1_acc_18: 1.0000 - dense_1_acc_19: 1.0000 - dense_1_acc_20: 1.0000 - dense_1_acc_21: 1.0000 - dense_1_acc_22: 1.0000 - dense_1_acc_23: 1.0000 - dense_1_acc_24: 1.0000 - dense_1_acc_25: 1.0000 - dense_1_acc_26: 1.0000 - dense_1_acc_27: 1.0000 - dense_1_acc_28: 1.0000 - dense_1_acc_29: 1.0000 - dense_1_acc_30: 0.0000e+00     \n",
      "Epoch 97/100\n",
      "60/60 [==============================] - 0s - loss: 6.0471 - dense_1_loss_1: 3.7647 - dense_1_loss_2: 1.2004 - dense_1_loss_3: 0.3223 - dense_1_loss_4: 0.0816 - dense_1_loss_5: 0.0593 - dense_1_loss_6: 0.0442 - dense_1_loss_7: 0.0362 - dense_1_loss_8: 0.0318 - dense_1_loss_9: 0.0281 - dense_1_loss_10: 0.0249 - dense_1_loss_11: 0.0258 - dense_1_loss_12: 0.0245 - dense_1_loss_13: 0.0199 - dense_1_loss_14: 0.0214 - dense_1_loss_15: 0.0219 - dense_1_loss_16: 0.0234 - dense_1_loss_17: 0.0223 - dense_1_loss_18: 0.0216 - dense_1_loss_19: 0.0241 - dense_1_loss_20: 0.0263 - dense_1_loss_21: 0.0255 - dense_1_loss_22: 0.0244 - dense_1_loss_23: 0.0229 - dense_1_loss_24: 0.0225 - dense_1_loss_25: 0.0259 - dense_1_loss_26: 0.0241 - dense_1_loss_27: 0.0243 - dense_1_loss_28: 0.0249 - dense_1_loss_29: 0.0279 - dense_1_loss_30: 0.0000e+00 - dense_1_acc_1: 0.1000 - dense_1_acc_2: 0.6833 - dense_1_acc_3: 0.9333 - dense_1_acc_4: 1.0000 - dense_1_acc_5: 1.0000 - dense_1_acc_6: 1.0000 - dense_1_acc_7: 1.0000 - dense_1_acc_8: 1.0000 - dense_1_acc_9: 1.0000 - dense_1_acc_10: 1.0000 - dense_1_acc_11: 1.0000 - dense_1_acc_12: 1.0000 - dense_1_acc_13: 1.0000 - dense_1_acc_14: 1.0000 - dense_1_acc_15: 1.0000 - dense_1_acc_16: 1.0000 - dense_1_acc_17: 1.0000 - dense_1_acc_18: 1.0000 - dense_1_acc_19: 1.0000 - dense_1_acc_20: 1.0000 - dense_1_acc_21: 1.0000 - dense_1_acc_22: 1.0000 - dense_1_acc_23: 1.0000 - dense_1_acc_24: 1.0000 - dense_1_acc_25: 1.0000 - dense_1_acc_26: 1.0000 - dense_1_acc_27: 1.0000 - dense_1_acc_28: 1.0000 - dense_1_acc_29: 1.0000 - dense_1_acc_30: 0.0000e+00     \n",
      "Epoch 98/100\n",
      "60/60 [==============================] - 0s - loss: 6.0157 - dense_1_loss_1: 3.7618 - dense_1_loss_2: 1.1912 - dense_1_loss_3: 0.3174 - dense_1_loss_4: 0.0801 - dense_1_loss_5: 0.0581 - dense_1_loss_6: 0.0434 - dense_1_loss_7: 0.0356 - dense_1_loss_8: 0.0312 - dense_1_loss_9: 0.0276 - dense_1_loss_10: 0.0244 - dense_1_loss_11: 0.0254 - dense_1_loss_12: 0.0240 - dense_1_loss_13: 0.0195 - dense_1_loss_14: 0.0210 - dense_1_loss_15: 0.0215 - dense_1_loss_16: 0.0230 - dense_1_loss_17: 0.0219 - dense_1_loss_18: 0.0212 - dense_1_loss_19: 0.0237 - dense_1_loss_20: 0.0258 - dense_1_loss_21: 0.0250 - dense_1_loss_22: 0.0239 - dense_1_loss_23: 0.0224 - dense_1_loss_24: 0.0220 - dense_1_loss_25: 0.0254 - dense_1_loss_26: 0.0236 - dense_1_loss_27: 0.0238 - dense_1_loss_28: 0.0244 - dense_1_loss_29: 0.0273 - dense_1_loss_30: 0.0000e+00 - dense_1_acc_1: 0.1000 - dense_1_acc_2: 0.6833 - dense_1_acc_3: 0.9333 - dense_1_acc_4: 1.0000 - dense_1_acc_5: 1.0000 - dense_1_acc_6: 1.0000 - dense_1_acc_7: 1.0000 - dense_1_acc_8: 1.0000 - dense_1_acc_9: 1.0000 - dense_1_acc_10: 1.0000 - dense_1_acc_11: 1.0000 - dense_1_acc_12: 1.0000 - dense_1_acc_13: 1.0000 - dense_1_acc_14: 1.0000 - dense_1_acc_15: 1.0000 - dense_1_acc_16: 1.0000 - dense_1_acc_17: 1.0000 - dense_1_acc_18: 1.0000 - dense_1_acc_19: 1.0000 - dense_1_acc_20: 1.0000 - dense_1_acc_21: 1.0000 - dense_1_acc_22: 1.0000 - dense_1_acc_23: 1.0000 - dense_1_acc_24: 1.0000 - dense_1_acc_25: 1.0000 - dense_1_acc_26: 1.0000 - dense_1_acc_27: 1.0000 - dense_1_acc_28: 1.0000 - dense_1_acc_29: 1.0000 - dense_1_acc_30: 0.0000e+00     \n",
      "Epoch 99/100\n",
      "60/60 [==============================] - 0s - loss: 5.9838 - dense_1_loss_1: 3.7589 - dense_1_loss_2: 1.1806 - dense_1_loss_3: 0.3128 - dense_1_loss_4: 0.0788 - dense_1_loss_5: 0.0571 - dense_1_loss_6: 0.0426 - dense_1_loss_7: 0.0349 - dense_1_loss_8: 0.0307 - dense_1_loss_9: 0.0270 - dense_1_loss_10: 0.0240 - dense_1_loss_11: 0.0248 - dense_1_loss_12: 0.0236 - dense_1_loss_13: 0.0192 - dense_1_loss_14: 0.0205 - dense_1_loss_15: 0.0211 - dense_1_loss_16: 0.0225 - dense_1_loss_17: 0.0215 - dense_1_loss_18: 0.0208 - dense_1_loss_19: 0.0232 - dense_1_loss_20: 0.0253 - dense_1_loss_21: 0.0245 - dense_1_loss_22: 0.0234 - dense_1_loss_23: 0.0220 - dense_1_loss_24: 0.0216 - dense_1_loss_25: 0.0249 - dense_1_loss_26: 0.0232 - dense_1_loss_27: 0.0234 - dense_1_loss_28: 0.0239 - dense_1_loss_29: 0.0268 - dense_1_loss_30: 0.0000e+00 - dense_1_acc_1: 0.1000 - dense_1_acc_2: 0.6833 - dense_1_acc_3: 0.9333 - dense_1_acc_4: 1.0000 - dense_1_acc_5: 1.0000 - dense_1_acc_6: 1.0000 - dense_1_acc_7: 1.0000 - dense_1_acc_8: 1.0000 - dense_1_acc_9: 1.0000 - dense_1_acc_10: 1.0000 - dense_1_acc_11: 1.0000 - dense_1_acc_12: 1.0000 - dense_1_acc_13: 1.0000 - dense_1_acc_14: 1.0000 - dense_1_acc_15: 1.0000 - dense_1_acc_16: 1.0000 - dense_1_acc_17: 1.0000 - dense_1_acc_18: 1.0000 - dense_1_acc_19: 1.0000 - dense_1_acc_20: 1.0000 - dense_1_acc_21: 1.0000 - dense_1_acc_22: 1.0000 - dense_1_acc_23: 1.0000 - dense_1_acc_24: 1.0000 - dense_1_acc_25: 1.0000 - dense_1_acc_26: 1.0000 - dense_1_acc_27: 1.0000 - dense_1_acc_28: 1.0000 - dense_1_acc_29: 1.0000 - dense_1_acc_30: 0.0000e+00     \n",
      "Epoch 100/100\n",
      "60/60 [==============================] - 0s - loss: 5.9528 - dense_1_loss_1: 3.7562 - dense_1_loss_2: 1.1707 - dense_1_loss_3: 0.3079 - dense_1_loss_4: 0.0775 - dense_1_loss_5: 0.0561 - dense_1_loss_6: 0.0418 - dense_1_loss_7: 0.0343 - dense_1_loss_8: 0.0302 - dense_1_loss_9: 0.0265 - dense_1_loss_10: 0.0235 - dense_1_loss_11: 0.0243 - dense_1_loss_12: 0.0232 - dense_1_loss_13: 0.0188 - dense_1_loss_14: 0.0202 - dense_1_loss_15: 0.0207 - dense_1_loss_16: 0.0221 - dense_1_loss_17: 0.0211 - dense_1_loss_18: 0.0204 - dense_1_loss_19: 0.0227 - dense_1_loss_20: 0.0249 - dense_1_loss_21: 0.0241 - dense_1_loss_22: 0.0230 - dense_1_loss_23: 0.0216 - dense_1_loss_24: 0.0212 - dense_1_loss_25: 0.0245 - dense_1_loss_26: 0.0228 - dense_1_loss_27: 0.0230 - dense_1_loss_28: 0.0235 - dense_1_loss_29: 0.0263 - dense_1_loss_30: 0.0000e+00 - dense_1_acc_1: 0.1000 - dense_1_acc_2: 0.6833 - dense_1_acc_3: 0.9333 - dense_1_acc_4: 1.0000 - dense_1_acc_5: 1.0000 - dense_1_acc_6: 1.0000 - dense_1_acc_7: 1.0000 - dense_1_acc_8: 1.0000 - dense_1_acc_9: 1.0000 - dense_1_acc_10: 1.0000 - dense_1_acc_11: 1.0000 - dense_1_acc_12: 1.0000 - dense_1_acc_13: 1.0000 - dense_1_acc_14: 1.0000 - dense_1_acc_15: 1.0000 - dense_1_acc_16: 1.0000 - dense_1_acc_17: 1.0000 - dense_1_acc_18: 1.0000 - dense_1_acc_19: 1.0000 - dense_1_acc_20: 1.0000 - dense_1_acc_21: 1.0000 - dense_1_acc_22: 1.0000 - dense_1_acc_23: 1.0000 - dense_1_acc_24: 1.0000 - dense_1_acc_25: 1.0000 - dense_1_acc_26: 1.0000 - dense_1_acc_27: 1.0000 - dense_1_acc_28: 1.0000 - dense_1_acc_29: 1.0000 - dense_1_acc_30: 0.0000e+00     \n"
     ]
    },
    {
     "data": {
      "text/plain": [
       "<keras.callbacks.History at 0x7f3cce35da90>"
      ]
     },
     "execution_count": 9,
     "metadata": {},
     "output_type": "execute_result"
    }
   ],
   "source": [
    "model.fit([X, a0, c0], list(Y), epochs=100)"
   ]
  },
  {
   "cell_type": "markdown",
   "metadata": {},
   "source": [
    "You should see the model loss going down. Now that you have trained a model, lets go on the the final section to implement an inference algorithm, and generate some music! "
   ]
  },
  {
   "cell_type": "markdown",
   "metadata": {},
   "source": [
    "## 3 - Generating music\n",
    "\n",
    "You now have a trained model which has learned the patterns of the jazz soloist. Lets now use this model to synthesize new music. \n",
    "\n",
    "#### 3.1 - Predicting & Sampling\n",
    "\n",
    "<img src=\"images/music_gen.png\" style=\"width:600;height:400px;\">\n",
    "\n",
    "At each step of sampling, you will take as input the activation `a` and cell state `c` from the previous state of the LSTM, forward propagate by one step, and get a new output activation as well as cell state. The new activation `a` can then be used to generate the output, using `densor` as before. \n",
    "\n",
    "To start off the model, we will initialize `x0` as well as the LSTM activation and and cell value `a0` and `c0` to be zeros. \n",
    "\n",
    "\n",
    "<!-- \n",
    "You are about to build a function that will do this inference for you. Your function takes in your previous model and the number of time steps `Ty` that you want to sample. It will return a keras model that would be able to generate sequences for you. Furthermore, the function takes in a dense layer of `78` units and the number of activations. \n",
    "!--> \n",
    "\n",
    "\n",
    "**Exercise:** Implement the function below to sample a sequence of musical values. Here are some of the key steps you'll need to implement inside the for-loop that generates the $T_y$ output characters: \n",
    "\n",
    "Step 2.A: Use `LSTM_Cell`, which inputs the previous step's `c` and `a` to generate the current step's `c` and `a`. \n",
    "\n",
    "Step 2.B: Use `densor` (defined previously) to compute a softmax on `a` to get the output for the current step. \n",
    "\n",
    "Step 2.C: Save the output you have just generated by appending it to `outputs`.\n",
    "\n",
    "Step 2.D: Sample x to the be \"out\"'s one-hot version (the prediction) so that you can pass it to the next LSTM's step.  We have already provided this line of code, which uses a [Lambda](https://keras.io/layers/core/#lambda) function. \n",
    "```python\n",
    "x = Lambda(one_hot)(out) \n",
    "```\n",
    "[Minor technical note: Rather than sampling a value at random according to the probabilities in `out`, this line of code actually chooses the single most likely note at each step using an argmax.]\n"
   ]
  },
  {
   "cell_type": "code",
   "execution_count": 10,
   "metadata": {
    "collapsed": true
   },
   "outputs": [],
   "source": [
    "# GRADED FUNCTION: music_inference_model\n",
    "\n",
    "def music_inference_model(LSTM_cell, densor, n_values = 78, n_a = 64, Ty = 100):\n",
    "    \"\"\"\n",
    "    Uses the trained \"LSTM_cell\" and \"densor\" from model() to generate a sequence of values.\n",
    "    \n",
    "    Arguments:\n",
    "    LSTM_cell -- the trained \"LSTM_cell\" from model(), Keras layer object\n",
    "    densor -- the trained \"densor\" from model(), Keras layer object\n",
    "    n_values -- integer, umber of unique values\n",
    "    n_a -- number of units in the LSTM_cell\n",
    "    Ty -- integer, number of time steps to generate\n",
    "    \n",
    "    Returns:\n",
    "    inference_model -- Keras model instance\n",
    "    \"\"\"\n",
    "    \n",
    "    # Define the input of your model with a shape \n",
    "    x0 = Input(shape=(1, n_values))\n",
    "    \n",
    "    # Define s0, initial hidden state for the decoder LSTM\n",
    "    a0 = Input(shape=(n_a,), name='a0')\n",
    "    c0 = Input(shape=(n_a,), name='c0')\n",
    "    a = a0\n",
    "    c = c0\n",
    "    x = x0\n",
    "\n",
    "    ### START CODE HERE ###\n",
    "    # Step 1: Create an empty list of \"outputs\" to later store your predicted values (≈1 line)\n",
    "    outputs = []\n",
    "    \n",
    "    # Step 2: Loop over Ty and generate a value at every time step\n",
    "    for t in range(Ty):\n",
    "        \n",
    "        # Step 2.A: Perform one step of LSTM_cell (≈1 line)\n",
    "        a, _, c = LSTM_cell(x,initial_state=[a, c])\n",
    "        \n",
    "        # Step 2.B: Apply Dense layer to the hidden state output of the LSTM_cell (≈1 line)\n",
    "        out = densor(a)\n",
    "\n",
    "        # Step 2.C: Append the prediction \"out\" to \"outputs\". out.shape = (None, 78) (≈1 line)\n",
    "        outputs.append(out)\n",
    "        \n",
    "        # Step 2.D: Select the next value according to \"out\", and set \"x\" to be the one-hot representation of the\n",
    "        #           selected value, which will be passed as the input to LSTM_cell on the next step. We have provided \n",
    "        #           the line of code you need to do this. \n",
    "        x = Lambda(one_hot)(out)\n",
    "        \n",
    "    # Step 3: Create model instance with the correct \"inputs\" and \"outputs\" (≈1 line)\n",
    "    inference_model = Model([x0,a0,c0],outputs=outputs)\n",
    "    \n",
    "    ### END CODE HERE ###\n",
    "    \n",
    "    return inference_model"
   ]
  },
  {
   "cell_type": "markdown",
   "metadata": {},
   "source": [
    "Run the cell below to define your inference model. This model is hard coded to generate 50 values."
   ]
  },
  {
   "cell_type": "code",
   "execution_count": 11,
   "metadata": {
    "collapsed": true
   },
   "outputs": [],
   "source": [
    "inference_model = music_inference_model(LSTM_cell, densor, n_values = 78, n_a = 64, Ty = 50)"
   ]
  },
  {
   "cell_type": "markdown",
   "metadata": {},
   "source": [
    "Finally, this creates the zero-valued vectors you will use to initialize `x` and the LSTM state variables `a` and `c`. "
   ]
  },
  {
   "cell_type": "code",
   "execution_count": 12,
   "metadata": {
    "collapsed": true
   },
   "outputs": [],
   "source": [
    "x_initializer = np.zeros((1, 1, 78))\n",
    "a_initializer = np.zeros((1, n_a))\n",
    "c_initializer = np.zeros((1, n_a))"
   ]
  },
  {
   "cell_type": "markdown",
   "metadata": {},
   "source": [
    "**Exercise**: Implement `predict_and_sample()`. This function takes many arguments including the inputs [x_initializer, a_initializer, c_initializer]. In order to predict the output corresponding to this input, you will need to carry-out 3 steps:\n",
    "1. Use your inference model to predict an output given your set of inputs. The output `pred` should be a list of length $T_y$ where each element is a numpy-array of shape (1, n_values).\n",
    "2. Convert `pred` into a numpy array of $T_y$ indices. Each index corresponds is computed by taking the `argmax` of an element of the `pred` list. [Hint](https://docs.scipy.org/doc/numpy/reference/generated/numpy.argmax.html).\n",
    "3. Convert the indices into their one-hot vector representations. [Hint](https://keras.io/utils/#to_categorical)."
   ]
  },
  {
   "cell_type": "code",
   "execution_count": 13,
   "metadata": {
    "collapsed": true
   },
   "outputs": [],
   "source": [
    "# GRADED FUNCTION: predict_and_sample\n",
    "\n",
    "def predict_and_sample(inference_model, x_initializer = x_initializer, a_initializer = a_initializer, \n",
    "                       c_initializer = c_initializer):\n",
    "    \"\"\"\n",
    "    Predicts the next value of values using the inference model.\n",
    "    \n",
    "    Arguments:\n",
    "    inference_model -- Keras model instance for inference time\n",
    "    x_initializer -- numpy array of shape (1, 1, 78), one-hot vector initializing the values generation\n",
    "    a_initializer -- numpy array of shape (1, n_a), initializing the hidden state of the LSTM_cell\n",
    "    c_initializer -- numpy array of shape (1, n_a), initializing the cell state of the LSTM_cel\n",
    "    \n",
    "    Returns:\n",
    "    results -- numpy-array of shape (Ty, 78), matrix of one-hot vectors representing the values generated\n",
    "    indices -- numpy-array of shape (Ty, 1), matrix of indices representing the values generated\n",
    "    \"\"\"\n",
    "    \n",
    "    ### START CODE HERE ###\n",
    "    # Step 1: Use your inference model to predict an output sequence given x_initializer, a_initializer and c_initializer.\n",
    "    pred = inference_model.predict([x_initializer,a_initializer,c_initializer])\n",
    "    # Step 2: Convert \"pred\" into an np.array() of indices with the maximum probabilities\n",
    "    indices = np.argmax(pred,2)\n",
    "    # Step 3: Convert indices to one-hot vectors, the shape of the results should be (1, )\n",
    "    results = to_categorical(indices)\n",
    "    ### END CODE HERE ###\n",
    "    \n",
    "    return results, indices"
   ]
  },
  {
   "cell_type": "code",
   "execution_count": 14,
   "metadata": {},
   "outputs": [
    {
     "name": "stdout",
     "output_type": "stream",
     "text": [
      "np.argmax(results[12]) = 66\n",
      "np.argmax(results[17]) = 9\n",
      "list(indices[12:18]) = [array([66]), array([1]), array([1]), array([1]), array([2]), array([9])]\n"
     ]
    }
   ],
   "source": [
    "results, indices = predict_and_sample(inference_model, x_initializer, a_initializer, c_initializer)\n",
    "print(\"np.argmax(results[12]) =\", np.argmax(results[12]))\n",
    "print(\"np.argmax(results[17]) =\", np.argmax(results[17]))\n",
    "print(\"list(indices[12:18]) =\", list(indices[12:18]))"
   ]
  },
  {
   "cell_type": "markdown",
   "metadata": {},
   "source": [
    "**Expected Output**: Your results may differ because Keras' results are not completely predictable. However, if you have trained your LSTM_cell with model.fit() for exactly 100 epochs as described above, you should very likely observe a sequence of indices that are not all identical. Moreover, you should observe that: np.argmax(results[12]) is the first element of list(indices[12:18]) and np.argmax(results[17]) is the last element of list(indices[12:18]). \n",
    "\n",
    "<table>\n",
    "    <tr>\n",
    "        <td>\n",
    "            **np.argmax(results[12])** =\n",
    "        </td>\n",
    "        <td>\n",
    "        1\n",
    "        </td>\n",
    "    </tr>\n",
    "    <tr>\n",
    "        <td>\n",
    "            **np.argmax(results[12])** =\n",
    "        </td>\n",
    "        <td>\n",
    "        42\n",
    "        </td>\n",
    "    </tr>\n",
    "    <tr>\n",
    "        <td>\n",
    "            **list(indices[12:18])** =\n",
    "        </td>\n",
    "        <td>\n",
    "            [array([1]), array([42]), array([54]), array([17]), array([1]), array([42])]\n",
    "        </td>\n",
    "    </tr>\n",
    "</table>"
   ]
  },
  {
   "cell_type": "markdown",
   "metadata": {},
   "source": [
    "#### 3.3 - Generate music \n",
    "\n",
    "Finally, you are ready to generate music. Your RNN generates a sequence of values. The following code generates music by first calling your `predict_and_sample()` function. These values are then post-processed into musical chords (meaning that multiple values or notes can be played at the same time). \n",
    "\n",
    "Most computational music algorithms use some post-processing because it is difficult to generate music that sounds good without such post-processing. The post-processing does things such as clean up the generated audio by making sure the same sound is not repeated too many times, that two successive notes are not too far from each other in pitch, and so on. One could argue that a lot of these post-processing steps are hacks; also, a lot the music generation literature has also focused on hand-crafting post-processors, and a lot of the output quality depends on the quality of the post-processing and not just the quality of the RNN. But this post-processing does make a huge difference, so lets use it in our implementation as well. \n",
    "\n",
    "Lets make some music! "
   ]
  },
  {
   "cell_type": "markdown",
   "metadata": {},
   "source": [
    "Run the following cell to generate music and record it into your `out_stream`. This can take a couple of minutes."
   ]
  },
  {
   "cell_type": "code",
   "execution_count": 15,
   "metadata": {
    "scrolled": false
   },
   "outputs": [
    {
     "name": "stdout",
     "output_type": "stream",
     "text": [
      "Predicting new values for different set of chords.\n",
      "Generated 51 sounds using the predicted values for the set of chords (\"1\") and after pruning\n",
      "Generated 51 sounds using the predicted values for the set of chords (\"2\") and after pruning\n",
      "Generated 51 sounds using the predicted values for the set of chords (\"3\") and after pruning\n",
      "Generated 51 sounds using the predicted values for the set of chords (\"4\") and after pruning\n",
      "Generated 51 sounds using the predicted values for the set of chords (\"5\") and after pruning\n",
      "Your generated music is saved in output/my_music.midi\n"
     ]
    }
   ],
   "source": [
    "out_stream = generate_music(inference_model)"
   ]
  },
  {
   "cell_type": "markdown",
   "metadata": {},
   "source": [
    "To listen to your music, click File->Open... Then go to \"output/\" and download \"my_music.midi\". Either play it on your computer with an application that can read midi files if you have one, or use one of the free online \"MIDI to mp3\" conversion tools to convert this to mp3.  \n",
    "\n",
    "As reference, here also is a 30sec audio clip we generated using this algorithm. "
   ]
  },
  {
   "cell_type": "code",
   "execution_count": null,
   "metadata": {
    "collapsed": true
   },
   "outputs": [],
   "source": [
    "IPython.display.Audio('./data/30s_trained_model.mp3')"
   ]
  },
  {
   "cell_type": "markdown",
   "metadata": {},
   "source": [
    "### Congratulations!\n",
    "\n",
    "You have come to the end of the notebook. \n",
    "\n",
    "<font color=\"blue\">\n",
    "Here's what you should remember:\n",
    "- A sequence model can be used to generate musical values, which are then post-processed into midi music. \n",
    "- Fairly similar models can be used to generate dinosaur names or to generate music, with the major difference being the input fed to the model.  \n",
    "- In Keras, sequence generation involves defining layers with shared weights, which are then repeated for the different time steps $1, \\ldots, T_x$. "
   ]
  },
  {
   "cell_type": "markdown",
   "metadata": {},
   "source": [
    "Congratulations on completing this assignment and generating a jazz solo! "
   ]
  },
  {
   "cell_type": "markdown",
   "metadata": {},
   "source": [
    "**References**\n",
    "\n",
    "The ideas presented in this notebook came primarily from three computational music papers cited below. The implementation here also took significant inspiration and used many components from Ji-Sung Kim's github repository.\n",
    "\n",
    "- Ji-Sung Kim, 2016, [deepjazz](https://github.com/jisungk/deepjazz)\n",
    "- Jon Gillick, Kevin Tang and Robert Keller, 2009. [Learning Jazz Grammars](http://ai.stanford.edu/~kdtang/papers/smc09-jazzgrammar.pdf)\n",
    "- Robert Keller and David Morrison, 2007, [A Grammatical Approach to Automatic Improvisation](http://smc07.uoa.gr/SMC07%20Proceedings/SMC07%20Paper%2055.pdf)\n",
    "- François Pachet, 1999, [Surprising Harmonies](http://citeseerx.ist.psu.edu/viewdoc/download?doi=10.1.1.5.7473&rep=rep1&type=pdf)\n",
    "\n",
    "We're also grateful to François Germain for valuable feedback."
   ]
  }
 ],
 "metadata": {
  "coursera": {
   "course_slug": "nlp-sequence-models",
   "graded_item_id": "EG0F7",
   "launcher_item_id": "cxJXc"
  },
  "kernelspec": {
   "display_name": "Python 3",
   "language": "python",
   "name": "python3"
  },
  "language_info": {
   "codemirror_mode": {
    "name": "ipython",
    "version": 3
   },
   "file_extension": ".py",
   "mimetype": "text/x-python",
   "name": "python",
   "nbconvert_exporter": "python",
   "pygments_lexer": "ipython3",
   "version": "3.6.0"
  }
 },
 "nbformat": 4,
 "nbformat_minor": 2
}
