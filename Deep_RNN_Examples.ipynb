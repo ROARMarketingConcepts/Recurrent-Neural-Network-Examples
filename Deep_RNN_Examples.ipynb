{
  "nbformat": 4,
  "nbformat_minor": 0,
  "metadata": {
    "colab": {
      "name": "Deep RNN Examples.ipynb",
      "version": "0.3.2",
      "provenance": [],
      "include_colab_link": true
    },
    "kernelspec": {
      "name": "python3",
      "display_name": "Python 3"
    }
  },
  "cells": [
    {
      "cell_type": "markdown",
      "metadata": {
        "id": "view-in-github",
        "colab_type": "text"
      },
      "source": [
        "<a href=\"https://colab.research.google.com/github/ROARMarketingConcepts/Recurrent-Neural-Network-Examples/blob/master/Deep_RNN_Examples.ipynb\" target=\"_parent\"><img src=\"https://colab.research.google.com/assets/colab-badge.svg\" alt=\"Open In Colab\"/></a>"
      ]
    },
    {
      "metadata": {
        "id": "urxf2PZBLoGy",
        "colab_type": "text"
      },
      "cell_type": "markdown",
      "source": [
        "### To implement a Deep RNN in TensorFlow, we create several cells and stack them into a MultiRNNCell. In the following code we stack three identical cells (but we could very well use various kinds of cells with a different number of neurons):\n",
        "\n"
      ]
    },
    {
      "metadata": {
        "id": "QxEfdHVh0Seo",
        "colab_type": "code",
        "colab": {}
      },
      "cell_type": "code",
      "source": [
        "# To support both python 2 and python 3\n",
        "from __future__ import division, print_function, unicode_literals\n",
        "\n",
        "# Common imports\n",
        "import numpy as np\n",
        "import os\n",
        "\n",
        "# to make this notebook's output stable across runs\n",
        "def reset_graph(seed=42):\n",
        "    tf.reset_default_graph()\n",
        "    tf.set_random_seed(seed)\n",
        "    np.random.seed(seed)\n",
        "\n",
        "# To plot pretty figures\n",
        "%matplotlib inline\n",
        "import matplotlib\n",
        "import matplotlib.pyplot as plt\n",
        "plt.rcParams['axes.labelsize'] = 14\n",
        "plt.rcParams['xtick.labelsize'] = 12\n",
        "plt.rcParams['ytick.labelsize'] = 12\n",
        "\n",
        "# Where to save the figures\n",
        "PROJECT_ROOT_DIR = \".\"\n",
        "CHAPTER_ID = \"rnn\"\n",
        "\n",
        "def save_fig(fig_id, tight_layout=True):\n",
        "    path = os.path.join(PROJECT_ROOT_DIR, \"images\", CHAPTER_ID, fig_id + \".png\")\n",
        "    print(\"Saving figure\", fig_id)\n",
        "    if tight_layout:\n",
        "        plt.tight_layout()\n",
        "    plt.savefig(path, format='png', dpi=300)"
      ],
      "execution_count": 0,
      "outputs": []
    },
    {
      "metadata": {
        "id": "gBwacY1G0b_y",
        "colab_type": "code",
        "colab": {}
      },
      "cell_type": "code",
      "source": [
        "import tensorflow as tf"
      ],
      "execution_count": 0,
      "outputs": []
    },
    {
      "metadata": {
        "id": "p-BzMOO6FqqY",
        "colab_type": "code",
        "colab": {}
      },
      "cell_type": "code",
      "source": [
        "reset_graph()\n",
        "\n",
        "n_inputs = 2\n",
        "n_steps = 5\n",
        "\n",
        "X = tf.placeholder(tf.float32, [None, n_steps, n_inputs])"
      ],
      "execution_count": 0,
      "outputs": []
    },
    {
      "metadata": {
        "id": "iPteEE3pGBTg",
        "colab_type": "code",
        "outputId": "2e4878c9-b3e3-41f6-b066-ddd26c702ac3",
        "colab": {
          "base_uri": "https://localhost:8080/",
          "height": 98
        }
      },
      "cell_type": "code",
      "source": [
        "n_neurons = 100\n",
        "n_layers = 3\n",
        "\n",
        "layers = [tf.contrib.rnn.BasicRNNCell(num_units=n_neurons)\n",
        "          for layer in range(n_layers)]\n",
        "multi_layer_cell = tf.contrib.rnn.MultiRNNCell(layers)\n",
        "outputs, states = tf.nn.dynamic_rnn(multi_layer_cell, X, dtype=tf.float32)"
      ],
      "execution_count": 4,
      "outputs": [
        {
          "output_type": "stream",
          "text": [
            "WARNING:tensorflow:From <ipython-input-4-01794f68ea5a>:5: BasicRNNCell.__init__ (from tensorflow.python.ops.rnn_cell_impl) is deprecated and will be removed in a future version.\n",
            "Instructions for updating:\n",
            "This class is equivalent as tf.keras.layers.SimpleRNNCell, and will be replaced by that in Tensorflow 2.0.\n"
          ],
          "name": "stdout"
        }
      ]
    },
    {
      "metadata": {
        "id": "44OOM1XYG3mQ",
        "colab_type": "code",
        "colab": {}
      },
      "cell_type": "code",
      "source": [
        "init = tf.global_variables_initializer()"
      ],
      "execution_count": 0,
      "outputs": []
    },
    {
      "metadata": {
        "id": "Y-hzlY6v9ZW3",
        "colab_type": "code",
        "colab": {}
      },
      "cell_type": "code",
      "source": [
        "X_batch = np.random.rand(2, n_steps, n_inputs)"
      ],
      "execution_count": 0,
      "outputs": []
    },
    {
      "metadata": {
        "id": "ZxkViZMHW4sT",
        "colab_type": "code",
        "colab": {}
      },
      "cell_type": "code",
      "source": [
        "with tf.Session() as sess:\n",
        "    init.run()\n",
        "    outputs_val, states_val = sess.run([outputs, states], feed_dict={X: X_batch})"
      ],
      "execution_count": 0,
      "outputs": []
    },
    {
      "metadata": {
        "id": "qVUeSDt8W7-q",
        "colab_type": "code",
        "colab": {
          "base_uri": "https://localhost:8080/",
          "height": 34
        },
        "outputId": "c53e9300-3c69-4c42-bcd2-610613803e93"
      },
      "cell_type": "code",
      "source": [
        "outputs_val.shape"
      ],
      "execution_count": 10,
      "outputs": [
        {
          "output_type": "execute_result",
          "data": {
            "text/plain": [
              "(2, 5, 100)"
            ]
          },
          "metadata": {
            "tags": []
          },
          "execution_count": 10
        }
      ]
    },
    {
      "metadata": {
        "id": "M9bBow1--tOA",
        "colab_type": "text"
      },
      "cell_type": "markdown",
      "source": [
        "### Distributing a Deep RNN Across Multiple GPUs"
      ]
    },
    {
      "metadata": {
        "id": "RyYDUWP_HDs2",
        "colab_type": "code",
        "colab": {}
      },
      "cell_type": "code",
      "source": [
        "class DeviceCellWrapper(tf.contrib.rnn.RNNCell):\n",
        "  def __init__(self, device, cell):\n",
        "    self._cell = cell\n",
        "    self._device = device\n",
        "\n",
        "  @property\n",
        "  def state_size(self):\n",
        "    return self._cell.state_size\n",
        "\n",
        "  @property\n",
        "  def output_size(self):\n",
        "    return self._cell.output_size\n",
        "\n",
        "  def __call__(self, inputs, state, scope=None):\n",
        "    with tf.device(self._device):\n",
        "        return self._cell(inputs, state, scope)"
      ],
      "execution_count": 0,
      "outputs": []
    },
    {
      "metadata": {
        "id": "wN6XkeDDAI_l",
        "colab_type": "code",
        "colab": {}
      },
      "cell_type": "code",
      "source": [
        "reset_graph()\n",
        "\n",
        "n_inputs = 5\n",
        "n_steps = 20\n",
        "n_neurons = 100\n",
        "\n",
        "X = tf.placeholder(tf.float32, shape=[None, n_steps, n_inputs])"
      ],
      "execution_count": 0,
      "outputs": []
    },
    {
      "metadata": {
        "id": "YOTsy1soAgj9",
        "colab_type": "code",
        "colab": {}
      },
      "cell_type": "code",
      "source": [
        "devices = [\"/cpu:0\", \"/cpu:0\", \"/cpu:0\"] # replace with [\"/gpu:0\", \"/gpu:1\", \"/gpu:2\"] if you have 3 GPUs\n",
        "cells = [DeviceCellWrapper(dev,tf.contrib.rnn.BasicRNNCell(num_units=n_neurons))\n",
        "         for dev in devices]\n",
        "multi_layer_cell = tf.contrib.rnn.MultiRNNCell(cells)\n",
        "outputs, states = tf.nn.dynamic_rnn(multi_layer_cell, X, dtype=tf.float32)"
      ],
      "execution_count": 0,
      "outputs": []
    },
    {
      "metadata": {
        "id": "UvdWbhxnApZj",
        "colab_type": "code",
        "colab": {}
      },
      "cell_type": "code",
      "source": [
        "init = tf.global_variables_initializer()"
      ],
      "execution_count": 0,
      "outputs": []
    },
    {
      "metadata": {
        "id": "Q-EeccAoAtt4",
        "colab_type": "code",
        "colab": {
          "base_uri": "https://localhost:8080/",
          "height": 476
        },
        "outputId": "e6f3b137-ed76-48bb-a307-00dd953c6b8f"
      },
      "cell_type": "code",
      "source": [
        "with tf.Session() as sess:\n",
        "    init.run()\n",
        "    print(sess.run(outputs, feed_dict={X: np.random.rand(2, n_steps, n_inputs)}))"
      ],
      "execution_count": 19,
      "outputs": [
        {
          "output_type": "stream",
          "text": [
            "[[[-3.2902010e-02  1.1701923e-01 -4.5899246e-02 ...  3.8447704e-02\n",
            "   -5.2490000e-02  5.8043696e-02]\n",
            "  [ 3.5428837e-02 -7.4261218e-02 -6.4237513e-02 ... -2.4575704e-01\n",
            "   -1.7762682e-01 -3.2653331e-03]\n",
            "  [ 2.5972652e-01  1.4460522e-01  3.2931221e-01 ...  3.3882204e-01\n",
            "    5.9885412e-02 -8.3144858e-02]\n",
            "  ...\n",
            "  [ 1.1804418e-01 -2.4166366e-01 -8.2779825e-01 ... -1.8578218e-01\n",
            "    1.8968213e-01 -1.3526212e-01]\n",
            "  [ 2.8783119e-01  3.9295399e-01 -3.1523648e-01 ... -7.8560874e-02\n",
            "    4.3272454e-01 -6.6182777e-02]\n",
            "  [ 7.4978012e-01  6.1105335e-01 -3.0168572e-01 ...  1.9565013e-01\n",
            "   -1.6245714e-01 -5.2396566e-02]]\n",
            "\n",
            " [[-6.6802777e-02  7.3557667e-02 -2.9027537e-02 ... -7.7996828e-02\n",
            "   -3.6577322e-02 -4.6675194e-02]\n",
            "  [ 1.7154643e-01  4.2841923e-03  2.1881519e-03 ...  3.6853828e-02\n",
            "   -8.1324145e-02  9.0100162e-02]\n",
            "  [ 3.4563683e-02 -9.5752515e-02  1.5945031e-01 ...  1.6302212e-01\n",
            "   -6.8304457e-02  1.0799057e-01]\n",
            "  ...\n",
            "  [ 1.9641407e-01 -2.1523033e-01 -5.8253795e-01 ...  3.0253306e-01\n",
            "    5.4786235e-01 -1.0628744e-02]\n",
            "  [ 2.0120700e-01  2.5265798e-02 -5.0293636e-02 ...  9.5611304e-02\n",
            "   -2.0376709e-01 -1.5269578e-01]\n",
            "  [ 4.7775805e-01  1.6660532e-01 -1.5640169e-01 ...  1.6708057e-01\n",
            "   -2.0323412e-01  7.6560260e-05]]]\n"
          ],
          "name": "stdout"
        }
      ]
    }
  ]
}