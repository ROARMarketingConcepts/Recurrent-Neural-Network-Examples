{
  "nbformat": 4,
  "nbformat_minor": 0,
  "metadata": {
    "colab": {
      "name": "RNN Example No TensorFlow.ipynb",
      "version": "0.3.2",
      "provenance": [],
      "include_colab_link": true
    },
    "kernelspec": {
      "name": "python3",
      "display_name": "Python 3"
    },
    "accelerator": "TPU"
  },
  "cells": [
    {
      "cell_type": "markdown",
      "metadata": {
        "id": "view-in-github",
        "colab_type": "text"
      },
      "source": [
        "<a href=\"https://colab.research.google.com/github/ROARMarketingConcepts/Recurrent-Neural-Network-Examples/blob/master/RNN_Example_No_TensorFlow.ipynb\" target=\"_parent\"><img src=\"https://colab.research.google.com/assets/colab-badge.svg\" alt=\"Open In Colab\"/></a>"
      ]
    },
    {
      "metadata": {
        "id": "kJD9CCjxW0On",
        "colab_type": "code",
        "colab": {}
      },
      "cell_type": "code",
      "source": [
        "# To support both python 2 and python 3\n",
        "from __future__ import division, print_function, unicode_literals\n",
        "\n",
        "# Common imports\n",
        "import numpy as np\n",
        "import os\n",
        "\n",
        "# to make this notebook's output stable across runs\n",
        "def reset_graph(seed=42):\n",
        "    tf.reset_default_graph()\n",
        "    tf.set_random_seed(seed)\n",
        "    np.random.seed(seed)\n",
        "\n",
        "# To plot pretty figures\n",
        "%matplotlib inline\n",
        "import matplotlib\n",
        "import matplotlib.pyplot as plt\n",
        "plt.rcParams['axes.labelsize'] = 14\n",
        "plt.rcParams['xtick.labelsize'] = 12\n",
        "plt.rcParams['ytick.labelsize'] = 12\n",
        "\n",
        "# Where to save the figures\n",
        "PROJECT_ROOT_DIR = \".\"\n",
        "CHAPTER_ID = \"rnn\"\n",
        "\n",
        "def save_fig(fig_id, tight_layout=True):\n",
        "    path = os.path.join(PROJECT_ROOT_DIR, \"images\", CHAPTER_ID, fig_id + \".png\")\n",
        "    print(\"Saving figure\", fig_id)\n",
        "    if tight_layout:\n",
        "        plt.tight_layout()\n",
        "    plt.savefig(path, format='png', dpi=300)"
      ],
      "execution_count": 0,
      "outputs": []
    },
    {
      "metadata": {
        "id": "1dyLC1ayXvTb",
        "colab_type": "code",
        "colab": {}
      },
      "cell_type": "code",
      "source": [
        "import tensorflow as tf"
      ],
      "execution_count": 0,
      "outputs": []
    },
    {
      "metadata": {
        "id": "uJivWUXwXVIw",
        "colab_type": "code",
        "colab": {}
      },
      "cell_type": "code",
      "source": [
        "reset_graph()\n",
        "\n",
        "n_inputs = 3\n",
        "n_neurons = 5\n",
        "\n",
        "X0 = tf.placeholder(tf.float32, [None, n_inputs])\n",
        "X1 = tf.placeholder(tf.float32, [None, n_inputs])\n",
        "\n",
        "Wx = tf.Variable(tf.random_normal(shape=[n_inputs, n_neurons],dtype=tf.float32))  # (3,5)\n",
        "Wy = tf.Variable(tf.random_normal(shape=[n_neurons,n_neurons],dtype=tf.float32))  # (5,5)\n",
        "b = tf.Variable(tf.zeros([1, n_neurons], dtype=tf.float32))\n",
        "\n",
        "Y0 = tf.tanh(tf.matmul(X0, Wx) + b)\n",
        "Y1 = tf.tanh(tf.matmul(Y0, Wy) + tf.matmul(X1, Wx) + b)\n",
        "\n",
        "init = tf.global_variables_initializer()  # Returns an Op that initializes global variables."
      ],
      "execution_count": 0,
      "outputs": []
    },
    {
      "metadata": {
        "id": "A9fWuhn8Ywop",
        "colab_type": "code",
        "colab": {}
      },
      "cell_type": "code",
      "source": [
        "import numpy as np\n",
        "\n",
        "# Mini-batch:       instance 0, instance 1, instance 2, instance 3\n",
        "X0_batch = np.array([[0, 1, 2], [3, 4, 5], [6, 7, 8], [9, 0, 1]]) # t = 0  (4,3)\n",
        "X1_batch = np.array([[9, 8, 7], [0, 0, 0], [6, 5, 4], [3, 2, 1]]) # t = 1  (4.3)\n",
        "\n",
        "with tf.Session() as sess:\n",
        "    init.run()\n",
        "    Y0_val, Y1_val = sess.run([Y0, Y1], feed_dict={X0: X0_batch, X1: X1_batch})"
      ],
      "execution_count": 0,
      "outputs": []
    },
    {
      "metadata": {
        "id": "C8Xq4M4wZA_P",
        "colab_type": "code",
        "outputId": "79ceead5-9dd9-402d-9202-ddb565312443",
        "colab": {
          "base_uri": "https://localhost:8080/",
          "height": 85
        }
      },
      "cell_type": "code",
      "source": [
        "print(Y0_val)  # (4,5) tensors for each of the 4 instances of X0"
      ],
      "execution_count": 0,
      "outputs": [
        {
          "output_type": "stream",
          "text": [
            "[[-0.0664006   0.9625767   0.68105793  0.7091854  -0.898216  ]\n",
            " [ 0.9977755  -0.71978897 -0.9965762   0.9673924  -0.9998972 ]\n",
            " [ 0.99999785 -0.99898815 -0.9999989   0.9967762  -0.9999998 ]\n",
            " [ 1.         -1.         -1.         -0.9981893   0.9995087 ]]\n"
          ],
          "name": "stdout"
        }
      ]
    },
    {
      "metadata": {
        "id": "EkoxUt5AZugB",
        "colab_type": "code",
        "outputId": "657d7b7a-ee92-44e1-e128-1aeb524b14eb",
        "colab": {
          "base_uri": "https://localhost:8080/",
          "height": 85
        }
      },
      "cell_type": "code",
      "source": [
        "print(Y1_val)  # (4,5) * (5,5) + (4,5) + (1,5) = (4,5) tensors for each of the 4 instances of X1 and Y0"
      ],
      "execution_count": 0,
      "outputs": [
        {
          "output_type": "stream",
          "text": [
            "[[ 1.         -1.         -1.          0.40200275 -0.9999998 ]\n",
            " [-0.12210425  0.6280529   0.9671843  -0.9937122  -0.25839356]\n",
            " [ 0.9999982  -0.9999994  -0.9999975  -0.85943305 -0.9999879 ]\n",
            " [ 0.99928284 -0.99999803 -0.9999058   0.98579615 -0.9220575 ]]\n"
          ],
          "name": "stdout"
        }
      ]
    }
  ]
}