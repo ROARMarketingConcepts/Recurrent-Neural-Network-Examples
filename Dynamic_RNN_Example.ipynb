{
  "nbformat": 4,
  "nbformat_minor": 0,
  "metadata": {
    "colab": {
      "name": "Dynamic RNN Example.ipynb",
      "version": "0.3.2",
      "provenance": [],
      "include_colab_link": true
    },
    "kernelspec": {
      "name": "python3",
      "display_name": "Python 3"
    }
  },
  "cells": [
    {
      "cell_type": "markdown",
      "metadata": {
        "id": "view-in-github",
        "colab_type": "text"
      },
      "source": [
        "<a href=\"https://colab.research.google.com/github/ROARMarketingConcepts/Recurrent-Neural-Network-Examples/blob/master/Dynamic_RNN_Example.ipynb\" target=\"_parent\"><img src=\"https://colab.research.google.com/assets/colab-badge.svg\" alt=\"Open In Colab\"/></a>"
      ]
    },
    {
      "metadata": {
        "id": "QxEfdHVh0Seo",
        "colab_type": "code",
        "colab": {}
      },
      "cell_type": "code",
      "source": [
        "# To support both python 2 and python 3\n",
        "from __future__ import division, print_function, unicode_literals\n",
        "\n",
        "# Common imports\n",
        "import numpy as np\n",
        "import os\n",
        "\n",
        "# to make this notebook's output stable across runs\n",
        "def reset_graph(seed=42):\n",
        "    tf.reset_default_graph()\n",
        "    tf.set_random_seed(seed)\n",
        "    np.random.seed(seed)\n",
        "\n",
        "# To plot pretty figures\n",
        "%matplotlib inline\n",
        "import matplotlib\n",
        "import matplotlib.pyplot as plt\n",
        "plt.rcParams['axes.labelsize'] = 14\n",
        "plt.rcParams['xtick.labelsize'] = 12\n",
        "plt.rcParams['ytick.labelsize'] = 12\n",
        "\n",
        "# Where to save the figures\n",
        "PROJECT_ROOT_DIR = \".\"\n",
        "CHAPTER_ID = \"rnn\"\n",
        "\n",
        "def save_fig(fig_id, tight_layout=True):\n",
        "    path = os.path.join(PROJECT_ROOT_DIR, \"images\", CHAPTER_ID, fig_id + \".png\")\n",
        "    print(\"Saving figure\", fig_id)\n",
        "    if tight_layout:\n",
        "        plt.tight_layout()\n",
        "    plt.savefig(path, format='png', dpi=300)"
      ],
      "execution_count": 0,
      "outputs": []
    },
    {
      "metadata": {
        "id": "gBwacY1G0b_y",
        "colab_type": "code",
        "colab": {}
      },
      "cell_type": "code",
      "source": [
        "import tensorflow as tf"
      ],
      "execution_count": 0,
      "outputs": []
    },
    {
      "metadata": {
        "id": "p-BzMOO6FqqY",
        "colab_type": "code",
        "colab": {}
      },
      "cell_type": "code",
      "source": [
        "n_steps = 2\n",
        "n_inputs = 3\n",
        "n_neurons = 5"
      ],
      "execution_count": 0,
      "outputs": []
    },
    {
      "metadata": {
        "id": "iPteEE3pGBTg",
        "colab_type": "code",
        "colab": {
          "base_uri": "https://localhost:8080/",
          "height": 93
        },
        "outputId": "e473bd9b-a2d4-4485-e532-51fadd4f11d3"
      },
      "cell_type": "code",
      "source": [
        "reset_graph()\n",
        "\n",
        "X = tf.placeholder(tf.float32, [None, n_steps, n_inputs])\n",
        "\n",
        "basic_cell = tf.contrib.rnn.BasicRNNCell(num_units=n_neurons)\n",
        "outputs, states = tf.nn.dynamic_rnn(basic_cell, X, dtype=tf.float32)"
      ],
      "execution_count": 6,
      "outputs": [
        {
          "output_type": "stream",
          "text": [
            "WARNING:tensorflow:From <ipython-input-6-be3cdb08b820>:5: BasicRNNCell.__init__ (from tensorflow.python.ops.rnn_cell_impl) is deprecated and will be removed in a future version.\n",
            "Instructions for updating:\n",
            "This class is equivalent as tf.keras.layers.SimpleRNNCell, and will be replaced by that in Tensorflow 2.0.\n"
          ],
          "name": "stdout"
        }
      ]
    },
    {
      "metadata": {
        "id": "44OOM1XYG3mQ",
        "colab_type": "code",
        "colab": {}
      },
      "cell_type": "code",
      "source": [
        "init = tf.global_variables_initializer()"
      ],
      "execution_count": 0,
      "outputs": []
    },
    {
      "metadata": {
        "id": "EopHf88hG9HU",
        "colab_type": "code",
        "colab": {}
      },
      "cell_type": "code",
      "source": [
        "X_batch = np.array([\n",
        "        [[0, 1, 2], [9, 8, 7]], # instance 1\n",
        "        [[3, 4, 5], [0, 0, 0]], # instance 2\n",
        "        [[6, 7, 8], [6, 5, 4]], # instance 3\n",
        "        [[9, 0, 1], [3, 2, 1]], # instance 4\n",
        "    ])\n",
        "\n",
        "with tf.Session() as sess:\n",
        "    init.run()\n",
        "    outputs_val = outputs.eval(feed_dict={X: X_batch})"
      ],
      "execution_count": 0,
      "outputs": []
    },
    {
      "metadata": {
        "id": "RyYDUWP_HDs2",
        "colab_type": "code",
        "colab": {
          "base_uri": "https://localhost:8080/",
          "height": 340
        },
        "outputId": "aaafc4fb-d4e0-41b1-ba90-362f2c2ed77e"
      },
      "cell_type": "code",
      "source": [
        "outputs_val  # tensor of dimension (4,2,4)"
      ],
      "execution_count": 11,
      "outputs": [
        {
          "output_type": "execute_result",
          "data": {
            "text/plain": [
              "array([[[-0.85115266,  0.87358344,  0.5802911 ,  0.8954789 ,\n",
              "         -0.0557505 ],\n",
              "        [-0.9999959 ,  0.9999958 ,  0.9981815 ,  1.        ,\n",
              "          0.37679607]],\n",
              "\n",
              "       [[-0.9983293 ,  0.9992038 ,  0.98071444,  0.999985  ,\n",
              "          0.25192663],\n",
              "        [-0.7081804 , -0.07723374, -0.8522789 ,  0.5845349 ,\n",
              "         -0.78780943]],\n",
              "\n",
              "       [[-0.9999826 ,  0.99999535,  0.9992863 ,  1.        ,\n",
              "          0.5159072 ],\n",
              "        [-0.9993955 ,  0.99840957,  0.83422637,  0.99999976,\n",
              "         -0.47325206]],\n",
              "\n",
              "       [[ 0.8788859 ,  0.07356028,  0.97216916,  0.9998546 ,\n",
              "         -0.7351168 ],\n",
              "        [-0.91345143,  0.36009565,  0.7624866 ,  0.99817705,\n",
              "          0.80142   ]]], dtype=float32)"
            ]
          },
          "metadata": {
            "tags": []
          },
          "execution_count": 11
        }
      ]
    },
    {
      "metadata": {
        "id": "abqRhzHSOSSE",
        "colab_type": "text"
      },
      "cell_type": "markdown",
      "source": [
        "### Suppose we have inputs of varying sequence lengths (i.e., sentences)"
      ]
    },
    {
      "metadata": {
        "id": "SDna5bLVOfLs",
        "colab_type": "code",
        "colab": {}
      },
      "cell_type": "code",
      "source": [
        "n_steps = 2\n",
        "n_inputs = 3\n",
        "n_neurons = 5\n",
        "\n",
        "reset_graph()\n",
        "\n",
        "X = tf.placeholder(tf.float32, [None, n_steps, n_inputs])\n",
        "basic_cell = tf.contrib.rnn.BasicRNNCell(num_units=n_neurons)"
      ],
      "execution_count": 0,
      "outputs": []
    },
    {
      "metadata": {
        "id": "8MY3j0smOvjk",
        "colab_type": "code",
        "colab": {}
      },
      "cell_type": "code",
      "source": [
        "seq_length = tf.placeholder(tf.int32, [None])\n",
        "outputs, states = tf.nn.dynamic_rnn(basic_cell, X, dtype=tf.float32,sequence_length=seq_length)"
      ],
      "execution_count": 0,
      "outputs": []
    },
    {
      "metadata": {
        "id": "RzmfiVt5O8Of",
        "colab_type": "code",
        "colab": {}
      },
      "cell_type": "code",
      "source": [
        "init = tf.global_variables_initializer()"
      ],
      "execution_count": 0,
      "outputs": []
    },
    {
      "metadata": {
        "id": "ZX01f21fPAo-",
        "colab_type": "code",
        "colab": {}
      },
      "cell_type": "code",
      "source": [
        "X_batch = np.array([\n",
        "        # step 0     step 1\n",
        "        [[0, 1, 2], [9, 8, 7]], # instance 1\n",
        "        [[3, 4, 5], [0, 0, 0]], # instance 2 (padded with zero vectors)\n",
        "        [[6, 7, 8], [6, 5, 4]], # instance 3\n",
        "        [[9, 0, 1], [3, 2, 1]], # instance 4\n",
        "    ])\n",
        "\n",
        "seq_length_batch = np.array([2, 1, 2, 2])   # specify the sequence length for each instance"
      ],
      "execution_count": 0,
      "outputs": []
    },
    {
      "metadata": {
        "id": "zUODSeeJPO3X",
        "colab_type": "code",
        "colab": {}
      },
      "cell_type": "code",
      "source": [
        "with tf.Session() as sess:\n",
        "    init.run()\n",
        "    outputs_val, states_val = sess.run([outputs, states], feed_dict={X: X_batch, seq_length: seq_length_batch})"
      ],
      "execution_count": 0,
      "outputs": []
    },
    {
      "metadata": {
        "id": "xmwbp0yGPcPi",
        "colab_type": "code",
        "colab": {
          "base_uri": "https://localhost:8080/",
          "height": 204
        },
        "outputId": "10305730-5870-4dee-e22e-e45e29dde321"
      },
      "cell_type": "code",
      "source": [
        "print(outputs_val)  "
      ],
      "execution_count": 26,
      "outputs": [
        {
          "output_type": "stream",
          "text": [
            "[[[-0.9123188   0.16516446  0.5548655  -0.39159346  0.20846416]\n",
            "  [-1.          0.95672596  0.99831694  0.99970174  0.96518576]]\n",
            "\n",
            " [[-0.9998612   0.6702289   0.9723653   0.6631046   0.74457586]\n",
            "  [ 0.          0.          0.          0.          0.        ]]\n",
            "\n",
            " [[-0.9999998   0.8967998   0.9986295   0.9647514   0.93661994]\n",
            "  [-0.9999526   0.96819544  0.9600285   0.98706263  0.85459226]]\n",
            "\n",
            " [[-0.96435434  0.995016   -0.36150697  0.9983377   0.99949706]\n",
            "  [-0.9613586   0.9568762   0.7132288   0.97729224 -0.0958299 ]]]\n"
          ],
          "name": "stdout"
        }
      ]
    },
    {
      "metadata": {
        "id": "JYQuhQQjPlDO",
        "colab_type": "code",
        "colab": {
          "base_uri": "https://localhost:8080/",
          "height": 85
        },
        "outputId": "df6fa0a5-f7b7-488e-f849-8ff6e1e6beaa"
      },
      "cell_type": "code",
      "source": [
        "print(states_val) # [[t=1],[t=0],[t=1],[t=1]]"
      ],
      "execution_count": 27,
      "outputs": [
        {
          "output_type": "stream",
          "text": [
            "[[-1.          0.95672596  0.99831694  0.99970174  0.96518576]\n",
            " [-0.9998612   0.6702289   0.9723653   0.6631046   0.74457586]\n",
            " [-0.9999526   0.96819544  0.9600285   0.98706263  0.85459226]\n",
            " [-0.9613586   0.9568762   0.7132288   0.97729224 -0.0958299 ]]\n"
          ],
          "name": "stdout"
        }
      ]
    }
  ]
}